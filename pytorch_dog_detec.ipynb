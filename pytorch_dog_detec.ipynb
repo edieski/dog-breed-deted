{
  "cells": [
    {
      "cell_type": "markdown",
      "metadata": {
        "id": "view-in-github",
        "colab_type": "text"
      },
      "source": [
        "<a href=\"https://colab.research.google.com/github/edieski/dog-breed-deted/blob/main/pytorch_dog_detec.ipynb\" target=\"_parent\"><img src=\"https://colab.research.google.com/assets/colab-badge.svg\" alt=\"Open In Colab\"/></a>"
      ]
    },
    {
      "cell_type": "code",
      "execution_count": null,
      "metadata": {
        "id": "kwPfcaj6eDRS"
      },
      "outputs": [],
      "source": [
        "import tarfile\n",
        "import os\n",
        "import torch\n",
        "from torch import nn\n",
        "import torchvision\n",
        "import torch.nn.functional as F\n",
        "from torchvision.datasets import ImageFolder\n",
        "from torch.utils.data import DataLoader, Dataset\n",
        "import torchvision.transforms as tt\n",
        "from torch.utils.data import random_split\n",
        "from torchvision.utils import make_grid\n",
        "from matplotlib import pyplot as plt\n",
        "from torch.utils.data.dataset import TensorDataset, ConcatDataset\n",
        "\n",
        "from PIL import Image"
      ]
    },
    {
      "cell_type": "code",
      "execution_count": null,
      "metadata": {
        "colab": {
          "base_uri": "https://localhost:8080/"
        },
        "id": "HBE62C9AoYDj",
        "outputId": "dd49d29a-aebe-419d-ab2a-3b4923626e22"
      },
      "outputs": [
        {
          "output_type": "stream",
          "name": "stdout",
          "text": [
            "Mounted at /content/drive\n"
          ]
        }
      ],
      "source": [
        "from google.colab import drive\n",
        "drive.mount('/content/drive')"
      ]
    },
    {
      "cell_type": "code",
      "execution_count": null,
      "metadata": {
        "id": "gKNzosPeeroa"
      },
      "outputs": [],
      "source": [
        "os.chdir('/content/drive/MyDrive/dog_classification/data/final_classes/')\n"
      ]
    },
    {
      "cell_type": "code",
      "source": [
        "os.getcwd()"
      ],
      "metadata": {
        "colab": {
          "base_uri": "https://localhost:8080/",
          "height": 35
        },
        "id": "zvgGKM0fqBq_",
        "outputId": "a9d2131c-b462-4ef1-b7a0-29d7dec3237a"
      },
      "execution_count": null,
      "outputs": [
        {
          "output_type": "execute_result",
          "data": {
            "text/plain": [
              "'/content/drive/MyDrive/dog_classification/data/final_classes'"
            ],
            "application/vnd.google.colaboratory.intrinsic+json": {
              "type": "string"
            }
          },
          "metadata": {},
          "execution_count": 4
        }
      ]
    },
    {
      "cell_type": "code",
      "execution_count": null,
      "metadata": {
        "id": "eoYHXGwp4Cty",
        "colab": {
          "base_uri": "https://localhost:8080/"
        },
        "outputId": "1674aac9-8d87-4e51-d48c-6eea5192b25e"
      },
      "outputs": [
        {
          "output_type": "execute_result",
          "data": {
            "text/plain": [
              "['n02099601-golden_retriever',\n",
              " 'n02110185-Siberian_husky',\n",
              " 'n02111277-Newfoundland',\n",
              " 'n02085936-Maltese_dog',\n",
              " 'n02086646-Blenheim_spaniel']"
            ]
          },
          "metadata": {},
          "execution_count": 5
        }
      ],
      "source": [
        "os.listdir()"
      ]
    },
    {
      "cell_type": "code",
      "execution_count": null,
      "metadata": {
        "id": "z79BKY8suhtW"
      },
      "outputs": [],
      "source": [
        "class Dogtaset(Dataset):\n",
        "  def __init__(self, path, transform):\n",
        "    self.path =  path\n",
        "    self.image_path = []\n",
        "    self.labels = []\n",
        "    self.label_dict = {\n",
        "\n",
        "\n",
        "    }\n",
        "\n",
        "\n",
        "    self.transform = transform\n",
        "    labels = os.listdir(self.path)\n",
        "\n",
        "    for i in range(len(labels)):\n",
        "      self.label_dict[i] = labels[i]\n",
        "    for i in range(len(self.label_dict)):\n",
        "      for k in os.listdir(f\"{self.path}/{self.label_dict[i]}\"):\n",
        "        self.labels.append(i)\n",
        "        self.image_path.append(f\"{self.path}/{self.label_dict[i]}/{k}\")\n",
        "  def __len__(self):\n",
        "    return len(self.labels)\n",
        "\n",
        "  def __getitem__(self, idx):\n",
        "      image = Image.open(self.image_path[idx])\n",
        "      if self.transform:\n",
        "        image = self.transform(image)\n",
        "      return image, torch.tensor(self.labels[idx])\n",
        "\n"
      ]
    },
    {
      "cell_type": "code",
      "source": [
        "class DatasetFromSubset(Dataset):\n",
        "    def __init__(self, subset, transform=None):\n",
        "        self.subset = subset\n",
        "        self.transform = transform\n",
        "\n",
        "    def __getitem__(self, index):\n",
        "        x, y = self.subset[index]\n",
        "        if self.transform:\n",
        "            x = self.transform(x)\n",
        "        return x, y\n",
        "\n",
        "    def __len__(self):\n",
        "        return len(self.subset)\n"
      ],
      "metadata": {
        "id": "mjbU7FqHCfKO"
      },
      "execution_count": null,
      "outputs": []
    },
    {
      "cell_type": "code",
      "execution_count": null,
      "metadata": {
        "id": "hqjiRKrXxt8i"
      },
      "outputs": [],
      "source": [
        "DogDataSet = Dogtaset('/content/drive/MyDrive/dog_classification/data/final_classes/', transform = tt.Compose([tt.ToTensor(), tt.Resize((224,224)), tt.Lambda(lambda x: x[:3]), tt.Normalize(mean=[0.485, 0.456, 0.406], std=[0.229, 0.224, 0.225])]))"
      ]
    },
    {
      "cell_type": "code",
      "execution_count": null,
      "metadata": {
        "id": "Mp3URU7J2waY"
      },
      "outputs": [],
      "source": [
        "train_set, val_set = torch.utils.data.random_split(DogDataSet, [0.8, 0.2])\n"
      ]
    },
    {
      "cell_type": "code",
      "source": [
        "transform_train = tt.RandomResizedCrop(size = (224, 224), scale = (0.2, 0.8))"
      ],
      "metadata": {
        "id": "JO4nX1ryLrPR"
      },
      "execution_count": null,
      "outputs": []
    },
    {
      "cell_type": "code",
      "source": [
        "len(train_set)"
      ],
      "metadata": {
        "colab": {
          "base_uri": "https://localhost:8080/"
        },
        "id": "2E5FwrsRZyvN",
        "outputId": "2e537be5-569f-495c-e7de-5688512c0666"
      },
      "execution_count": null,
      "outputs": [
        {
          "output_type": "execute_result",
          "data": {
            "text/plain": [
              "784"
            ]
          },
          "metadata": {},
          "execution_count": 79
        }
      ]
    },
    {
      "cell_type": "code",
      "source": [
        "augmented_set = DatasetFromSubset(train_set, transform=transform_train)\n",
        "final_trainset = torch.utils.data.ConcatDataset([train_set, augmented_set])"
      ],
      "metadata": {
        "id": "R3L2UkOCCSfr"
      },
      "execution_count": null,
      "outputs": []
    },
    {
      "cell_type": "code",
      "source": [
        "print(train_set[0][0].shape)"
      ],
      "metadata": {
        "id": "Ims7EuYkbzUa",
        "colab": {
          "base_uri": "https://localhost:8080/"
        },
        "outputId": "8cbb4119-ccaa-4581-b79e-dbf6b3b6a3b5"
      },
      "execution_count": null,
      "outputs": [
        {
          "output_type": "stream",
          "name": "stdout",
          "text": [
            "torch.Size([3, 224, 224])\n"
          ]
        }
      ]
    },
    {
      "cell_type": "code",
      "source": [
        "print(train_set[0][0].shape)"
      ],
      "metadata": {
        "colab": {
          "base_uri": "https://localhost:8080/"
        },
        "id": "nMf1tarxbzfa",
        "outputId": "6f9c87cd-7d58-4202-dc26-ec5358fa41c0"
      },
      "execution_count": null,
      "outputs": [
        {
          "output_type": "stream",
          "name": "stdout",
          "text": [
            "torch.Size([3, 224, 224])\n"
          ]
        },
        {
          "output_type": "stream",
          "name": "stderr",
          "text": [
            "/usr/local/lib/python3.10/dist-packages/torchvision/transforms/functional.py:1603: UserWarning: The default value of the antialias parameter of all the resizing transforms (Resize(), RandomResizedCrop(), etc.) will change from None to True in v0.17, in order to be consistent across the PIL and Tensor backends. To suppress this warning, directly pass antialias=True (recommended, future default), antialias=None (current default, which means False for Tensors and True for PIL), or antialias=False (only works on Tensors - PIL will still use antialiasing). This also applies if you are using the inference transforms from the models weights: update the call to weights.transforms(antialias=True).\n",
            "  warnings.warn(\n"
          ]
        }
      ]
    },
    {
      "cell_type": "markdown",
      "source": [
        "make a grid of train set and augmented se\n"
      ],
      "metadata": {
        "id": "3LZmrIqPatxm"
      }
    },
    {
      "cell_type": "code",
      "source": [
        "import random\n",
        "\n",
        "random_numbers = [random.randint(1, len(augmented_set)) for _ in range(5)]\n",
        "tensors_aug = [augmented_set[i][0] for i in random_numbers]\n",
        "tensors = [train_set[i][0] for i in random_numbers]\n",
        "grid_au = make_grid(tensors_aug)\n",
        "grid = make_grid(tensors)\n",
        "\n",
        "plt.imshow(grid_au.permute(1, 2, 0));\n",
        "plt.show()\n",
        "plt.imshow(grid.permute(1, 2, 0)) #faire un titre\n"
      ],
      "metadata": {
        "colab": {
          "base_uri": "https://localhost:8080/",
          "height": 420
        },
        "id": "LXzYV3eFeKON",
        "outputId": "a55800a0-4e39-4afc-c9d6-5c691b4fb0ab"
      },
      "execution_count": null,
      "outputs": [
        {
          "output_type": "stream",
          "name": "stderr",
          "text": [
            "/usr/local/lib/python3.10/dist-packages/torchvision/transforms/functional.py:1603: UserWarning: The default value of the antialias parameter of all the resizing transforms (Resize(), RandomResizedCrop(), etc.) will change from None to True in v0.17, in order to be consistent across the PIL and Tensor backends. To suppress this warning, directly pass antialias=True (recommended, future default), antialias=None (current default, which means False for Tensors and True for PIL), or antialias=False (only works on Tensors - PIL will still use antialiasing). This also applies if you are using the inference transforms from the models weights: update the call to weights.transforms(antialias=True).\n",
            "  warnings.warn(\n",
            "WARNING:matplotlib.image:Clipping input data to the valid range for imshow with RGB data ([0..1] for floats or [0..255] for integers).\n"
          ]
        },
        {
          "output_type": "display_data",
          "data": {
            "text/plain": [
              "<Figure size 640x480 with 1 Axes>"
            ],
            "image/png": "[encoded data removed]"
          },
          "metadata": {}
        },
        {
          "output_type": "stream",
          "name": "stderr",
          "text": [
            "WARNING:matplotlib.image:Clipping input data to the valid range for imshow with RGB data ([0..1] for floats or [0..255] for integers).\n"
          ]
        },
        {
          "output_type": "execute_result",
          "data": {
            "text/plain": [
              "<matplotlib.image.AxesImage at 0x7a854fa37820>"
            ]
          },
          "metadata": {},
          "execution_count": 31
        },
        {
          "output_type": "display_data",
          "data": {
            "text/plain": [
              "<Figure size 640x480 with 1 Axes>"
            ],
            "image/png": "[encoded data removed]"
          },
          "metadata": {}
        }
      ]
    },
    {
      "cell_type": "markdown",
      "source": [
        "## Making Data Loaders"
      ],
      "metadata": {
        "id": "Cs8OCzlBDAKR"
      }
    },
    {
      "cell_type": "code",
      "source": [
        "len(final_trainset)"
      ],
      "metadata": {
        "colab": {
          "base_uri": "https://localhost:8080/"
        },
        "id": "G_jBmTEfaEjx",
        "outputId": "02439f7e-f723-4ffc-b91d-d58e80dae282"
      },
      "execution_count": null,
      "outputs": [
        {
          "output_type": "execute_result",
          "data": {
            "text/plain": [
              "1556"
            ]
          },
          "metadata": {},
          "execution_count": 219
        }
      ]
    },
    {
      "cell_type": "code",
      "source": [
        "train_dl = DataLoader(final_trainset, batch_size=32, shuffle=True, drop_last=True)\n",
        "val_dl = DataLoader(val_set, batch_size=32, shuffle= True)"
      ],
      "metadata": {
        "id": "WIhUuFJ5DFti"
      },
      "execution_count": null,
      "outputs": []
    },
    {
      "cell_type": "markdown",
      "source": [
        "## Defining the model\n",
        "\n",
        "Output shape of conv = (W - F + 2P)/S+1"
      ],
      "metadata": {
        "id": "BwJtXlvvYQsO"
      }
    },
    {
      "cell_type": "code",
      "source": [
        "device = torch.device('cuda' if torch.cuda.is_available() else 'cpu')\n"
      ],
      "metadata": {
        "id": "4kmaeXnHarkQ"
      },
      "execution_count": null,
      "outputs": []
    },
    {
      "cell_type": "code",
      "source": [
        "class convNet(nn.Module):\n",
        "\n",
        "\n",
        "  def __init__(self):\n",
        "    super(convNet, self).__init__()\n",
        "    self.conv1 = nn.Conv2d(in_channels=3, out_channels=6, kernel_size=5)\n",
        "    self.bn1 = nn.BatchNorm2d(6)\n",
        "    self.pool = nn.MaxPool2d(2, 2) #same output calc as a conv\n",
        "    self.conv2 = nn.Conv2d(6, 16, 5)\n",
        "    self.bn2 = nn.BatchNorm2d(16)\n",
        "    self.conv3 = nn.Conv2d(16, 32, 5)\n",
        "    self.bn3 = nn.BatchNorm2d(32)\n",
        "    self.fc1 = nn.Linear(32*49*49, 10000)\n",
        "    self.fc2 = nn.Linear(10000, len(DogDataSet.label_dict))\n",
        "\n",
        "\n",
        "  def forward(self, x):\n",
        "    x = F.relu(self.bn1(self.conv1(x)))\n",
        "    x = self.pool(x)\n",
        "    x = F.relu(self.bn2(self.conv2(x)))\n",
        "    x = self.pool(x)\n",
        "    x = F.relu(self.bn3(self.conv3(x)))\n",
        "    x = x.view(-1, 32*49*49)\n",
        "    x = F.relu(self.fc1(x))\n",
        "    x = F.relu(self.fc2(x))\n",
        "    return x"
      ],
      "metadata": {
        "id": "OfKPjoLwE-_J"
      },
      "execution_count": null,
      "outputs": []
    },
    {
      "cell_type": "code",
      "source": [
        "tensor_size = (16, 3, 224, 224)\n",
        "test_tensor= torch.ones(tensor_size)"
      ],
      "metadata": {
        "id": "nPdr0aQ5gdkh"
      },
      "execution_count": null,
      "outputs": []
    },
    {
      "cell_type": "code",
      "source": [
        "test_tensor = test_tensor.to(device)"
      ],
      "metadata": {
        "id": "BTBZaSwGjMga"
      },
      "execution_count": null,
      "outputs": []
    },
    {
      "cell_type": "code",
      "source": [
        "model = convNet().to(device)"
      ],
      "metadata": {
        "id": "qA358CXBawO7"
      },
      "execution_count": null,
      "outputs": []
    },
    {
      "cell_type": "code",
      "source": [
        "model(test_tensor).shape"
      ],
      "metadata": {
        "colab": {
          "base_uri": "https://localhost:8080/"
        },
        "id": "y9zzzQZIE9Fy",
        "outputId": "8a731418-246a-4400-adb9-c4d021a767d4"
      },
      "execution_count": null,
      "outputs": [
        {
          "output_type": "execute_result",
          "data": {
            "text/plain": [
              "torch.Size([16, 5])"
            ]
          },
          "metadata": {},
          "execution_count": 151
        }
      ]
    },
    {
      "cell_type": "code",
      "source": [
        "num_epochs = 300\n",
        "lr = 0.001\n",
        "criterion = nn.CrossEntropyLoss() #softmax already included in the cross entropy\n",
        "optimizer = torch.optim.SGD(model.parameters(), lr = lr)"
      ],
      "metadata": {
        "id": "MpipGrF5EMRT"
      },
      "execution_count": null,
      "outputs": []
    },
    {
      "cell_type": "markdown",
      "source": [
        "If you add dropout layers dont forget to call model.eval() before making predictions\n",
        "Make better = add a lr scheduler\n"
      ],
      "metadata": {
        "id": "6GOuuSwyS1kV"
      }
    },
    {
      "cell_type": "code",
      "source": [
        "# get accuracy pred for each epoch and print final accuracy\n",
        "\n",
        "best_loss = None\n",
        "n_total_steps = len(train_dl)\n",
        "for epochs in range(num_epochs):\n",
        "  for i, (image, labels) in enumerate(train_dl):\n",
        "    if image.shape[1] == 3:\n",
        "      image = image.to(device)\n",
        "      labels = labels.to(device)\n",
        "\n",
        "      outputs = model(image)\n",
        "      loss = criterion(outputs, labels)\n",
        "      optimizer.zero_grad()\n",
        "      loss.backward()\n",
        "      optimizer.step()\n",
        "\n",
        "      if (i + 1) % 10 ==0:\n",
        "        print(f'step {i + 1} out of {n_total_steps} in epoch {epochs+1} out of epochs {num_epochs}, Loss :{loss.item()}')\n",
        "\n",
        "  print('finished training')\n",
        "\n",
        "\n",
        "\n",
        "\n",
        "\n",
        "\n",
        "\n"
      ],
      "metadata": {
        "id": "xCwPvGXgEbHO",
        "colab": {
          "base_uri": "https://localhost:8080/",
          "height": 1000
        },
        "outputId": "425962f9-cfe5-4b7c-aa1a-5859d908c6d3"
      },
      "execution_count": null,
      "outputs": [
        {
          "output_type": "stream",
          "name": "stdout",
          "text": [
            "step 10 out of 24 in epoch 1 out of epochs 300, Loss :0.0049274275079369545\n",
            "step 20 out of 24 in epoch 1 out of epochs 300, Loss :0.004429643042385578\n",
            "finished training\n",
            "step 10 out of 24 in epoch 2 out of epochs 300, Loss :0.0034966322127729654\n",
            "step 20 out of 24 in epoch 2 out of epochs 300, Loss :0.004374905489385128\n",
            "finished training\n",
            "step 10 out of 24 in epoch 3 out of epochs 300, Loss :0.0049902102909982204\n",
            "step 20 out of 24 in epoch 3 out of epochs 300, Loss :0.002927555702626705\n",
            "finished training\n",
            "step 10 out of 24 in epoch 4 out of epochs 300, Loss :0.0060319723561406136\n",
            "step 20 out of 24 in epoch 4 out of epochs 300, Loss :0.004543699324131012\n",
            "finished training\n",
            "step 10 out of 24 in epoch 5 out of epochs 300, Loss :0.005849895067512989\n",
            "step 20 out of 24 in epoch 5 out of epochs 300, Loss :0.007360974792391062\n",
            "finished training\n",
            "step 10 out of 24 in epoch 6 out of epochs 300, Loss :0.003332495456561446\n",
            "step 20 out of 24 in epoch 6 out of epochs 300, Loss :0.004525233991444111\n",
            "finished training\n",
            "step 10 out of 24 in epoch 7 out of epochs 300, Loss :0.005273526534438133\n",
            "step 20 out of 24 in epoch 7 out of epochs 300, Loss :0.00453870790079236\n",
            "finished training\n",
            "step 10 out of 24 in epoch 8 out of epochs 300, Loss :0.0046094548888504505\n",
            "step 20 out of 24 in epoch 8 out of epochs 300, Loss :0.0038213818334043026\n",
            "finished training\n",
            "step 10 out of 24 in epoch 9 out of epochs 300, Loss :0.008229976519942284\n",
            "step 20 out of 24 in epoch 9 out of epochs 300, Loss :0.002750692656263709\n",
            "finished training\n",
            "step 10 out of 24 in epoch 10 out of epochs 300, Loss :0.005699455738067627\n",
            "step 20 out of 24 in epoch 10 out of epochs 300, Loss :0.00390881160274148\n",
            "finished training\n",
            "step 10 out of 24 in epoch 11 out of epochs 300, Loss :0.003967167343944311\n",
            "step 20 out of 24 in epoch 11 out of epochs 300, Loss :0.005598586983978748\n",
            "finished training\n",
            "step 10 out of 24 in epoch 12 out of epochs 300, Loss :0.004801626782864332\n",
            "step 20 out of 24 in epoch 12 out of epochs 300, Loss :0.004789932165294886\n",
            "finished training\n",
            "step 10 out of 24 in epoch 13 out of epochs 300, Loss :0.004024858120828867\n",
            "step 20 out of 24 in epoch 13 out of epochs 300, Loss :0.004319614265114069\n",
            "finished training\n",
            "step 10 out of 24 in epoch 14 out of epochs 300, Loss :0.004662755876779556\n",
            "step 20 out of 24 in epoch 14 out of epochs 300, Loss :0.0041137938387691975\n",
            "finished training\n",
            "step 10 out of 24 in epoch 15 out of epochs 300, Loss :0.0055314297787845135\n",
            "step 20 out of 24 in epoch 15 out of epochs 300, Loss :0.0038263932801783085\n",
            "finished training\n",
            "step 10 out of 24 in epoch 16 out of epochs 300, Loss :0.0027712720911949873\n",
            "step 20 out of 24 in epoch 16 out of epochs 300, Loss :0.003214264987036586\n",
            "finished training\n",
            "step 10 out of 24 in epoch 17 out of epochs 300, Loss :0.007361253257840872\n",
            "step 20 out of 24 in epoch 17 out of epochs 300, Loss :0.0038715971168130636\n",
            "finished training\n",
            "step 10 out of 24 in epoch 18 out of epochs 300, Loss :0.003513199742883444\n",
            "step 20 out of 24 in epoch 18 out of epochs 300, Loss :0.004103424027562141\n",
            "finished training\n",
            "step 10 out of 24 in epoch 19 out of epochs 300, Loss :0.0035037908237427473\n",
            "step 20 out of 24 in epoch 19 out of epochs 300, Loss :0.005562120117247105\n",
            "finished training\n",
            "step 10 out of 24 in epoch 20 out of epochs 300, Loss :0.004495108965784311\n",
            "step 20 out of 24 in epoch 20 out of epochs 300, Loss :0.004528714809566736\n",
            "finished training\n",
            "step 10 out of 24 in epoch 21 out of epochs 300, Loss :0.005376162938773632\n",
            "step 20 out of 24 in epoch 21 out of epochs 300, Loss :0.003841718891635537\n",
            "finished training\n",
            "step 10 out of 24 in epoch 22 out of epochs 300, Loss :0.004763921722769737\n",
            "step 20 out of 24 in epoch 22 out of epochs 300, Loss :0.005344666540622711\n",
            "finished training\n",
            "step 10 out of 24 in epoch 23 out of epochs 300, Loss :0.003319956362247467\n",
            "step 20 out of 24 in epoch 23 out of epochs 300, Loss :0.0036177621223032475\n",
            "finished training\n",
            "step 10 out of 24 in epoch 24 out of epochs 300, Loss :0.004645478446036577\n",
            "step 20 out of 24 in epoch 24 out of epochs 300, Loss :0.003203263971954584\n",
            "finished training\n",
            "step 10 out of 24 in epoch 25 out of epochs 300, Loss :0.004186596255749464\n",
            "step 20 out of 24 in epoch 25 out of epochs 300, Loss :0.004757033195346594\n",
            "finished training\n",
            "step 10 out of 24 in epoch 26 out of epochs 300, Loss :0.00490389671176672\n",
            "step 20 out of 24 in epoch 26 out of epochs 300, Loss :0.00477240514010191\n",
            "finished training\n",
            "step 10 out of 24 in epoch 27 out of epochs 300, Loss :0.00487774470821023\n",
            "step 20 out of 24 in epoch 27 out of epochs 300, Loss :0.007974558509886265\n",
            "finished training\n",
            "step 10 out of 24 in epoch 28 out of epochs 300, Loss :0.0048352451995015144\n",
            "step 20 out of 24 in epoch 28 out of epochs 300, Loss :0.004975241608917713\n",
            "finished training\n",
            "step 10 out of 24 in epoch 29 out of epochs 300, Loss :0.0036546974442899227\n",
            "step 20 out of 24 in epoch 29 out of epochs 300, Loss :0.003359491005539894\n",
            "finished training\n",
            "step 10 out of 24 in epoch 30 out of epochs 300, Loss :0.0042543355375528336\n",
            "step 20 out of 24 in epoch 30 out of epochs 300, Loss :0.004840988665819168\n",
            "finished training\n",
            "step 10 out of 24 in epoch 31 out of epochs 300, Loss :0.0034993800800293684\n",
            "step 20 out of 24 in epoch 31 out of epochs 300, Loss :0.005001590121537447\n",
            "finished training\n",
            "step 10 out of 24 in epoch 32 out of epochs 300, Loss :0.004862522706389427\n",
            "step 20 out of 24 in epoch 32 out of epochs 300, Loss :0.003504982218146324\n",
            "finished training\n",
            "step 10 out of 24 in epoch 33 out of epochs 300, Loss :0.004443028476089239\n",
            "step 20 out of 24 in epoch 33 out of epochs 300, Loss :0.004728160332888365\n",
            "finished training\n",
            "step 10 out of 24 in epoch 34 out of epochs 300, Loss :0.00392388179898262\n",
            "step 20 out of 24 in epoch 34 out of epochs 300, Loss :0.004860770422965288\n",
            "finished training\n",
            "step 10 out of 24 in epoch 35 out of epochs 300, Loss :0.0066407048143446445\n",
            "step 20 out of 24 in epoch 35 out of epochs 300, Loss :0.0037067141383886337\n",
            "finished training\n",
            "step 10 out of 24 in epoch 36 out of epochs 300, Loss :0.004281159490346909\n",
            "step 20 out of 24 in epoch 36 out of epochs 300, Loss :0.0034719007089734077\n",
            "finished training\n",
            "step 10 out of 24 in epoch 37 out of epochs 300, Loss :0.003965022973716259\n",
            "step 20 out of 24 in epoch 37 out of epochs 300, Loss :0.0046829404309391975\n",
            "finished training\n",
            "step 10 out of 24 in epoch 38 out of epochs 300, Loss :0.003440912812948227\n",
            "step 20 out of 24 in epoch 38 out of epochs 300, Loss :0.003492180723696947\n",
            "finished training\n",
            "step 10 out of 24 in epoch 39 out of epochs 300, Loss :0.005753369070589542\n",
            "step 20 out of 24 in epoch 39 out of epochs 300, Loss :0.0033958398271352053\n",
            "finished training\n",
            "step 10 out of 24 in epoch 40 out of epochs 300, Loss :0.004241989925503731\n",
            "step 20 out of 24 in epoch 40 out of epochs 300, Loss :0.0035818677861243486\n",
            "finished training\n",
            "step 10 out of 24 in epoch 41 out of epochs 300, Loss :0.003655841574072838\n",
            "step 20 out of 24 in epoch 41 out of epochs 300, Loss :0.0034899520687758923\n",
            "finished training\n",
            "step 10 out of 24 in epoch 42 out of epochs 300, Loss :0.003173113102093339\n",
            "step 20 out of 24 in epoch 42 out of epochs 300, Loss :0.0044665890745818615\n",
            "finished training\n",
            "step 10 out of 24 in epoch 43 out of epochs 300, Loss :0.004352488089352846\n",
            "step 20 out of 24 in epoch 43 out of epochs 300, Loss :0.0035882098600268364\n",
            "finished training\n",
            "step 10 out of 24 in epoch 44 out of epochs 300, Loss :0.005377190187573433\n",
            "step 20 out of 24 in epoch 44 out of epochs 300, Loss :0.003495230805128813\n",
            "finished training\n",
            "step 10 out of 24 in epoch 45 out of epochs 300, Loss :0.003593945875763893\n",
            "step 20 out of 24 in epoch 45 out of epochs 300, Loss :0.003955925349146128\n",
            "finished training\n",
            "step 10 out of 24 in epoch 46 out of epochs 300, Loss :0.004563950467854738\n",
            "step 20 out of 24 in epoch 46 out of epochs 300, Loss :0.004461096599698067\n",
            "finished training\n",
            "step 10 out of 24 in epoch 47 out of epochs 300, Loss :0.0032757301814854145\n",
            "step 20 out of 24 in epoch 47 out of epochs 300, Loss :0.004263377282768488\n",
            "finished training\n",
            "step 10 out of 24 in epoch 48 out of epochs 300, Loss :0.003561553545296192\n",
            "step 20 out of 24 in epoch 48 out of epochs 300, Loss :0.004508424550294876\n",
            "finished training\n",
            "step 10 out of 24 in epoch 49 out of epochs 300, Loss :0.003621359821408987\n",
            "step 20 out of 24 in epoch 49 out of epochs 300, Loss :0.0034744299482554197\n",
            "finished training\n",
            "step 10 out of 24 in epoch 50 out of epochs 300, Loss :0.0036300949286669493\n",
            "step 20 out of 24 in epoch 50 out of epochs 300, Loss :0.005159634165465832\n",
            "finished training\n",
            "step 10 out of 24 in epoch 51 out of epochs 300, Loss :0.004035248886793852\n",
            "step 20 out of 24 in epoch 51 out of epochs 300, Loss :0.003265437437221408\n",
            "finished training\n",
            "step 10 out of 24 in epoch 52 out of epochs 300, Loss :0.00343672395683825\n",
            "step 20 out of 24 in epoch 52 out of epochs 300, Loss :0.00469896150752902\n",
            "finished training\n",
            "step 10 out of 24 in epoch 53 out of epochs 300, Loss :0.0029706137720495462\n",
            "step 20 out of 24 in epoch 53 out of epochs 300, Loss :0.0027086297050118446\n",
            "finished training\n",
            "step 10 out of 24 in epoch 54 out of epochs 300, Loss :0.004509631544351578\n",
            "step 20 out of 24 in epoch 54 out of epochs 300, Loss :0.0037980456836521626\n",
            "finished training\n",
            "step 10 out of 24 in epoch 55 out of epochs 300, Loss :0.004252946004271507\n",
            "step 20 out of 24 in epoch 55 out of epochs 300, Loss :0.0032961165998131037\n",
            "finished training\n",
            "step 10 out of 24 in epoch 56 out of epochs 300, Loss :0.0038236314430832863\n",
            "step 20 out of 24 in epoch 56 out of epochs 300, Loss :0.0035734367556869984\n",
            "finished training\n",
            "step 10 out of 24 in epoch 57 out of epochs 300, Loss :0.0027836502995342016\n",
            "step 20 out of 24 in epoch 57 out of epochs 300, Loss :0.0038642389699816704\n",
            "finished training\n",
            "step 10 out of 24 in epoch 58 out of epochs 300, Loss :0.005361783318221569\n",
            "step 20 out of 24 in epoch 58 out of epochs 300, Loss :0.0034804444294422865\n",
            "finished training\n",
            "step 10 out of 24 in epoch 59 out of epochs 300, Loss :0.0038011749275028706\n",
            "step 20 out of 24 in epoch 59 out of epochs 300, Loss :0.003065618919208646\n",
            "finished training\n",
            "step 10 out of 24 in epoch 60 out of epochs 300, Loss :0.00381057639606297\n",
            "step 20 out of 24 in epoch 60 out of epochs 300, Loss :0.0038431708235293627\n",
            "finished training\n",
            "step 10 out of 24 in epoch 61 out of epochs 300, Loss :0.004486175253987312\n",
            "step 20 out of 24 in epoch 61 out of epochs 300, Loss :0.003938477952033281\n",
            "finished training\n",
            "step 10 out of 24 in epoch 62 out of epochs 300, Loss :0.006368604488670826\n",
            "step 20 out of 24 in epoch 62 out of epochs 300, Loss :0.0038358161691576242\n",
            "finished training\n",
            "step 10 out of 24 in epoch 63 out of epochs 300, Loss :0.00392478983849287\n",
            "step 20 out of 24 in epoch 63 out of epochs 300, Loss :0.003348482772707939\n",
            "finished training\n",
            "step 10 out of 24 in epoch 64 out of epochs 300, Loss :0.003967776894569397\n",
            "step 20 out of 24 in epoch 64 out of epochs 300, Loss :0.004574782680720091\n",
            "finished training\n",
            "step 10 out of 24 in epoch 65 out of epochs 300, Loss :0.0028059848118573427\n",
            "step 20 out of 24 in epoch 65 out of epochs 300, Loss :0.0032651119399815798\n",
            "finished training\n",
            "step 10 out of 24 in epoch 66 out of epochs 300, Loss :0.0030645213555544615\n",
            "step 20 out of 24 in epoch 66 out of epochs 300, Loss :0.0030648100655525923\n",
            "finished training\n",
            "step 10 out of 24 in epoch 67 out of epochs 300, Loss :0.00383937219157815\n",
            "step 20 out of 24 in epoch 67 out of epochs 300, Loss :0.0025813267566263676\n",
            "finished training\n",
            "step 10 out of 24 in epoch 68 out of epochs 300, Loss :0.003060325514525175\n",
            "step 20 out of 24 in epoch 68 out of epochs 300, Loss :0.0024911705404520035\n",
            "finished training\n",
            "step 10 out of 24 in epoch 69 out of epochs 300, Loss :0.005237739998847246\n",
            "step 20 out of 24 in epoch 69 out of epochs 300, Loss :0.003161011263728142\n",
            "finished training\n",
            "step 10 out of 24 in epoch 70 out of epochs 300, Loss :0.004388962872326374\n",
            "step 20 out of 24 in epoch 70 out of epochs 300, Loss :0.0035072937607765198\n",
            "finished training\n",
            "step 10 out of 24 in epoch 71 out of epochs 300, Loss :0.0033208245877176523\n",
            "step 20 out of 24 in epoch 71 out of epochs 300, Loss :0.005263079889118671\n",
            "finished training\n",
            "step 10 out of 24 in epoch 72 out of epochs 300, Loss :0.003072788007557392\n",
            "step 20 out of 24 in epoch 72 out of epochs 300, Loss :0.004661558195948601\n",
            "finished training\n",
            "step 10 out of 24 in epoch 73 out of epochs 300, Loss :0.003941058646887541\n",
            "step 20 out of 24 in epoch 73 out of epochs 300, Loss :0.0034589315764606\n",
            "finished training\n",
            "step 10 out of 24 in epoch 74 out of epochs 300, Loss :0.003288283944129944\n",
            "step 20 out of 24 in epoch 74 out of epochs 300, Loss :0.0031691226176917553\n",
            "finished training\n",
            "step 10 out of 24 in epoch 75 out of epochs 300, Loss :0.0037185433320701122\n",
            "step 20 out of 24 in epoch 75 out of epochs 300, Loss :0.004225282929837704\n",
            "finished training\n",
            "step 10 out of 24 in epoch 76 out of epochs 300, Loss :0.002731723478063941\n",
            "step 20 out of 24 in epoch 76 out of epochs 300, Loss :0.0025289219338446856\n",
            "finished training\n",
            "step 10 out of 24 in epoch 77 out of epochs 300, Loss :0.002810194157063961\n",
            "step 20 out of 24 in epoch 77 out of epochs 300, Loss :0.002600110834464431\n",
            "finished training\n",
            "step 10 out of 24 in epoch 78 out of epochs 300, Loss :0.0034719689283519983\n",
            "step 20 out of 24 in epoch 78 out of epochs 300, Loss :0.003499126061797142\n",
            "finished training\n",
            "step 10 out of 24 in epoch 79 out of epochs 300, Loss :0.0022949015256017447\n",
            "step 20 out of 24 in epoch 79 out of epochs 300, Loss :0.002634701319038868\n",
            "finished training\n",
            "step 10 out of 24 in epoch 80 out of epochs 300, Loss :0.003166900249198079\n",
            "step 20 out of 24 in epoch 80 out of epochs 300, Loss :0.0026647516060620546\n",
            "finished training\n",
            "step 10 out of 24 in epoch 81 out of epochs 300, Loss :0.004861936904489994\n",
            "step 20 out of 24 in epoch 81 out of epochs 300, Loss :0.0035712376702576876\n",
            "finished training\n",
            "step 10 out of 24 in epoch 82 out of epochs 300, Loss :0.0031515704467892647\n",
            "step 20 out of 24 in epoch 82 out of epochs 300, Loss :0.005954411346465349\n",
            "finished training\n",
            "step 10 out of 24 in epoch 83 out of epochs 300, Loss :0.0037100324407219887\n",
            "step 20 out of 24 in epoch 83 out of epochs 300, Loss :0.0033622635528445244\n",
            "finished training\n",
            "step 10 out of 24 in epoch 84 out of epochs 300, Loss :0.00402190862223506\n",
            "step 20 out of 24 in epoch 84 out of epochs 300, Loss :0.005953773856163025\n",
            "finished training\n",
            "step 10 out of 24 in epoch 85 out of epochs 300, Loss :0.0037022847682237625\n",
            "step 20 out of 24 in epoch 85 out of epochs 300, Loss :0.0036158806178718805\n",
            "finished training\n",
            "step 10 out of 24 in epoch 86 out of epochs 300, Loss :0.0029393439181149006\n",
            "step 20 out of 24 in epoch 86 out of epochs 300, Loss :0.002923981985077262\n",
            "finished training\n",
            "step 10 out of 24 in epoch 87 out of epochs 300, Loss :0.0023828863631933928\n",
            "step 20 out of 24 in epoch 87 out of epochs 300, Loss :0.00434833113104105\n",
            "finished training\n",
            "step 10 out of 24 in epoch 88 out of epochs 300, Loss :0.003589045722037554\n",
            "step 20 out of 24 in epoch 88 out of epochs 300, Loss :0.002844307804480195\n",
            "finished training\n",
            "step 10 out of 24 in epoch 89 out of epochs 300, Loss :0.00342288869433105\n",
            "step 20 out of 24 in epoch 89 out of epochs 300, Loss :0.002628699876368046\n",
            "finished training\n",
            "step 10 out of 24 in epoch 90 out of epochs 300, Loss :0.005822471808642149\n",
            "step 20 out of 24 in epoch 90 out of epochs 300, Loss :0.0025827568024396896\n",
            "finished training\n",
            "step 10 out of 24 in epoch 91 out of epochs 300, Loss :0.0026359243784099817\n",
            "step 20 out of 24 in epoch 91 out of epochs 300, Loss :0.002872142707929015\n",
            "finished training\n",
            "step 10 out of 24 in epoch 92 out of epochs 300, Loss :0.0021503246389329433\n",
            "step 20 out of 24 in epoch 92 out of epochs 300, Loss :0.002899597166106105\n",
            "finished training\n",
            "step 10 out of 24 in epoch 93 out of epochs 300, Loss :0.0030149442609399557\n",
            "step 20 out of 24 in epoch 93 out of epochs 300, Loss :0.0028909053653478622\n",
            "finished training\n",
            "step 10 out of 24 in epoch 94 out of epochs 300, Loss :0.0035344166681170464\n",
            "step 20 out of 24 in epoch 94 out of epochs 300, Loss :0.004826750606298447\n",
            "finished training\n",
            "step 10 out of 24 in epoch 95 out of epochs 300, Loss :0.0051083811558783054\n",
            "step 20 out of 24 in epoch 95 out of epochs 300, Loss :0.002703269710764289\n",
            "finished training\n",
            "step 10 out of 24 in epoch 96 out of epochs 300, Loss :0.0025278429966419935\n",
            "step 20 out of 24 in epoch 96 out of epochs 300, Loss :0.002989816712215543\n",
            "finished training\n",
            "step 10 out of 24 in epoch 97 out of epochs 300, Loss :0.0035113913472741842\n",
            "step 20 out of 24 in epoch 97 out of epochs 300, Loss :0.003920105751603842\n",
            "finished training\n",
            "step 10 out of 24 in epoch 98 out of epochs 300, Loss :0.002649523550644517\n",
            "step 20 out of 24 in epoch 98 out of epochs 300, Loss :0.003075190121307969\n",
            "finished training\n",
            "step 10 out of 24 in epoch 99 out of epochs 300, Loss :0.003306368598714471\n",
            "step 20 out of 24 in epoch 99 out of epochs 300, Loss :0.003319760551676154\n",
            "finished training\n",
            "step 10 out of 24 in epoch 100 out of epochs 300, Loss :0.0024359324015676975\n",
            "step 20 out of 24 in epoch 100 out of epochs 300, Loss :0.003905791789293289\n",
            "finished training\n",
            "step 10 out of 24 in epoch 101 out of epochs 300, Loss :0.004094036296010017\n",
            "step 20 out of 24 in epoch 101 out of epochs 300, Loss :0.002910344395786524\n",
            "finished training\n",
            "step 10 out of 24 in epoch 102 out of epochs 300, Loss :0.0029720470774918795\n",
            "step 20 out of 24 in epoch 102 out of epochs 300, Loss :0.006008665543049574\n",
            "finished training\n",
            "step 10 out of 24 in epoch 103 out of epochs 300, Loss :0.005099940113723278\n",
            "step 20 out of 24 in epoch 103 out of epochs 300, Loss :0.002803095616400242\n",
            "finished training\n",
            "step 10 out of 24 in epoch 104 out of epochs 300, Loss :0.0036020216066390276\n",
            "step 20 out of 24 in epoch 104 out of epochs 300, Loss :0.0035120805259793997\n",
            "finished training\n",
            "step 10 out of 24 in epoch 105 out of epochs 300, Loss :0.0029298127628862858\n",
            "step 20 out of 24 in epoch 105 out of epochs 300, Loss :0.002467287704348564\n",
            "finished training\n",
            "step 10 out of 24 in epoch 106 out of epochs 300, Loss :0.0041287741623818874\n",
            "step 20 out of 24 in epoch 106 out of epochs 300, Loss :0.0028441050089895725\n",
            "finished training\n",
            "step 10 out of 24 in epoch 107 out of epochs 300, Loss :0.002246124902740121\n",
            "step 20 out of 24 in epoch 107 out of epochs 300, Loss :0.004063754808157682\n",
            "finished training\n",
            "step 10 out of 24 in epoch 108 out of epochs 300, Loss :0.002423700410872698\n",
            "step 20 out of 24 in epoch 108 out of epochs 300, Loss :0.002077921060845256\n",
            "finished training\n",
            "step 10 out of 24 in epoch 109 out of epochs 300, Loss :0.002863988745957613\n",
            "step 20 out of 24 in epoch 109 out of epochs 300, Loss :0.00423330208286643\n",
            "finished training\n",
            "step 10 out of 24 in epoch 110 out of epochs 300, Loss :0.0028402155730873346\n",
            "step 20 out of 24 in epoch 110 out of epochs 300, Loss :0.003472645301371813\n",
            "finished training\n",
            "step 10 out of 24 in epoch 111 out of epochs 300, Loss :0.0020246305502951145\n",
            "step 20 out of 24 in epoch 111 out of epochs 300, Loss :0.004052832722663879\n",
            "finished training\n",
            "step 10 out of 24 in epoch 112 out of epochs 300, Loss :0.0030920631252229214\n",
            "step 20 out of 24 in epoch 112 out of epochs 300, Loss :0.0021396069787442684\n",
            "finished training\n",
            "step 10 out of 24 in epoch 113 out of epochs 300, Loss :0.003742360509932041\n",
            "step 20 out of 24 in epoch 113 out of epochs 300, Loss :0.003511040238663554\n",
            "finished training\n",
            "step 10 out of 24 in epoch 114 out of epochs 300, Loss :0.004199009854346514\n",
            "step 20 out of 24 in epoch 114 out of epochs 300, Loss :0.002866131253540516\n",
            "finished training\n",
            "step 10 out of 24 in epoch 115 out of epochs 300, Loss :0.003000148106366396\n",
            "step 20 out of 24 in epoch 115 out of epochs 300, Loss :0.002831529127433896\n",
            "finished training\n",
            "step 10 out of 24 in epoch 116 out of epochs 300, Loss :0.0034010198432952166\n",
            "step 20 out of 24 in epoch 116 out of epochs 300, Loss :0.003250907873734832\n",
            "finished training\n",
            "step 10 out of 24 in epoch 117 out of epochs 300, Loss :0.0027263874653726816\n",
            "step 20 out of 24 in epoch 117 out of epochs 300, Loss :0.003929251804947853\n",
            "finished training\n",
            "step 10 out of 24 in epoch 118 out of epochs 300, Loss :0.003442498156800866\n",
            "step 20 out of 24 in epoch 118 out of epochs 300, Loss :0.0016880807233974338\n",
            "finished training\n",
            "step 10 out of 24 in epoch 119 out of epochs 300, Loss :0.0027874272782355547\n",
            "step 20 out of 24 in epoch 119 out of epochs 300, Loss :0.0031180349178612232\n",
            "finished training\n",
            "step 10 out of 24 in epoch 120 out of epochs 300, Loss :0.0044924309477210045\n",
            "step 20 out of 24 in epoch 120 out of epochs 300, Loss :0.004189310595393181\n",
            "finished training\n",
            "step 10 out of 24 in epoch 121 out of epochs 300, Loss :0.003715704893693328\n",
            "step 20 out of 24 in epoch 121 out of epochs 300, Loss :0.0026057676877826452\n",
            "finished training\n",
            "step 10 out of 24 in epoch 122 out of epochs 300, Loss :0.002174099674448371\n",
            "step 20 out of 24 in epoch 122 out of epochs 300, Loss :0.0048319329507648945\n",
            "finished training\n",
            "step 10 out of 24 in epoch 123 out of epochs 300, Loss :0.005828439723700285\n",
            "step 20 out of 24 in epoch 123 out of epochs 300, Loss :0.0031724253203719854\n",
            "finished training\n",
            "step 10 out of 24 in epoch 124 out of epochs 300, Loss :0.0034312582574784756\n",
            "step 20 out of 24 in epoch 124 out of epochs 300, Loss :0.0026735798455774784\n",
            "finished training\n",
            "step 10 out of 24 in epoch 125 out of epochs 300, Loss :0.0036321927327662706\n",
            "step 20 out of 24 in epoch 125 out of epochs 300, Loss :0.0028410679660737514\n",
            "finished training\n",
            "step 10 out of 24 in epoch 126 out of epochs 300, Loss :0.0030514381360262632\n",
            "step 20 out of 24 in epoch 126 out of epochs 300, Loss :0.002750162500888109\n",
            "finished training\n",
            "step 10 out of 24 in epoch 127 out of epochs 300, Loss :0.0020962380804121494\n",
            "step 20 out of 24 in epoch 127 out of epochs 300, Loss :0.003349070204421878\n",
            "finished training\n",
            "step 10 out of 24 in epoch 128 out of epochs 300, Loss :0.002904736902564764\n",
            "step 20 out of 24 in epoch 128 out of epochs 300, Loss :0.00242621055804193\n",
            "finished training\n",
            "step 10 out of 24 in epoch 129 out of epochs 300, Loss :0.003391278674826026\n",
            "step 20 out of 24 in epoch 129 out of epochs 300, Loss :0.001903320662677288\n",
            "finished training\n",
            "step 10 out of 24 in epoch 130 out of epochs 300, Loss :0.002237331122159958\n",
            "step 20 out of 24 in epoch 130 out of epochs 300, Loss :0.00182822544593364\n",
            "finished training\n",
            "step 10 out of 24 in epoch 131 out of epochs 300, Loss :0.002301157684996724\n",
            "step 20 out of 24 in epoch 131 out of epochs 300, Loss :0.0045734578743577\n",
            "finished training\n",
            "step 10 out of 24 in epoch 132 out of epochs 300, Loss :0.0018097342690452933\n",
            "step 20 out of 24 in epoch 132 out of epochs 300, Loss :0.002634405391290784\n",
            "finished training\n",
            "step 10 out of 24 in epoch 133 out of epochs 300, Loss :0.0026931401807814837\n",
            "step 20 out of 24 in epoch 133 out of epochs 300, Loss :0.0025972432922571898\n",
            "finished training\n",
            "step 10 out of 24 in epoch 134 out of epochs 300, Loss :0.0026970684994012117\n",
            "step 20 out of 24 in epoch 134 out of epochs 300, Loss :0.0023538561072200537\n",
            "finished training\n",
            "step 10 out of 24 in epoch 135 out of epochs 300, Loss :0.007503478787839413\n",
            "step 20 out of 24 in epoch 135 out of epochs 300, Loss :0.003199645783752203\n",
            "finished training\n",
            "step 10 out of 24 in epoch 136 out of epochs 300, Loss :0.00256512314081192\n",
            "step 20 out of 24 in epoch 136 out of epochs 300, Loss :0.0035263607278466225\n",
            "finished training\n",
            "step 10 out of 24 in epoch 137 out of epochs 300, Loss :0.0017324185464531183\n",
            "step 20 out of 24 in epoch 137 out of epochs 300, Loss :0.0025477122981101274\n",
            "finished training\n",
            "step 10 out of 24 in epoch 138 out of epochs 300, Loss :0.0021363345440477133\n",
            "step 20 out of 24 in epoch 138 out of epochs 300, Loss :0.002311008982360363\n",
            "finished training\n",
            "step 10 out of 24 in epoch 139 out of epochs 300, Loss :0.0033199808094650507\n",
            "step 20 out of 24 in epoch 139 out of epochs 300, Loss :0.003925654571503401\n",
            "finished training\n",
            "step 10 out of 24 in epoch 140 out of epochs 300, Loss :0.0028652753680944443\n",
            "step 20 out of 24 in epoch 140 out of epochs 300, Loss :0.002713247435167432\n",
            "finished training\n",
            "step 10 out of 24 in epoch 141 out of epochs 300, Loss :0.0015916144475340843\n",
            "step 20 out of 24 in epoch 141 out of epochs 300, Loss :0.002120523015037179\n",
            "finished training\n",
            "step 10 out of 24 in epoch 142 out of epochs 300, Loss :0.002438394585624337\n",
            "step 20 out of 24 in epoch 142 out of epochs 300, Loss :0.002118124859407544\n",
            "finished training\n",
            "step 10 out of 24 in epoch 143 out of epochs 300, Loss :0.0025303964503109455\n",
            "step 20 out of 24 in epoch 143 out of epochs 300, Loss :0.005122685339301825\n",
            "finished training\n",
            "step 10 out of 24 in epoch 144 out of epochs 300, Loss :0.0032570604234933853\n",
            "step 20 out of 24 in epoch 144 out of epochs 300, Loss :0.0029024139512330294\n",
            "finished training\n",
            "step 10 out of 24 in epoch 145 out of epochs 300, Loss :0.00146538729313761\n",
            "step 20 out of 24 in epoch 145 out of epochs 300, Loss :0.0029636851977556944\n",
            "finished training\n",
            "step 10 out of 24 in epoch 146 out of epochs 300, Loss :0.002952409442514181\n",
            "step 20 out of 24 in epoch 146 out of epochs 300, Loss :0.00449488777667284\n",
            "finished training\n",
            "step 10 out of 24 in epoch 147 out of epochs 300, Loss :0.002481264527887106\n",
            "step 20 out of 24 in epoch 147 out of epochs 300, Loss :0.002725721802562475\n",
            "finished training\n",
            "step 10 out of 24 in epoch 148 out of epochs 300, Loss :0.004174540750682354\n",
            "step 20 out of 24 in epoch 148 out of epochs 300, Loss :0.0019399048760533333\n",
            "finished training\n",
            "step 10 out of 24 in epoch 149 out of epochs 300, Loss :0.002827896736562252\n",
            "step 20 out of 24 in epoch 149 out of epochs 300, Loss :0.002639448270201683\n",
            "finished training\n",
            "step 10 out of 24 in epoch 150 out of epochs 300, Loss :0.003253741655498743\n",
            "step 20 out of 24 in epoch 150 out of epochs 300, Loss :0.003104021307080984\n",
            "finished training\n",
            "step 10 out of 24 in epoch 151 out of epochs 300, Loss :0.004683451261371374\n",
            "step 20 out of 24 in epoch 151 out of epochs 300, Loss :0.0033765954431146383\n",
            "finished training\n",
            "step 10 out of 24 in epoch 152 out of epochs 300, Loss :0.0028385035693645477\n",
            "step 20 out of 24 in epoch 152 out of epochs 300, Loss :0.002324939239770174\n",
            "finished training\n",
            "step 10 out of 24 in epoch 153 out of epochs 300, Loss :0.0022036528680473566\n",
            "step 20 out of 24 in epoch 153 out of epochs 300, Loss :0.004414151422679424\n",
            "finished training\n",
            "step 10 out of 24 in epoch 154 out of epochs 300, Loss :0.0024865365121513605\n",
            "step 20 out of 24 in epoch 154 out of epochs 300, Loss :0.0017013339092954993\n",
            "finished training\n",
            "step 10 out of 24 in epoch 155 out of epochs 300, Loss :0.003439534455537796\n",
            "step 20 out of 24 in epoch 155 out of epochs 300, Loss :0.002081122249364853\n",
            "finished training\n",
            "step 10 out of 24 in epoch 156 out of epochs 300, Loss :0.0027824502903968096\n",
            "step 20 out of 24 in epoch 156 out of epochs 300, Loss :0.002937926445156336\n",
            "finished training\n",
            "step 10 out of 24 in epoch 157 out of epochs 300, Loss :0.0027988972142338753\n",
            "step 20 out of 24 in epoch 157 out of epochs 300, Loss :0.004841150250285864\n",
            "finished training\n",
            "step 10 out of 24 in epoch 158 out of epochs 300, Loss :0.002720773220062256\n",
            "step 20 out of 24 in epoch 158 out of epochs 300, Loss :0.0035387894604355097\n",
            "finished training\n",
            "step 10 out of 24 in epoch 159 out of epochs 300, Loss :0.003583264071494341\n",
            "step 20 out of 24 in epoch 159 out of epochs 300, Loss :0.0025617836508899927\n",
            "finished training\n",
            "step 10 out of 24 in epoch 160 out of epochs 300, Loss :0.0026831815484911203\n",
            "step 20 out of 24 in epoch 160 out of epochs 300, Loss :0.003426887793466449\n",
            "finished training\n",
            "step 10 out of 24 in epoch 161 out of epochs 300, Loss :0.0027869869954884052\n",
            "step 20 out of 24 in epoch 161 out of epochs 300, Loss :0.0028390916995704174\n",
            "finished training\n",
            "step 10 out of 24 in epoch 162 out of epochs 300, Loss :0.0020487774163484573\n",
            "step 20 out of 24 in epoch 162 out of epochs 300, Loss :0.002108025597408414\n",
            "finished training\n",
            "step 10 out of 24 in epoch 163 out of epochs 300, Loss :0.003214979311451316\n",
            "step 20 out of 24 in epoch 163 out of epochs 300, Loss :0.0027480036951601505\n",
            "finished training\n",
            "step 10 out of 24 in epoch 164 out of epochs 300, Loss :0.002157684415578842\n",
            "step 20 out of 24 in epoch 164 out of epochs 300, Loss :0.0023696082644164562\n",
            "finished training\n",
            "step 10 out of 24 in epoch 165 out of epochs 300, Loss :0.0024591644760221243\n",
            "step 20 out of 24 in epoch 165 out of epochs 300, Loss :0.001779060927219689\n",
            "finished training\n",
            "step 10 out of 24 in epoch 166 out of epochs 300, Loss :0.004475148394703865\n",
            "step 20 out of 24 in epoch 166 out of epochs 300, Loss :0.0030061074066907167\n",
            "finished training\n",
            "step 10 out of 24 in epoch 167 out of epochs 300, Loss :0.0034004254266619682\n",
            "step 20 out of 24 in epoch 167 out of epochs 300, Loss :0.002141917124390602\n",
            "finished training\n",
            "step 10 out of 24 in epoch 168 out of epochs 300, Loss :0.0036191516555845737\n",
            "step 20 out of 24 in epoch 168 out of epochs 300, Loss :0.002823364455252886\n",
            "finished training\n",
            "step 10 out of 24 in epoch 169 out of epochs 300, Loss :0.003633048851042986\n",
            "step 20 out of 24 in epoch 169 out of epochs 300, Loss :0.001939143636263907\n",
            "finished training\n",
            "step 10 out of 24 in epoch 170 out of epochs 300, Loss :0.00237253331579268\n",
            "step 20 out of 24 in epoch 170 out of epochs 300, Loss :0.0021766868885606527\n",
            "finished training\n",
            "step 10 out of 24 in epoch 171 out of epochs 300, Loss :0.002898824866861105\n",
            "step 20 out of 24 in epoch 171 out of epochs 300, Loss :0.002512189093977213\n",
            "finished training\n",
            "step 10 out of 24 in epoch 172 out of epochs 300, Loss :0.002735322806984186\n",
            "step 20 out of 24 in epoch 172 out of epochs 300, Loss :0.002074170857667923\n",
            "finished training\n",
            "step 10 out of 24 in epoch 173 out of epochs 300, Loss :0.0022283783182501793\n",
            "step 20 out of 24 in epoch 173 out of epochs 300, Loss :0.002074937801808119\n",
            "finished training\n",
            "step 10 out of 24 in epoch 174 out of epochs 300, Loss :0.0018708816496655345\n",
            "step 20 out of 24 in epoch 174 out of epochs 300, Loss :0.002204722259193659\n",
            "finished training\n",
            "step 10 out of 24 in epoch 175 out of epochs 300, Loss :0.0034851557575166225\n",
            "step 20 out of 24 in epoch 175 out of epochs 300, Loss :0.0017237833235412836\n",
            "finished training\n",
            "step 10 out of 24 in epoch 176 out of epochs 300, Loss :0.0027245806995779276\n",
            "step 20 out of 24 in epoch 176 out of epochs 300, Loss :0.002020786749199033\n",
            "finished training\n",
            "step 10 out of 24 in epoch 177 out of epochs 300, Loss :0.00395703362300992\n",
            "step 20 out of 24 in epoch 177 out of epochs 300, Loss :0.0017964956350624561\n",
            "finished training\n",
            "step 10 out of 24 in epoch 178 out of epochs 300, Loss :0.0023410466965287924\n",
            "step 20 out of 24 in epoch 178 out of epochs 300, Loss :0.0031045451760292053\n",
            "finished training\n",
            "step 10 out of 24 in epoch 179 out of epochs 300, Loss :0.0018927112687379122\n",
            "step 20 out of 24 in epoch 179 out of epochs 300, Loss :0.0024867120664566755\n",
            "finished training\n",
            "step 10 out of 24 in epoch 180 out of epochs 300, Loss :0.003810037160292268\n",
            "step 20 out of 24 in epoch 180 out of epochs 300, Loss :0.0027510742656886578\n",
            "finished training\n",
            "step 10 out of 24 in epoch 181 out of epochs 300, Loss :0.002495533786714077\n",
            "step 20 out of 24 in epoch 181 out of epochs 300, Loss :0.002985493279993534\n",
            "finished training\n",
            "step 10 out of 24 in epoch 182 out of epochs 300, Loss :0.002249601762741804\n",
            "step 20 out of 24 in epoch 182 out of epochs 300, Loss :0.0026112704072147608\n",
            "finished training\n",
            "step 10 out of 24 in epoch 183 out of epochs 300, Loss :0.002214631997048855\n",
            "step 20 out of 24 in epoch 183 out of epochs 300, Loss :0.0017416666960343719\n",
            "finished training\n",
            "step 10 out of 24 in epoch 184 out of epochs 300, Loss :0.0017355962190777063\n",
            "step 20 out of 24 in epoch 184 out of epochs 300, Loss :0.0018818587996065617\n",
            "finished training\n",
            "step 10 out of 24 in epoch 185 out of epochs 300, Loss :0.004045408219099045\n",
            "step 20 out of 24 in epoch 185 out of epochs 300, Loss :0.0014625166077166796\n",
            "finished training\n",
            "step 10 out of 24 in epoch 186 out of epochs 300, Loss :0.0023173780646175146\n",
            "step 20 out of 24 in epoch 186 out of epochs 300, Loss :0.003317166119813919\n",
            "finished training\n",
            "step 10 out of 24 in epoch 187 out of epochs 300, Loss :0.0021190610714256763\n",
            "step 20 out of 24 in epoch 187 out of epochs 300, Loss :0.0015053687384352088\n",
            "finished training\n",
            "step 10 out of 24 in epoch 188 out of epochs 300, Loss :0.002529944060370326\n",
            "step 20 out of 24 in epoch 188 out of epochs 300, Loss :0.0046735890209674835\n",
            "finished training\n",
            "step 10 out of 24 in epoch 189 out of epochs 300, Loss :0.002630002796649933\n",
            "step 20 out of 24 in epoch 189 out of epochs 300, Loss :0.002084061736240983\n",
            "finished training\n",
            "step 10 out of 24 in epoch 190 out of epochs 300, Loss :0.003108098404482007\n",
            "step 20 out of 24 in epoch 190 out of epochs 300, Loss :0.0017839340725913644\n",
            "finished training\n",
            "step 10 out of 24 in epoch 191 out of epochs 300, Loss :0.002770930528640747\n",
            "step 20 out of 24 in epoch 191 out of epochs 300, Loss :0.0017721957992762327\n",
            "finished training\n",
            "step 10 out of 24 in epoch 192 out of epochs 300, Loss :0.0021935326512902975\n",
            "step 20 out of 24 in epoch 192 out of epochs 300, Loss :0.002738039242103696\n",
            "finished training\n",
            "step 10 out of 24 in epoch 193 out of epochs 300, Loss :0.00330691272392869\n",
            "step 20 out of 24 in epoch 193 out of epochs 300, Loss :0.0023596470709890127\n",
            "finished training\n",
            "step 10 out of 24 in epoch 194 out of epochs 300, Loss :0.002026407280936837\n",
            "step 20 out of 24 in epoch 194 out of epochs 300, Loss :0.0016133544268086553\n",
            "finished training\n",
            "step 10 out of 24 in epoch 195 out of epochs 300, Loss :0.0029417313635349274\n",
            "step 20 out of 24 in epoch 195 out of epochs 300, Loss :0.002349258167669177\n",
            "finished training\n",
            "step 10 out of 24 in epoch 196 out of epochs 300, Loss :0.00834420695900917\n",
            "step 20 out of 24 in epoch 196 out of epochs 300, Loss :0.0022344717290252447\n",
            "finished training\n",
            "step 10 out of 24 in epoch 197 out of epochs 300, Loss :0.00276601011864841\n",
            "step 20 out of 24 in epoch 197 out of epochs 300, Loss :0.0027143009938299656\n",
            "finished training\n",
            "step 10 out of 24 in epoch 198 out of epochs 300, Loss :0.003946579061448574\n",
            "step 20 out of 24 in epoch 198 out of epochs 300, Loss :0.0018485356122255325\n",
            "finished training\n",
            "step 10 out of 24 in epoch 199 out of epochs 300, Loss :0.003047347068786621\n",
            "step 20 out of 24 in epoch 199 out of epochs 300, Loss :0.002622982021421194\n",
            "finished training\n",
            "step 10 out of 24 in epoch 200 out of epochs 300, Loss :0.002341733779758215\n",
            "step 20 out of 24 in epoch 200 out of epochs 300, Loss :0.0024017072282731533\n",
            "finished training\n",
            "step 10 out of 24 in epoch 201 out of epochs 300, Loss :0.0016221994301304221\n",
            "step 20 out of 24 in epoch 201 out of epochs 300, Loss :0.00241269008256495\n",
            "finished training\n",
            "step 10 out of 24 in epoch 202 out of epochs 300, Loss :0.0014831309672445059\n",
            "step 20 out of 24 in epoch 202 out of epochs 300, Loss :0.0017000047955662012\n",
            "finished training\n",
            "step 10 out of 24 in epoch 203 out of epochs 300, Loss :0.0020398159977048635\n",
            "step 20 out of 24 in epoch 203 out of epochs 300, Loss :0.002587095834314823\n",
            "finished training\n",
            "step 10 out of 24 in epoch 204 out of epochs 300, Loss :0.002646287204697728\n",
            "step 20 out of 24 in epoch 204 out of epochs 300, Loss :0.0020638620480895042\n",
            "finished training\n",
            "step 10 out of 24 in epoch 205 out of epochs 300, Loss :0.0020129058975726366\n",
            "step 20 out of 24 in epoch 205 out of epochs 300, Loss :0.002946715336292982\n",
            "finished training\n",
            "step 10 out of 24 in epoch 206 out of epochs 300, Loss :0.002650053473189473\n",
            "step 20 out of 24 in epoch 206 out of epochs 300, Loss :0.0016898218309506774\n",
            "finished training\n",
            "step 10 out of 24 in epoch 207 out of epochs 300, Loss :0.0028907540254294872\n",
            "step 20 out of 24 in epoch 207 out of epochs 300, Loss :0.0020569097250699997\n",
            "finished training\n",
            "step 10 out of 24 in epoch 208 out of epochs 300, Loss :0.003137649968266487\n",
            "step 20 out of 24 in epoch 208 out of epochs 300, Loss :0.0026938377413898706\n",
            "finished training\n",
            "step 10 out of 24 in epoch 209 out of epochs 300, Loss :0.0032643654849380255\n",
            "step 20 out of 24 in epoch 209 out of epochs 300, Loss :0.001714237965643406\n",
            "finished training\n",
            "step 10 out of 24 in epoch 210 out of epochs 300, Loss :0.0019099467899650335\n",
            "step 20 out of 24 in epoch 210 out of epochs 300, Loss :0.0022823524195700884\n",
            "finished training\n",
            "step 10 out of 24 in epoch 211 out of epochs 300, Loss :0.0022638491354882717\n",
            "step 20 out of 24 in epoch 211 out of epochs 300, Loss :0.0021126202773302794\n",
            "finished training\n",
            "step 10 out of 24 in epoch 212 out of epochs 300, Loss :0.001836661365814507\n",
            "step 20 out of 24 in epoch 212 out of epochs 300, Loss :0.0022311597131192684\n",
            "finished training\n",
            "step 10 out of 24 in epoch 213 out of epochs 300, Loss :0.0022357141133397818\n",
            "step 20 out of 24 in epoch 213 out of epochs 300, Loss :0.0037770671769976616\n",
            "finished training\n",
            "step 10 out of 24 in epoch 214 out of epochs 300, Loss :0.0025275920052081347\n",
            "step 20 out of 24 in epoch 214 out of epochs 300, Loss :0.002871071919798851\n",
            "finished training\n",
            "step 10 out of 24 in epoch 215 out of epochs 300, Loss :0.002119331620633602\n",
            "step 20 out of 24 in epoch 215 out of epochs 300, Loss :0.001977253705263138\n",
            "finished training\n",
            "step 10 out of 24 in epoch 216 out of epochs 300, Loss :0.0021745848935097456\n",
            "step 20 out of 24 in epoch 216 out of epochs 300, Loss :0.0019460903713479638\n",
            "finished training\n",
            "step 10 out of 24 in epoch 217 out of epochs 300, Loss :0.002204960910603404\n",
            "step 20 out of 24 in epoch 217 out of epochs 300, Loss :0.002706188941374421\n",
            "finished training\n",
            "step 10 out of 24 in epoch 218 out of epochs 300, Loss :0.0017975139198824763\n"
          ]
        },
        {
          "output_type": "error",
          "ename": "KeyboardInterrupt",
          "evalue": "",
          "traceback": [
            "\u001b[0;31m---------------------------------------------------------------------------\u001b[0m",
            "\u001b[0;31mKeyboardInterrupt\u001b[0m                         Traceback (most recent call last)",
            "\u001b[0;32m<ipython-input-381-36a21e61fc97>\u001b[0m in \u001b[0;36m<cell line: 5>\u001b[0;34m()\u001b[0m\n\u001b[1;32m      4\u001b[0m \u001b[0mn_total_steps\u001b[0m \u001b[0;34m=\u001b[0m \u001b[0mlen\u001b[0m\u001b[0;34m(\u001b[0m\u001b[0mtrain_dl\u001b[0m\u001b[0;34m)\u001b[0m\u001b[0;34m\u001b[0m\u001b[0;34m\u001b[0m\u001b[0m\n\u001b[1;32m      5\u001b[0m \u001b[0;32mfor\u001b[0m \u001b[0mepochs\u001b[0m \u001b[0;32min\u001b[0m \u001b[0mrange\u001b[0m\u001b[0;34m(\u001b[0m\u001b[0mnum_epochs\u001b[0m\u001b[0;34m)\u001b[0m\u001b[0;34m:\u001b[0m\u001b[0;34m\u001b[0m\u001b[0;34m\u001b[0m\u001b[0m\n\u001b[0;32m----> 6\u001b[0;31m   \u001b[0;32mfor\u001b[0m \u001b[0mi\u001b[0m\u001b[0;34m,\u001b[0m \u001b[0;34m(\u001b[0m\u001b[0mimage\u001b[0m\u001b[0;34m,\u001b[0m \u001b[0mlabels\u001b[0m\u001b[0;34m)\u001b[0m \u001b[0;32min\u001b[0m \u001b[0menumerate\u001b[0m\u001b[0;34m(\u001b[0m\u001b[0mtrain_dl\u001b[0m\u001b[0;34m)\u001b[0m\u001b[0;34m:\u001b[0m\u001b[0;34m\u001b[0m\u001b[0;34m\u001b[0m\u001b[0m\n\u001b[0m\u001b[1;32m      7\u001b[0m     \u001b[0;32mif\u001b[0m \u001b[0mimage\u001b[0m\u001b[0;34m.\u001b[0m\u001b[0mshape\u001b[0m\u001b[0;34m[\u001b[0m\u001b[0;36m1\u001b[0m\u001b[0;34m]\u001b[0m \u001b[0;34m==\u001b[0m \u001b[0;36m3\u001b[0m\u001b[0;34m:\u001b[0m\u001b[0;34m\u001b[0m\u001b[0;34m\u001b[0m\u001b[0m\n\u001b[1;32m      8\u001b[0m       \u001b[0mimage\u001b[0m \u001b[0;34m=\u001b[0m \u001b[0mimage\u001b[0m\u001b[0;34m.\u001b[0m\u001b[0mto\u001b[0m\u001b[0;34m(\u001b[0m\u001b[0mdevice\u001b[0m\u001b[0;34m)\u001b[0m\u001b[0;34m\u001b[0m\u001b[0;34m\u001b[0m\u001b[0m\n",
            "\u001b[0;32m/usr/local/lib/python3.10/dist-packages/torch/utils/data/dataloader.py\u001b[0m in \u001b[0;36m__next__\u001b[0;34m(self)\u001b[0m\n\u001b[1;32m    628\u001b[0m                 \u001b[0;31m# TODO(https://github.com/pytorch/pytorch/issues/76750)\u001b[0m\u001b[0;34m\u001b[0m\u001b[0;34m\u001b[0m\u001b[0m\n\u001b[1;32m    629\u001b[0m                 \u001b[0mself\u001b[0m\u001b[0;34m.\u001b[0m\u001b[0m_reset\u001b[0m\u001b[0;34m(\u001b[0m\u001b[0;34m)\u001b[0m  \u001b[0;31m# type: ignore[call-arg]\u001b[0m\u001b[0;34m\u001b[0m\u001b[0;34m\u001b[0m\u001b[0m\n\u001b[0;32m--> 630\u001b[0;31m             \u001b[0mdata\u001b[0m \u001b[0;34m=\u001b[0m \u001b[0mself\u001b[0m\u001b[0;34m.\u001b[0m\u001b[0m_next_data\u001b[0m\u001b[0;34m(\u001b[0m\u001b[0;34m)\u001b[0m\u001b[0;34m\u001b[0m\u001b[0;34m\u001b[0m\u001b[0m\n\u001b[0m\u001b[1;32m    631\u001b[0m             \u001b[0mself\u001b[0m\u001b[0;34m.\u001b[0m\u001b[0m_num_yielded\u001b[0m \u001b[0;34m+=\u001b[0m \u001b[0;36m1\u001b[0m\u001b[0;34m\u001b[0m\u001b[0;34m\u001b[0m\u001b[0m\n\u001b[1;32m    632\u001b[0m             \u001b[0;32mif\u001b[0m \u001b[0mself\u001b[0m\u001b[0;34m.\u001b[0m\u001b[0m_dataset_kind\u001b[0m \u001b[0;34m==\u001b[0m \u001b[0m_DatasetKind\u001b[0m\u001b[0;34m.\u001b[0m\u001b[0mIterable\u001b[0m \u001b[0;32mand\u001b[0m\u001b[0;31m \u001b[0m\u001b[0;31m\\\u001b[0m\u001b[0;34m\u001b[0m\u001b[0;34m\u001b[0m\u001b[0m\n",
            "\u001b[0;32m/usr/local/lib/python3.10/dist-packages/torch/utils/data/dataloader.py\u001b[0m in \u001b[0;36m_next_data\u001b[0;34m(self)\u001b[0m\n\u001b[1;32m    672\u001b[0m     \u001b[0;32mdef\u001b[0m \u001b[0m_next_data\u001b[0m\u001b[0;34m(\u001b[0m\u001b[0mself\u001b[0m\u001b[0;34m)\u001b[0m\u001b[0;34m:\u001b[0m\u001b[0;34m\u001b[0m\u001b[0;34m\u001b[0m\u001b[0m\n\u001b[1;32m    673\u001b[0m         \u001b[0mindex\u001b[0m \u001b[0;34m=\u001b[0m \u001b[0mself\u001b[0m\u001b[0;34m.\u001b[0m\u001b[0m_next_index\u001b[0m\u001b[0;34m(\u001b[0m\u001b[0;34m)\u001b[0m  \u001b[0;31m# may raise StopIteration\u001b[0m\u001b[0;34m\u001b[0m\u001b[0;34m\u001b[0m\u001b[0m\n\u001b[0;32m--> 674\u001b[0;31m         \u001b[0mdata\u001b[0m \u001b[0;34m=\u001b[0m \u001b[0mself\u001b[0m\u001b[0;34m.\u001b[0m\u001b[0m_dataset_fetcher\u001b[0m\u001b[0;34m.\u001b[0m\u001b[0mfetch\u001b[0m\u001b[0;34m(\u001b[0m\u001b[0mindex\u001b[0m\u001b[0;34m)\u001b[0m  \u001b[0;31m# may raise StopIteration\u001b[0m\u001b[0;34m\u001b[0m\u001b[0;34m\u001b[0m\u001b[0m\n\u001b[0m\u001b[1;32m    675\u001b[0m         \u001b[0;32mif\u001b[0m \u001b[0mself\u001b[0m\u001b[0;34m.\u001b[0m\u001b[0m_pin_memory\u001b[0m\u001b[0;34m:\u001b[0m\u001b[0;34m\u001b[0m\u001b[0;34m\u001b[0m\u001b[0m\n\u001b[1;32m    676\u001b[0m             \u001b[0mdata\u001b[0m \u001b[0;34m=\u001b[0m \u001b[0m_utils\u001b[0m\u001b[0;34m.\u001b[0m\u001b[0mpin_memory\u001b[0m\u001b[0;34m.\u001b[0m\u001b[0mpin_memory\u001b[0m\u001b[0;34m(\u001b[0m\u001b[0mdata\u001b[0m\u001b[0;34m,\u001b[0m \u001b[0mself\u001b[0m\u001b[0;34m.\u001b[0m\u001b[0m_pin_memory_device\u001b[0m\u001b[0;34m)\u001b[0m\u001b[0;34m\u001b[0m\u001b[0;34m\u001b[0m\u001b[0m\n",
            "\u001b[0;32m/usr/local/lib/python3.10/dist-packages/torch/utils/data/_utils/fetch.py\u001b[0m in \u001b[0;36mfetch\u001b[0;34m(self, possibly_batched_index)\u001b[0m\n\u001b[1;32m     47\u001b[0m         \u001b[0;32mif\u001b[0m \u001b[0mself\u001b[0m\u001b[0;34m.\u001b[0m\u001b[0mauto_collation\u001b[0m\u001b[0;34m:\u001b[0m\u001b[0;34m\u001b[0m\u001b[0;34m\u001b[0m\u001b[0m\n\u001b[1;32m     48\u001b[0m             \u001b[0;32mif\u001b[0m \u001b[0mhasattr\u001b[0m\u001b[0;34m(\u001b[0m\u001b[0mself\u001b[0m\u001b[0;34m.\u001b[0m\u001b[0mdataset\u001b[0m\u001b[0;34m,\u001b[0m \u001b[0;34m\"__getitems__\"\u001b[0m\u001b[0;34m)\u001b[0m \u001b[0;32mand\u001b[0m \u001b[0mself\u001b[0m\u001b[0;34m.\u001b[0m\u001b[0mdataset\u001b[0m\u001b[0;34m.\u001b[0m\u001b[0m__getitems__\u001b[0m\u001b[0;34m:\u001b[0m\u001b[0;34m\u001b[0m\u001b[0;34m\u001b[0m\u001b[0m\n\u001b[0;32m---> 49\u001b[0;31m                 \u001b[0mdata\u001b[0m \u001b[0;34m=\u001b[0m \u001b[0mself\u001b[0m\u001b[0;34m.\u001b[0m\u001b[0mdataset\u001b[0m\u001b[0;34m.\u001b[0m\u001b[0m__getitems__\u001b[0m\u001b[0;34m(\u001b[0m\u001b[0mpossibly_batched_index\u001b[0m\u001b[0;34m)\u001b[0m\u001b[0;34m\u001b[0m\u001b[0;34m\u001b[0m\u001b[0m\n\u001b[0m\u001b[1;32m     50\u001b[0m             \u001b[0;32melse\u001b[0m\u001b[0;34m:\u001b[0m\u001b[0;34m\u001b[0m\u001b[0;34m\u001b[0m\u001b[0m\n\u001b[1;32m     51\u001b[0m                 \u001b[0mdata\u001b[0m \u001b[0;34m=\u001b[0m \u001b[0;34m[\u001b[0m\u001b[0mself\u001b[0m\u001b[0;34m.\u001b[0m\u001b[0mdataset\u001b[0m\u001b[0;34m[\u001b[0m\u001b[0midx\u001b[0m\u001b[0;34m]\u001b[0m \u001b[0;32mfor\u001b[0m \u001b[0midx\u001b[0m \u001b[0;32min\u001b[0m \u001b[0mpossibly_batched_index\u001b[0m\u001b[0;34m]\u001b[0m\u001b[0;34m\u001b[0m\u001b[0;34m\u001b[0m\u001b[0m\n",
            "\u001b[0;32m/usr/local/lib/python3.10/dist-packages/torch/utils/data/dataset.py\u001b[0m in \u001b[0;36m__getitems__\u001b[0;34m(self, indices)\u001b[0m\n\u001b[1;32m    362\u001b[0m             \u001b[0;32mreturn\u001b[0m \u001b[0mself\u001b[0m\u001b[0;34m.\u001b[0m\u001b[0mdataset\u001b[0m\u001b[0;34m.\u001b[0m\u001b[0m__getitems__\u001b[0m\u001b[0;34m(\u001b[0m\u001b[0;34m[\u001b[0m\u001b[0mself\u001b[0m\u001b[0;34m.\u001b[0m\u001b[0mindices\u001b[0m\u001b[0;34m[\u001b[0m\u001b[0midx\u001b[0m\u001b[0;34m]\u001b[0m \u001b[0;32mfor\u001b[0m \u001b[0midx\u001b[0m \u001b[0;32min\u001b[0m \u001b[0mindices\u001b[0m\u001b[0;34m]\u001b[0m\u001b[0;34m)\u001b[0m  \u001b[0;31m# type: ignore[attr-defined]\u001b[0m\u001b[0;34m\u001b[0m\u001b[0;34m\u001b[0m\u001b[0m\n\u001b[1;32m    363\u001b[0m         \u001b[0;32melse\u001b[0m\u001b[0;34m:\u001b[0m\u001b[0;34m\u001b[0m\u001b[0;34m\u001b[0m\u001b[0m\n\u001b[0;32m--> 364\u001b[0;31m             \u001b[0;32mreturn\u001b[0m \u001b[0;34m[\u001b[0m\u001b[0mself\u001b[0m\u001b[0;34m.\u001b[0m\u001b[0mdataset\u001b[0m\u001b[0;34m[\u001b[0m\u001b[0mself\u001b[0m\u001b[0;34m.\u001b[0m\u001b[0mindices\u001b[0m\u001b[0;34m[\u001b[0m\u001b[0midx\u001b[0m\u001b[0;34m]\u001b[0m\u001b[0;34m]\u001b[0m \u001b[0;32mfor\u001b[0m \u001b[0midx\u001b[0m \u001b[0;32min\u001b[0m \u001b[0mindices\u001b[0m\u001b[0;34m]\u001b[0m\u001b[0;34m\u001b[0m\u001b[0;34m\u001b[0m\u001b[0m\n\u001b[0m\u001b[1;32m    365\u001b[0m \u001b[0;34m\u001b[0m\u001b[0m\n\u001b[1;32m    366\u001b[0m     \u001b[0;32mdef\u001b[0m \u001b[0m__len__\u001b[0m\u001b[0;34m(\u001b[0m\u001b[0mself\u001b[0m\u001b[0;34m)\u001b[0m\u001b[0;34m:\u001b[0m\u001b[0;34m\u001b[0m\u001b[0;34m\u001b[0m\u001b[0m\n",
            "\u001b[0;32m/usr/local/lib/python3.10/dist-packages/torch/utils/data/dataset.py\u001b[0m in \u001b[0;36m<listcomp>\u001b[0;34m(.0)\u001b[0m\n\u001b[1;32m    362\u001b[0m             \u001b[0;32mreturn\u001b[0m \u001b[0mself\u001b[0m\u001b[0;34m.\u001b[0m\u001b[0mdataset\u001b[0m\u001b[0;34m.\u001b[0m\u001b[0m__getitems__\u001b[0m\u001b[0;34m(\u001b[0m\u001b[0;34m[\u001b[0m\u001b[0mself\u001b[0m\u001b[0;34m.\u001b[0m\u001b[0mindices\u001b[0m\u001b[0;34m[\u001b[0m\u001b[0midx\u001b[0m\u001b[0;34m]\u001b[0m \u001b[0;32mfor\u001b[0m \u001b[0midx\u001b[0m \u001b[0;32min\u001b[0m \u001b[0mindices\u001b[0m\u001b[0;34m]\u001b[0m\u001b[0;34m)\u001b[0m  \u001b[0;31m# type: ignore[attr-defined]\u001b[0m\u001b[0;34m\u001b[0m\u001b[0;34m\u001b[0m\u001b[0m\n\u001b[1;32m    363\u001b[0m         \u001b[0;32melse\u001b[0m\u001b[0;34m:\u001b[0m\u001b[0;34m\u001b[0m\u001b[0;34m\u001b[0m\u001b[0m\n\u001b[0;32m--> 364\u001b[0;31m             \u001b[0;32mreturn\u001b[0m \u001b[0;34m[\u001b[0m\u001b[0mself\u001b[0m\u001b[0;34m.\u001b[0m\u001b[0mdataset\u001b[0m\u001b[0;34m[\u001b[0m\u001b[0mself\u001b[0m\u001b[0;34m.\u001b[0m\u001b[0mindices\u001b[0m\u001b[0;34m[\u001b[0m\u001b[0midx\u001b[0m\u001b[0;34m]\u001b[0m\u001b[0;34m]\u001b[0m \u001b[0;32mfor\u001b[0m \u001b[0midx\u001b[0m \u001b[0;32min\u001b[0m \u001b[0mindices\u001b[0m\u001b[0;34m]\u001b[0m\u001b[0;34m\u001b[0m\u001b[0;34m\u001b[0m\u001b[0m\n\u001b[0m\u001b[1;32m    365\u001b[0m \u001b[0;34m\u001b[0m\u001b[0m\n\u001b[1;32m    366\u001b[0m     \u001b[0;32mdef\u001b[0m \u001b[0m__len__\u001b[0m\u001b[0;34m(\u001b[0m\u001b[0mself\u001b[0m\u001b[0;34m)\u001b[0m\u001b[0;34m:\u001b[0m\u001b[0;34m\u001b[0m\u001b[0;34m\u001b[0m\u001b[0m\n",
            "\u001b[0;32m<ipython-input-360-0f4ff8a3b2ad>\u001b[0m in \u001b[0;36m__getitem__\u001b[0;34m(self, idx)\u001b[0m\n\u001b[1;32m     23\u001b[0m \u001b[0;34m\u001b[0m\u001b[0m\n\u001b[1;32m     24\u001b[0m   \u001b[0;32mdef\u001b[0m \u001b[0m__getitem__\u001b[0m\u001b[0;34m(\u001b[0m\u001b[0mself\u001b[0m\u001b[0;34m,\u001b[0m \u001b[0midx\u001b[0m\u001b[0;34m)\u001b[0m\u001b[0;34m:\u001b[0m\u001b[0;34m\u001b[0m\u001b[0;34m\u001b[0m\u001b[0m\n\u001b[0;32m---> 25\u001b[0;31m       \u001b[0mimage\u001b[0m \u001b[0;34m=\u001b[0m \u001b[0mImage\u001b[0m\u001b[0;34m.\u001b[0m\u001b[0mopen\u001b[0m\u001b[0;34m(\u001b[0m\u001b[0mself\u001b[0m\u001b[0;34m.\u001b[0m\u001b[0mimage_path\u001b[0m\u001b[0;34m[\u001b[0m\u001b[0midx\u001b[0m\u001b[0;34m]\u001b[0m\u001b[0;34m)\u001b[0m\u001b[0;34m\u001b[0m\u001b[0;34m\u001b[0m\u001b[0m\n\u001b[0m\u001b[1;32m     26\u001b[0m       \u001b[0;32mif\u001b[0m \u001b[0mself\u001b[0m\u001b[0;34m.\u001b[0m\u001b[0mtransform\u001b[0m\u001b[0;34m:\u001b[0m\u001b[0;34m\u001b[0m\u001b[0;34m\u001b[0m\u001b[0m\n\u001b[1;32m     27\u001b[0m         \u001b[0mimage\u001b[0m \u001b[0;34m=\u001b[0m \u001b[0mself\u001b[0m\u001b[0;34m.\u001b[0m\u001b[0mtransform\u001b[0m\u001b[0;34m(\u001b[0m\u001b[0mimage\u001b[0m\u001b[0;34m)\u001b[0m\u001b[0;34m\u001b[0m\u001b[0;34m\u001b[0m\u001b[0m\n",
            "\u001b[0;32m/usr/local/lib/python3.10/dist-packages/PIL/Image.py\u001b[0m in \u001b[0;36mopen\u001b[0;34m(fp, mode, formats)\u001b[0m\n\u001b[1;32m   3225\u001b[0m \u001b[0;34m\u001b[0m\u001b[0m\n\u001b[1;32m   3226\u001b[0m     \u001b[0;32mif\u001b[0m \u001b[0mfilename\u001b[0m\u001b[0;34m:\u001b[0m\u001b[0;34m\u001b[0m\u001b[0;34m\u001b[0m\u001b[0m\n\u001b[0;32m-> 3227\u001b[0;31m         \u001b[0mfp\u001b[0m \u001b[0;34m=\u001b[0m \u001b[0mbuiltins\u001b[0m\u001b[0;34m.\u001b[0m\u001b[0mopen\u001b[0m\u001b[0;34m(\u001b[0m\u001b[0mfilename\u001b[0m\u001b[0;34m,\u001b[0m \u001b[0;34m\"rb\"\u001b[0m\u001b[0;34m)\u001b[0m\u001b[0;34m\u001b[0m\u001b[0;34m\u001b[0m\u001b[0m\n\u001b[0m\u001b[1;32m   3228\u001b[0m         \u001b[0mexclusive_fp\u001b[0m \u001b[0;34m=\u001b[0m \u001b[0;32mTrue\u001b[0m\u001b[0;34m\u001b[0m\u001b[0;34m\u001b[0m\u001b[0m\n\u001b[1;32m   3229\u001b[0m \u001b[0;34m\u001b[0m\u001b[0m\n",
            "\u001b[0;31mKeyboardInterrupt\u001b[0m: "
          ]
        }
      ]
    },
    {
      "cell_type": "code",
      "source": [],
      "metadata": {
        "id": "ruPsmOm2A4Xk"
      },
      "execution_count": null,
      "outputs": []
    },
    {
      "cell_type": "markdown",
      "source": [],
      "metadata": {
        "id": "AZiQGcHqZfM4"
      }
    },
    {
      "cell_type": "code",
      "source": [
        "with torch.no_grad():\n",
        "  n_samples = 0\n",
        "  n_correct = 0\n",
        "  n_classes = [0 for i in range(len(DogDataSet.label_dict))]\n",
        "  n_correct_classes = [0 for i in range(len(DogDataSet.label_dict))]\n",
        "  for images, labels in val_dl:\n",
        "    images = images.to(device)\n",
        "    labels = labels.to(device)\n",
        "    outputs = model(images) # output of size (batchsize, num of classes)\n",
        "    _, predicted = torch.max(outputs, dim=1) #max for each of the colums dim=1 columns and we want the indexes not the prob\n",
        "    n_samples += labels.size(0)\n",
        "    n_correct += (labels==predicted).sum().item()\n",
        "    for i in range(images.shape[0]):\n",
        "      label = labels[i]\n",
        "      pred = predicted[i]\n",
        "      if label == pred:\n",
        "        n_correct_classes[label] += 1\n",
        "      n_classes[label] += 1\n",
        "\n",
        "print(f'The accuracy of the network is {n_correct/n_samples * 100}')\n",
        "for i in range(len(n_classes)):\n",
        "  print(f'The accuracy for the class {DogDataSet.label_dict[i]} is {n_correct_classes[i]/n_classes[i] * 100}')\n",
        "\n"
      ],
      "metadata": {
        "id": "hLMVm4ZTLQNc",
        "colab": {
          "base_uri": "https://localhost:8080/"
        },
        "outputId": "8ec31c53-23af-4af9-ab1f-94843d98a908"
      },
      "execution_count": null,
      "outputs": [
        {
          "output_type": "stream",
          "name": "stdout",
          "text": [
            "The accuracy of the network is 58.97435897435898\n",
            "The accuracy for the class n02099601-golden_retriever is 47.82608695652174\n",
            "The accuracy for the class n02110185-Siberian_husky is 37.5\n",
            "The accuracy for the class n02085936-Maltese_dog is 64.28571428571429\n",
            "The accuracy for the class n02086646-Blenheim_spaniel is 60.526315789473685\n",
            "The accuracy for the class n02111277-Newfoundland is 78.94736842105263\n"
          ]
        }
      ]
    },
    {
      "cell_type": "code",
      "source": [
        "for images, labels in val_dl:\n",
        "  print(images.shape)\n",
        "  print(labels.shape)"
      ],
      "metadata": {
        "id": "izgRSIZeZjUS",
        "colab": {
          "base_uri": "https://localhost:8080/"
        },
        "outputId": "5091edca-3eaa-4737-f034-4ba4179f1d89"
      },
      "execution_count": null,
      "outputs": [
        {
          "output_type": "stream",
          "name": "stderr",
          "text": [
            "/usr/local/lib/python3.10/dist-packages/torchvision/transforms/functional.py:1603: UserWarning: The default value of the antialias parameter of all the resizing transforms (Resize(), RandomResizedCrop(), etc.) will change from None to True in v0.17, in order to be consistent across the PIL and Tensor backends. To suppress this warning, directly pass antialias=True (recommended, future default), antialias=None (current default, which means False for Tensors and True for PIL), or antialias=False (only works on Tensors - PIL will still use antialiasing). This also applies if you are using the inference transforms from the models weights: update the call to weights.transforms(antialias=True).\n",
            "  warnings.warn(\n"
          ]
        },
        {
          "output_type": "stream",
          "name": "stdout",
          "text": [
            "torch.Size([32, 3, 224, 224])\n",
            "torch.Size([32])\n",
            "torch.Size([32, 3, 224, 224])\n",
            "torch.Size([32])\n",
            "torch.Size([32, 3, 224, 224])\n",
            "torch.Size([32])\n",
            "torch.Size([32, 3, 224, 224])\n",
            "torch.Size([32])\n",
            "torch.Size([32, 3, 224, 224])\n",
            "torch.Size([32])\n",
            "torch.Size([30, 3, 224, 224])\n",
            "torch.Size([30])\n"
          ]
        }
      ]
    },
    {
      "cell_type": "markdown",
      "source": [
        "## Transfer learning"
      ],
      "metadata": {
        "id": "6UKNi0M9Zlza"
      }
    },
    {
      "cell_type": "code",
      "source": [
        "\n",
        "from torchvision import models\n",
        "\n",
        "model = models.resnet18(pretrained=True)\n",
        "for param in model.parameters():\n",
        "  param.requires_grad = False\n",
        "\n",
        "num_features = model.fc.in_features\n",
        "\n",
        "model.fc = nn.Linear(num_features, len(DogDataSet.label_dict))\n",
        "\n"
      ],
      "metadata": {
        "id": "eWUOOJ4iZwJj"
      },
      "execution_count": null,
      "outputs": []
    },
    {
      "cell_type": "code",
      "source": [
        "resnet = model.to(device)"
      ],
      "metadata": {
        "id": "MPGUbOaYdO5R"
      },
      "execution_count": null,
      "outputs": []
    },
    {
      "cell_type": "code",
      "source": [
        "from torch.optim import lr_scheduler\n",
        "criterion = nn.CrossEntropyLoss()\n",
        "optimizer = torch.optim.SGD(resnet.parameters(), lr = 0.05)\n",
        "step_lr_scheduler = lr_scheduler.StepLR(optimizer,step_size=7, gamma=0.1)\n",
        "num_epochs = 500\n"
      ],
      "metadata": {
        "id": "RlKM54JHjHTx"
      },
      "execution_count": null,
      "outputs": []
    },
    {
      "cell_type": "code",
      "source": [
        "best_loss = None\n",
        "n_total_steps = len(train_dl)\n",
        "for epochs in range(num_epochs):\n",
        "  for i, (image, labels) in enumerate(train_dl):\n",
        "    if image.shape[1] == 3:\n",
        "      image = image.to(device)\n",
        "      labels = labels.to(device)\n",
        "\n",
        "      outputs = resnet(image)\n",
        "      loss = criterion(outputs, labels)\n",
        "      optimizer.zero_grad()\n",
        "      loss.backward()\n",
        "      optimizer.step()\n",
        "      step_lr_scheduler.step()\n",
        "      if best_loss is None or loss.item() < best_loss:\n",
        "        best_loss = loss.item()\n",
        "        torch.save(model.state_dict(), f'/content/drive/MyDrive/dog_classification/best_weights.pth')\n",
        "\n",
        "      if (i + 1) % 10 ==0:\n",
        "        with torch.no_grad():\n",
        "          n_samples = 0\n",
        "          n_correct = 0\n",
        "          n_classes = [0 for i in range(len(DogDataSet.label_dict))]\n",
        "          n_correct_classes = [0 for i in range(len(DogDataSet.label_dict))]\n",
        "        for images, labels in val_dl:\n",
        "          images = images.to(device)\n",
        "          labels = labels.to(device)\n",
        "          outputs = resnet(images) # output of size (batchsize, num of classes)\n",
        "          _, predicted = torch.max(outputs, dim=1) #max for each of the colums dim=1 columns and we want the indexes not the prob\n",
        "          n_samples += labels.size(0)\n",
        "          n_correct += (labels==predicted).sum().item()\n",
        "          accuracy = n_correct/n_samples * 100\n",
        "        print(f'step {i + 1} out of {n_total_steps} in epoch {epochs+1} out of epochs {num_epochs}, Val acc= {accuracy}, Loss :{loss.item()}')\n",
        "\n",
        "\n",
        "  print('finished training')\n"
      ],
      "metadata": {
        "colab": {
          "base_uri": "https://localhost:8080/",
          "height": 1000
        },
        "id": "JsPqGRP1kQVU",
        "outputId": "4fb30003-f044-4221-a1f5-75c696f7b375"
      },
      "execution_count": null,
      "outputs": [
        {
          "output_type": "stream",
          "name": "stdout",
          "text": [
            "step 10 out of 48 in epoch 1 out of epochs 500, Val acc= 75.38461538461539, Loss :1.5497492551803589\n",
            "step 20 out of 48 in epoch 1 out of epochs 500, Val acc= 87.6923076923077, Loss :0.541733980178833\n",
            "step 30 out of 48 in epoch 1 out of epochs 500, Val acc= 92.3076923076923, Loss :0.45634371042251587\n",
            "step 40 out of 48 in epoch 1 out of epochs 500, Val acc= 89.23076923076924, Loss :0.8037686944007874\n",
            "finished training\n",
            "step 10 out of 48 in epoch 2 out of epochs 500, Val acc= 89.74358974358975, Loss :0.7564756274223328\n",
            "step 20 out of 48 in epoch 2 out of epochs 500, Val acc= 91.7948717948718, Loss :0.4559341073036194\n",
            "step 30 out of 48 in epoch 2 out of epochs 500, Val acc= 89.74358974358975, Loss :0.3899405300617218\n",
            "step 40 out of 48 in epoch 2 out of epochs 500, Val acc= 88.2051282051282, Loss :0.5390075445175171\n",
            "finished training\n",
            "step 10 out of 48 in epoch 3 out of epochs 500, Val acc= 91.28205128205128, Loss :0.41965600848197937\n",
            "step 20 out of 48 in epoch 3 out of epochs 500, Val acc= 90.76923076923077, Loss :0.422201931476593\n",
            "step 30 out of 48 in epoch 3 out of epochs 500, Val acc= 89.23076923076924, Loss :0.3311706781387329\n",
            "step 40 out of 48 in epoch 3 out of epochs 500, Val acc= 87.6923076923077, Loss :0.2776434123516083\n",
            "finished training\n",
            "step 10 out of 48 in epoch 4 out of epochs 500, Val acc= 89.74358974358975, Loss :0.5416564345359802\n",
            "step 20 out of 48 in epoch 4 out of epochs 500, Val acc= 89.23076923076924, Loss :0.801871657371521\n",
            "step 30 out of 48 in epoch 4 out of epochs 500, Val acc= 87.6923076923077, Loss :0.6657173037528992\n",
            "step 40 out of 48 in epoch 4 out of epochs 500, Val acc= 90.76923076923077, Loss :0.5215824842453003\n",
            "finished training\n",
            "step 10 out of 48 in epoch 5 out of epochs 500, Val acc= 92.82051282051282, Loss :0.46306943893432617\n",
            "step 20 out of 48 in epoch 5 out of epochs 500, Val acc= 91.28205128205128, Loss :0.5798516869544983\n",
            "step 30 out of 48 in epoch 5 out of epochs 500, Val acc= 88.71794871794872, Loss :0.37518882751464844\n",
            "step 40 out of 48 in epoch 5 out of epochs 500, Val acc= 92.82051282051282, Loss :0.36226752400398254\n",
            "finished training\n",
            "step 10 out of 48 in epoch 6 out of epochs 500, Val acc= 88.2051282051282, Loss :0.38829389214515686\n",
            "step 20 out of 48 in epoch 6 out of epochs 500, Val acc= 90.76923076923077, Loss :0.553517758846283\n",
            "step 30 out of 48 in epoch 6 out of epochs 500, Val acc= 90.76923076923077, Loss :0.3354237973690033\n",
            "step 40 out of 48 in epoch 6 out of epochs 500, Val acc= 89.74358974358975, Loss :0.5094612836837769\n",
            "finished training\n",
            "step 10 out of 48 in epoch 7 out of epochs 500, Val acc= 92.82051282051282, Loss :0.3810698390007019\n",
            "step 20 out of 48 in epoch 7 out of epochs 500, Val acc= 88.71794871794872, Loss :0.3864802420139313\n",
            "step 30 out of 48 in epoch 7 out of epochs 500, Val acc= 91.28205128205128, Loss :0.7128126621246338\n",
            "step 40 out of 48 in epoch 7 out of epochs 500, Val acc= 89.23076923076924, Loss :0.6307316422462463\n",
            "finished training\n",
            "step 10 out of 48 in epoch 8 out of epochs 500, Val acc= 89.74358974358975, Loss :0.4946175217628479\n",
            "step 20 out of 48 in epoch 8 out of epochs 500, Val acc= 90.25641025641026, Loss :0.6378064751625061\n",
            "step 30 out of 48 in epoch 8 out of epochs 500, Val acc= 91.28205128205128, Loss :0.5657245516777039\n",
            "step 40 out of 48 in epoch 8 out of epochs 500, Val acc= 89.74358974358975, Loss :0.5190117955207825\n",
            "finished training\n",
            "step 10 out of 48 in epoch 9 out of epochs 500, Val acc= 89.23076923076924, Loss :0.44767487049102783\n",
            "step 20 out of 48 in epoch 9 out of epochs 500, Val acc= 89.74358974358975, Loss :0.29428979754447937\n",
            "step 30 out of 48 in epoch 9 out of epochs 500, Val acc= 90.76923076923077, Loss :0.4404224455356598\n",
            "step 40 out of 48 in epoch 9 out of epochs 500, Val acc= 91.7948717948718, Loss :0.6479448676109314\n",
            "finished training\n",
            "step 10 out of 48 in epoch 10 out of epochs 500, Val acc= 91.28205128205128, Loss :0.5836501717567444\n",
            "step 20 out of 48 in epoch 10 out of epochs 500, Val acc= 90.25641025641026, Loss :0.4907529056072235\n",
            "step 30 out of 48 in epoch 10 out of epochs 500, Val acc= 91.7948717948718, Loss :0.49036046862602234\n",
            "step 40 out of 48 in epoch 10 out of epochs 500, Val acc= 91.28205128205128, Loss :0.5751907229423523\n",
            "finished training\n",
            "step 10 out of 48 in epoch 11 out of epochs 500, Val acc= 89.23076923076924, Loss :0.5695116519927979\n",
            "step 20 out of 48 in epoch 11 out of epochs 500, Val acc= 88.71794871794872, Loss :0.7052180767059326\n",
            "step 30 out of 48 in epoch 11 out of epochs 500, Val acc= 89.23076923076924, Loss :0.4804394245147705\n",
            "step 40 out of 48 in epoch 11 out of epochs 500, Val acc= 87.6923076923077, Loss :0.4887983798980713\n",
            "finished training\n",
            "step 10 out of 48 in epoch 12 out of epochs 500, Val acc= 87.6923076923077, Loss :0.49197331070899963\n",
            "step 20 out of 48 in epoch 12 out of epochs 500, Val acc= 88.2051282051282, Loss :0.5275297164916992\n",
            "step 30 out of 48 in epoch 12 out of epochs 500, Val acc= 89.23076923076924, Loss :0.5023901462554932\n",
            "step 40 out of 48 in epoch 12 out of epochs 500, Val acc= 90.25641025641026, Loss :0.5400428175926208\n",
            "finished training\n",
            "step 10 out of 48 in epoch 13 out of epochs 500, Val acc= 89.23076923076924, Loss :0.29125112295150757\n",
            "step 20 out of 48 in epoch 13 out of epochs 500, Val acc= 92.3076923076923, Loss :0.39950236678123474\n",
            "step 30 out of 48 in epoch 13 out of epochs 500, Val acc= 88.2051282051282, Loss :0.452564537525177\n",
            "step 40 out of 48 in epoch 13 out of epochs 500, Val acc= 90.76923076923077, Loss :0.6278772354125977\n",
            "finished training\n",
            "step 10 out of 48 in epoch 14 out of epochs 500, Val acc= 89.74358974358975, Loss :0.55612713098526\n",
            "step 20 out of 48 in epoch 14 out of epochs 500, Val acc= 89.23076923076924, Loss :0.5729363560676575\n",
            "step 30 out of 48 in epoch 14 out of epochs 500, Val acc= 90.76923076923077, Loss :0.42926767468452454\n",
            "step 40 out of 48 in epoch 14 out of epochs 500, Val acc= 89.23076923076924, Loss :0.5361567139625549\n",
            "finished training\n",
            "step 10 out of 48 in epoch 15 out of epochs 500, Val acc= 90.25641025641026, Loss :0.5512467622756958\n",
            "step 20 out of 48 in epoch 15 out of epochs 500, Val acc= 90.25641025641026, Loss :0.6434963941574097\n",
            "step 30 out of 48 in epoch 15 out of epochs 500, Val acc= 91.7948717948718, Loss :0.4994410574436188\n",
            "step 40 out of 48 in epoch 15 out of epochs 500, Val acc= 90.25641025641026, Loss :0.5635104775428772\n",
            "finished training\n",
            "step 10 out of 48 in epoch 16 out of epochs 500, Val acc= 88.2051282051282, Loss :0.46039700508117676\n",
            "step 20 out of 48 in epoch 16 out of epochs 500, Val acc= 87.17948717948718, Loss :0.5139675140380859\n",
            "step 30 out of 48 in epoch 16 out of epochs 500, Val acc= 90.25641025641026, Loss :0.4983402490615845\n",
            "step 40 out of 48 in epoch 16 out of epochs 500, Val acc= 91.28205128205128, Loss :0.39871054887771606\n",
            "finished training\n",
            "step 10 out of 48 in epoch 17 out of epochs 500, Val acc= 90.25641025641026, Loss :0.3971484303474426\n",
            "step 20 out of 48 in epoch 17 out of epochs 500, Val acc= 89.23076923076924, Loss :0.5635732412338257\n",
            "step 30 out of 48 in epoch 17 out of epochs 500, Val acc= 89.74358974358975, Loss :0.6251218318939209\n",
            "step 40 out of 48 in epoch 17 out of epochs 500, Val acc= 89.23076923076924, Loss :0.5784000158309937\n",
            "finished training\n",
            "step 10 out of 48 in epoch 18 out of epochs 500, Val acc= 90.25641025641026, Loss :0.4315926134586334\n",
            "step 20 out of 48 in epoch 18 out of epochs 500, Val acc= 90.25641025641026, Loss :0.5807552337646484\n",
            "step 30 out of 48 in epoch 18 out of epochs 500, Val acc= 91.28205128205128, Loss :0.5405997633934021\n",
            "step 40 out of 48 in epoch 18 out of epochs 500, Val acc= 88.71794871794872, Loss :0.5990257263183594\n",
            "finished training\n",
            "step 10 out of 48 in epoch 19 out of epochs 500, Val acc= 89.74358974358975, Loss :0.6076028347015381\n",
            "step 20 out of 48 in epoch 19 out of epochs 500, Val acc= 86.66666666666667, Loss :0.45186787843704224\n",
            "step 30 out of 48 in epoch 19 out of epochs 500, Val acc= 90.76923076923077, Loss :0.5240964889526367\n",
            "step 40 out of 48 in epoch 19 out of epochs 500, Val acc= 89.74358974358975, Loss :0.5580998659133911\n",
            "finished training\n",
            "step 10 out of 48 in epoch 20 out of epochs 500, Val acc= 89.74358974358975, Loss :0.443910151720047\n",
            "step 20 out of 48 in epoch 20 out of epochs 500, Val acc= 89.23076923076924, Loss :0.7406364679336548\n",
            "step 30 out of 48 in epoch 20 out of epochs 500, Val acc= 89.23076923076924, Loss :0.761141836643219\n",
            "step 40 out of 48 in epoch 20 out of epochs 500, Val acc= 89.23076923076924, Loss :0.4136795997619629\n",
            "finished training\n",
            "step 10 out of 48 in epoch 21 out of epochs 500, Val acc= 88.71794871794872, Loss :0.5419806838035583\n",
            "step 20 out of 48 in epoch 21 out of epochs 500, Val acc= 92.3076923076923, Loss :0.5073243379592896\n",
            "step 30 out of 48 in epoch 21 out of epochs 500, Val acc= 89.23076923076924, Loss :0.5071403980255127\n",
            "step 40 out of 48 in epoch 21 out of epochs 500, Val acc= 87.6923076923077, Loss :0.3580835461616516\n",
            "finished training\n",
            "step 10 out of 48 in epoch 22 out of epochs 500, Val acc= 90.25641025641026, Loss :0.6321212649345398\n",
            "step 20 out of 48 in epoch 22 out of epochs 500, Val acc= 89.23076923076924, Loss :0.3049122095108032\n",
            "step 30 out of 48 in epoch 22 out of epochs 500, Val acc= 89.23076923076924, Loss :0.3891925513744354\n",
            "step 40 out of 48 in epoch 22 out of epochs 500, Val acc= 91.7948717948718, Loss :0.3959953784942627\n",
            "finished training\n",
            "step 10 out of 48 in epoch 23 out of epochs 500, Val acc= 90.76923076923077, Loss :0.3494493365287781\n",
            "step 20 out of 48 in epoch 23 out of epochs 500, Val acc= 89.23076923076924, Loss :0.47887489199638367\n",
            "step 30 out of 48 in epoch 23 out of epochs 500, Val acc= 87.6923076923077, Loss :0.5448945760726929\n",
            "step 40 out of 48 in epoch 23 out of epochs 500, Val acc= 91.28205128205128, Loss :0.3632233142852783\n",
            "finished training\n",
            "step 10 out of 48 in epoch 24 out of epochs 500, Val acc= 90.76923076923077, Loss :0.7570979595184326\n",
            "step 20 out of 48 in epoch 24 out of epochs 500, Val acc= 90.25641025641026, Loss :0.43905070424079895\n",
            "step 30 out of 48 in epoch 24 out of epochs 500, Val acc= 91.7948717948718, Loss :0.3068562150001526\n",
            "step 40 out of 48 in epoch 24 out of epochs 500, Val acc= 90.25641025641026, Loss :0.41747966408729553\n",
            "finished training\n",
            "step 10 out of 48 in epoch 25 out of epochs 500, Val acc= 89.74358974358975, Loss :0.40663084387779236\n",
            "step 20 out of 48 in epoch 25 out of epochs 500, Val acc= 86.15384615384616, Loss :0.5286405682563782\n",
            "step 30 out of 48 in epoch 25 out of epochs 500, Val acc= 85.64102564102564, Loss :0.7580758929252625\n",
            "step 40 out of 48 in epoch 25 out of epochs 500, Val acc= 88.71794871794872, Loss :0.7500700354576111\n",
            "finished training\n",
            "step 10 out of 48 in epoch 26 out of epochs 500, Val acc= 92.82051282051282, Loss :0.6610717177391052\n",
            "step 20 out of 48 in epoch 26 out of epochs 500, Val acc= 87.17948717948718, Loss :0.73082035779953\n",
            "step 30 out of 48 in epoch 26 out of epochs 500, Val acc= 88.71794871794872, Loss :0.4979116916656494\n",
            "step 40 out of 48 in epoch 26 out of epochs 500, Val acc= 89.23076923076924, Loss :0.39888590574264526\n",
            "finished training\n",
            "step 10 out of 48 in epoch 27 out of epochs 500, Val acc= 88.2051282051282, Loss :0.6350298523902893\n",
            "step 20 out of 48 in epoch 27 out of epochs 500, Val acc= 90.25641025641026, Loss :0.5880371928215027\n",
            "step 30 out of 48 in epoch 27 out of epochs 500, Val acc= 86.66666666666667, Loss :0.8246656656265259\n",
            "step 40 out of 48 in epoch 27 out of epochs 500, Val acc= 92.3076923076923, Loss :0.41707417368888855\n",
            "finished training\n",
            "step 10 out of 48 in epoch 28 out of epochs 500, Val acc= 89.74358974358975, Loss :0.6327107548713684\n",
            "step 20 out of 48 in epoch 28 out of epochs 500, Val acc= 90.76923076923077, Loss :0.5077384114265442\n",
            "step 30 out of 48 in epoch 28 out of epochs 500, Val acc= 89.74358974358975, Loss :0.6995734572410583\n",
            "step 40 out of 48 in epoch 28 out of epochs 500, Val acc= 88.71794871794872, Loss :0.3304719924926758\n",
            "finished training\n",
            "step 10 out of 48 in epoch 29 out of epochs 500, Val acc= 88.71794871794872, Loss :0.4666736423969269\n",
            "step 20 out of 48 in epoch 29 out of epochs 500, Val acc= 88.71794871794872, Loss :0.543170154094696\n",
            "step 30 out of 48 in epoch 29 out of epochs 500, Val acc= 90.25641025641026, Loss :0.7689566016197205\n",
            "step 40 out of 48 in epoch 29 out of epochs 500, Val acc= 87.6923076923077, Loss :0.4712701141834259\n",
            "finished training\n",
            "step 10 out of 48 in epoch 30 out of epochs 500, Val acc= 90.76923076923077, Loss :0.7259870767593384\n",
            "step 20 out of 48 in epoch 30 out of epochs 500, Val acc= 86.66666666666667, Loss :0.5553858876228333\n",
            "step 30 out of 48 in epoch 30 out of epochs 500, Val acc= 90.25641025641026, Loss :0.38692623376846313\n",
            "step 40 out of 48 in epoch 30 out of epochs 500, Val acc= 91.28205128205128, Loss :0.37088724970817566\n",
            "finished training\n",
            "step 10 out of 48 in epoch 31 out of epochs 500, Val acc= 87.6923076923077, Loss :0.5007126331329346\n",
            "step 20 out of 48 in epoch 31 out of epochs 500, Val acc= 90.76923076923077, Loss :0.49007320404052734\n",
            "step 30 out of 48 in epoch 31 out of epochs 500, Val acc= 92.3076923076923, Loss :0.4292469620704651\n",
            "step 40 out of 48 in epoch 31 out of epochs 500, Val acc= 92.82051282051282, Loss :0.311911404132843\n",
            "finished training\n",
            "step 10 out of 48 in epoch 32 out of epochs 500, Val acc= 92.3076923076923, Loss :0.26667433977127075\n",
            "step 20 out of 48 in epoch 32 out of epochs 500, Val acc= 88.71794871794872, Loss :0.6147599816322327\n",
            "step 30 out of 48 in epoch 32 out of epochs 500, Val acc= 88.2051282051282, Loss :0.41689029335975647\n",
            "step 40 out of 48 in epoch 32 out of epochs 500, Val acc= 87.17948717948718, Loss :0.5821146965026855\n",
            "finished training\n",
            "step 10 out of 48 in epoch 33 out of epochs 500, Val acc= 90.25641025641026, Loss :0.45833539962768555\n",
            "step 20 out of 48 in epoch 33 out of epochs 500, Val acc= 91.7948717948718, Loss :0.6097543835639954\n",
            "step 30 out of 48 in epoch 33 out of epochs 500, Val acc= 90.25641025641026, Loss :0.36235445737838745\n",
            "step 40 out of 48 in epoch 33 out of epochs 500, Val acc= 90.76923076923077, Loss :0.6039971709251404\n",
            "finished training\n",
            "step 10 out of 48 in epoch 34 out of epochs 500, Val acc= 89.23076923076924, Loss :0.5503749847412109\n",
            "step 20 out of 48 in epoch 34 out of epochs 500, Val acc= 88.71794871794872, Loss :0.41318705677986145\n",
            "step 30 out of 48 in epoch 34 out of epochs 500, Val acc= 88.2051282051282, Loss :0.49051380157470703\n",
            "step 40 out of 48 in epoch 34 out of epochs 500, Val acc= 90.25641025641026, Loss :0.763083815574646\n",
            "finished training\n",
            "step 10 out of 48 in epoch 35 out of epochs 500, Val acc= 88.2051282051282, Loss :0.3785102665424347\n",
            "step 20 out of 48 in epoch 35 out of epochs 500, Val acc= 88.71794871794872, Loss :0.5276186466217041\n",
            "step 30 out of 48 in epoch 35 out of epochs 500, Val acc= 90.76923076923077, Loss :0.32948851585388184\n",
            "step 40 out of 48 in epoch 35 out of epochs 500, Val acc= 90.25641025641026, Loss :0.34908124804496765\n",
            "finished training\n",
            "step 10 out of 48 in epoch 36 out of epochs 500, Val acc= 86.15384615384616, Loss :0.557521402835846\n",
            "step 20 out of 48 in epoch 36 out of epochs 500, Val acc= 87.6923076923077, Loss :0.6398760080337524\n",
            "step 30 out of 48 in epoch 36 out of epochs 500, Val acc= 90.76923076923077, Loss :0.6138033866882324\n",
            "step 40 out of 48 in epoch 36 out of epochs 500, Val acc= 88.71794871794872, Loss :0.30007851123809814\n",
            "finished training\n",
            "step 10 out of 48 in epoch 37 out of epochs 500, Val acc= 88.71794871794872, Loss :0.34865880012512207\n",
            "step 20 out of 48 in epoch 37 out of epochs 500, Val acc= 92.82051282051282, Loss :0.44086700677871704\n",
            "step 30 out of 48 in epoch 37 out of epochs 500, Val acc= 88.2051282051282, Loss :0.4470078945159912\n",
            "step 40 out of 48 in epoch 37 out of epochs 500, Val acc= 89.23076923076924, Loss :0.35232099890708923\n",
            "finished training\n",
            "step 10 out of 48 in epoch 38 out of epochs 500, Val acc= 87.6923076923077, Loss :0.7860386371612549\n",
            "step 20 out of 48 in epoch 38 out of epochs 500, Val acc= 88.71794871794872, Loss :0.5267723798751831\n",
            "step 30 out of 48 in epoch 38 out of epochs 500, Val acc= 87.17948717948718, Loss :0.5621688961982727\n",
            "step 40 out of 48 in epoch 38 out of epochs 500, Val acc= 91.28205128205128, Loss :0.590047299861908\n",
            "finished training\n",
            "step 10 out of 48 in epoch 39 out of epochs 500, Val acc= 92.3076923076923, Loss :0.5639837980270386\n",
            "step 20 out of 48 in epoch 39 out of epochs 500, Val acc= 88.2051282051282, Loss :0.5921999216079712\n",
            "step 30 out of 48 in epoch 39 out of epochs 500, Val acc= 87.17948717948718, Loss :0.46356135606765747\n",
            "step 40 out of 48 in epoch 39 out of epochs 500, Val acc= 90.76923076923077, Loss :0.6031737923622131\n",
            "finished training\n",
            "step 10 out of 48 in epoch 40 out of epochs 500, Val acc= 90.25641025641026, Loss :0.43131402134895325\n",
            "step 20 out of 48 in epoch 40 out of epochs 500, Val acc= 91.7948717948718, Loss :0.3501853942871094\n",
            "step 30 out of 48 in epoch 40 out of epochs 500, Val acc= 89.74358974358975, Loss :0.6175330877304077\n",
            "step 40 out of 48 in epoch 40 out of epochs 500, Val acc= 90.76923076923077, Loss :0.6949147582054138\n",
            "finished training\n",
            "step 10 out of 48 in epoch 41 out of epochs 500, Val acc= 91.7948717948718, Loss :0.2857934236526489\n",
            "step 20 out of 48 in epoch 41 out of epochs 500, Val acc= 89.23076923076924, Loss :0.5134043097496033\n",
            "step 30 out of 48 in epoch 41 out of epochs 500, Val acc= 90.76923076923077, Loss :0.37512144446372986\n",
            "step 40 out of 48 in epoch 41 out of epochs 500, Val acc= 90.25641025641026, Loss :0.4757090210914612\n",
            "finished training\n",
            "step 10 out of 48 in epoch 42 out of epochs 500, Val acc= 88.71794871794872, Loss :0.5983573794364929\n",
            "step 20 out of 48 in epoch 42 out of epochs 500, Val acc= 89.74358974358975, Loss :0.7490379214286804\n",
            "step 30 out of 48 in epoch 42 out of epochs 500, Val acc= 90.76923076923077, Loss :0.4850339889526367\n",
            "step 40 out of 48 in epoch 42 out of epochs 500, Val acc= 85.12820512820512, Loss :0.4139070510864258\n",
            "finished training\n",
            "step 10 out of 48 in epoch 43 out of epochs 500, Val acc= 90.76923076923077, Loss :0.5298497676849365\n",
            "step 20 out of 48 in epoch 43 out of epochs 500, Val acc= 88.2051282051282, Loss :0.3613702654838562\n",
            "step 30 out of 48 in epoch 43 out of epochs 500, Val acc= 88.71794871794872, Loss :0.3313682973384857\n",
            "step 40 out of 48 in epoch 43 out of epochs 500, Val acc= 87.6923076923077, Loss :0.5186025500297546\n",
            "finished training\n",
            "step 10 out of 48 in epoch 44 out of epochs 500, Val acc= 90.76923076923077, Loss :0.3201357126235962\n",
            "step 20 out of 48 in epoch 44 out of epochs 500, Val acc= 90.76923076923077, Loss :0.765296459197998\n",
            "step 30 out of 48 in epoch 44 out of epochs 500, Val acc= 89.23076923076924, Loss :0.29949691891670227\n",
            "step 40 out of 48 in epoch 44 out of epochs 500, Val acc= 89.23076923076924, Loss :0.356388121843338\n",
            "finished training\n",
            "step 10 out of 48 in epoch 45 out of epochs 500, Val acc= 92.82051282051282, Loss :0.6392287611961365\n",
            "step 20 out of 48 in epoch 45 out of epochs 500, Val acc= 88.2051282051282, Loss :0.5061612725257874\n",
            "step 30 out of 48 in epoch 45 out of epochs 500, Val acc= 89.74358974358975, Loss :0.28284141421318054\n",
            "step 40 out of 48 in epoch 45 out of epochs 500, Val acc= 88.71794871794872, Loss :0.6991804838180542\n",
            "finished training\n",
            "step 10 out of 48 in epoch 46 out of epochs 500, Val acc= 88.2051282051282, Loss :0.3217312693595886\n",
            "step 20 out of 48 in epoch 46 out of epochs 500, Val acc= 87.6923076923077, Loss :0.6218075156211853\n",
            "step 30 out of 48 in epoch 46 out of epochs 500, Val acc= 91.28205128205128, Loss :0.42566177248954773\n",
            "step 40 out of 48 in epoch 46 out of epochs 500, Val acc= 90.76923076923077, Loss :0.3528967797756195\n",
            "finished training\n",
            "step 10 out of 48 in epoch 47 out of epochs 500, Val acc= 89.23076923076924, Loss :0.4874725937843323\n",
            "step 20 out of 48 in epoch 47 out of epochs 500, Val acc= 91.28205128205128, Loss :0.5152535438537598\n",
            "step 30 out of 48 in epoch 47 out of epochs 500, Val acc= 91.28205128205128, Loss :0.6715612411499023\n",
            "step 40 out of 48 in epoch 47 out of epochs 500, Val acc= 87.17948717948718, Loss :0.5235953330993652\n",
            "finished training\n",
            "step 10 out of 48 in epoch 48 out of epochs 500, Val acc= 87.6923076923077, Loss :0.408770889043808\n",
            "step 20 out of 48 in epoch 48 out of epochs 500, Val acc= 88.71794871794872, Loss :0.6413140892982483\n",
            "step 30 out of 48 in epoch 48 out of epochs 500, Val acc= 90.25641025641026, Loss :0.48757392168045044\n"
          ]
        },
        {
          "output_type": "error",
          "ename": "KeyboardInterrupt",
          "evalue": "",
          "traceback": [
            "\u001b[0;31m---------------------------------------------------------------------------\u001b[0m",
            "\u001b[0;31mKeyboardInterrupt\u001b[0m                         Traceback (most recent call last)",
            "\u001b[0;32m<ipython-input-57-4225a78651da>\u001b[0m in \u001b[0;36m<cell line: 3>\u001b[0;34m()\u001b[0m\n\u001b[1;32m      2\u001b[0m \u001b[0mn_total_steps\u001b[0m \u001b[0;34m=\u001b[0m \u001b[0mlen\u001b[0m\u001b[0;34m(\u001b[0m\u001b[0mtrain_dl\u001b[0m\u001b[0;34m)\u001b[0m\u001b[0;34m\u001b[0m\u001b[0;34m\u001b[0m\u001b[0m\n\u001b[1;32m      3\u001b[0m \u001b[0;32mfor\u001b[0m \u001b[0mepochs\u001b[0m \u001b[0;32min\u001b[0m \u001b[0mrange\u001b[0m\u001b[0;34m(\u001b[0m\u001b[0mnum_epochs\u001b[0m\u001b[0;34m)\u001b[0m\u001b[0;34m:\u001b[0m\u001b[0;34m\u001b[0m\u001b[0;34m\u001b[0m\u001b[0m\n\u001b[0;32m----> 4\u001b[0;31m   \u001b[0;32mfor\u001b[0m \u001b[0mi\u001b[0m\u001b[0;34m,\u001b[0m \u001b[0;34m(\u001b[0m\u001b[0mimage\u001b[0m\u001b[0;34m,\u001b[0m \u001b[0mlabels\u001b[0m\u001b[0;34m)\u001b[0m \u001b[0;32min\u001b[0m \u001b[0menumerate\u001b[0m\u001b[0;34m(\u001b[0m\u001b[0mtrain_dl\u001b[0m\u001b[0;34m)\u001b[0m\u001b[0;34m:\u001b[0m\u001b[0;34m\u001b[0m\u001b[0;34m\u001b[0m\u001b[0m\n\u001b[0m\u001b[1;32m      5\u001b[0m     \u001b[0;32mif\u001b[0m \u001b[0mimage\u001b[0m\u001b[0;34m.\u001b[0m\u001b[0mshape\u001b[0m\u001b[0;34m[\u001b[0m\u001b[0;36m1\u001b[0m\u001b[0;34m]\u001b[0m \u001b[0;34m==\u001b[0m \u001b[0;36m3\u001b[0m\u001b[0;34m:\u001b[0m\u001b[0;34m\u001b[0m\u001b[0;34m\u001b[0m\u001b[0m\n\u001b[1;32m      6\u001b[0m       \u001b[0mimage\u001b[0m \u001b[0;34m=\u001b[0m \u001b[0mimage\u001b[0m\u001b[0;34m.\u001b[0m\u001b[0mto\u001b[0m\u001b[0;34m(\u001b[0m\u001b[0mdevice\u001b[0m\u001b[0;34m)\u001b[0m\u001b[0;34m\u001b[0m\u001b[0;34m\u001b[0m\u001b[0m\n",
            "\u001b[0;32m/usr/local/lib/python3.10/dist-packages/torch/utils/data/dataloader.py\u001b[0m in \u001b[0;36m__next__\u001b[0;34m(self)\u001b[0m\n\u001b[1;32m    628\u001b[0m                 \u001b[0;31m# TODO(https://github.com/pytorch/pytorch/issues/76750)\u001b[0m\u001b[0;34m\u001b[0m\u001b[0;34m\u001b[0m\u001b[0m\n\u001b[1;32m    629\u001b[0m                 \u001b[0mself\u001b[0m\u001b[0;34m.\u001b[0m\u001b[0m_reset\u001b[0m\u001b[0;34m(\u001b[0m\u001b[0;34m)\u001b[0m  \u001b[0;31m# type: ignore[call-arg]\u001b[0m\u001b[0;34m\u001b[0m\u001b[0;34m\u001b[0m\u001b[0m\n\u001b[0;32m--> 630\u001b[0;31m             \u001b[0mdata\u001b[0m \u001b[0;34m=\u001b[0m \u001b[0mself\u001b[0m\u001b[0;34m.\u001b[0m\u001b[0m_next_data\u001b[0m\u001b[0;34m(\u001b[0m\u001b[0;34m)\u001b[0m\u001b[0;34m\u001b[0m\u001b[0;34m\u001b[0m\u001b[0m\n\u001b[0m\u001b[1;32m    631\u001b[0m             \u001b[0mself\u001b[0m\u001b[0;34m.\u001b[0m\u001b[0m_num_yielded\u001b[0m \u001b[0;34m+=\u001b[0m \u001b[0;36m1\u001b[0m\u001b[0;34m\u001b[0m\u001b[0;34m\u001b[0m\u001b[0m\n\u001b[1;32m    632\u001b[0m             \u001b[0;32mif\u001b[0m \u001b[0mself\u001b[0m\u001b[0;34m.\u001b[0m\u001b[0m_dataset_kind\u001b[0m \u001b[0;34m==\u001b[0m \u001b[0m_DatasetKind\u001b[0m\u001b[0;34m.\u001b[0m\u001b[0mIterable\u001b[0m \u001b[0;32mand\u001b[0m\u001b[0;31m \u001b[0m\u001b[0;31m\\\u001b[0m\u001b[0;34m\u001b[0m\u001b[0;34m\u001b[0m\u001b[0m\n",
            "\u001b[0;32m/usr/local/lib/python3.10/dist-packages/torch/utils/data/dataloader.py\u001b[0m in \u001b[0;36m_next_data\u001b[0;34m(self)\u001b[0m\n\u001b[1;32m    672\u001b[0m     \u001b[0;32mdef\u001b[0m \u001b[0m_next_data\u001b[0m\u001b[0;34m(\u001b[0m\u001b[0mself\u001b[0m\u001b[0;34m)\u001b[0m\u001b[0;34m:\u001b[0m\u001b[0;34m\u001b[0m\u001b[0;34m\u001b[0m\u001b[0m\n\u001b[1;32m    673\u001b[0m         \u001b[0mindex\u001b[0m \u001b[0;34m=\u001b[0m \u001b[0mself\u001b[0m\u001b[0;34m.\u001b[0m\u001b[0m_next_index\u001b[0m\u001b[0;34m(\u001b[0m\u001b[0;34m)\u001b[0m  \u001b[0;31m# may raise StopIteration\u001b[0m\u001b[0;34m\u001b[0m\u001b[0;34m\u001b[0m\u001b[0m\n\u001b[0;32m--> 674\u001b[0;31m         \u001b[0mdata\u001b[0m \u001b[0;34m=\u001b[0m \u001b[0mself\u001b[0m\u001b[0;34m.\u001b[0m\u001b[0m_dataset_fetcher\u001b[0m\u001b[0;34m.\u001b[0m\u001b[0mfetch\u001b[0m\u001b[0;34m(\u001b[0m\u001b[0mindex\u001b[0m\u001b[0;34m)\u001b[0m  \u001b[0;31m# may raise StopIteration\u001b[0m\u001b[0;34m\u001b[0m\u001b[0;34m\u001b[0m\u001b[0m\n\u001b[0m\u001b[1;32m    675\u001b[0m         \u001b[0;32mif\u001b[0m \u001b[0mself\u001b[0m\u001b[0;34m.\u001b[0m\u001b[0m_pin_memory\u001b[0m\u001b[0;34m:\u001b[0m\u001b[0;34m\u001b[0m\u001b[0;34m\u001b[0m\u001b[0m\n\u001b[1;32m    676\u001b[0m             \u001b[0mdata\u001b[0m \u001b[0;34m=\u001b[0m \u001b[0m_utils\u001b[0m\u001b[0;34m.\u001b[0m\u001b[0mpin_memory\u001b[0m\u001b[0;34m.\u001b[0m\u001b[0mpin_memory\u001b[0m\u001b[0;34m(\u001b[0m\u001b[0mdata\u001b[0m\u001b[0;34m,\u001b[0m \u001b[0mself\u001b[0m\u001b[0;34m.\u001b[0m\u001b[0m_pin_memory_device\u001b[0m\u001b[0;34m)\u001b[0m\u001b[0;34m\u001b[0m\u001b[0;34m\u001b[0m\u001b[0m\n",
            "\u001b[0;32m/usr/local/lib/python3.10/dist-packages/torch/utils/data/_utils/fetch.py\u001b[0m in \u001b[0;36mfetch\u001b[0;34m(self, possibly_batched_index)\u001b[0m\n\u001b[1;32m     49\u001b[0m                 \u001b[0mdata\u001b[0m \u001b[0;34m=\u001b[0m \u001b[0mself\u001b[0m\u001b[0;34m.\u001b[0m\u001b[0mdataset\u001b[0m\u001b[0;34m.\u001b[0m\u001b[0m__getitems__\u001b[0m\u001b[0;34m(\u001b[0m\u001b[0mpossibly_batched_index\u001b[0m\u001b[0;34m)\u001b[0m\u001b[0;34m\u001b[0m\u001b[0;34m\u001b[0m\u001b[0m\n\u001b[1;32m     50\u001b[0m             \u001b[0;32melse\u001b[0m\u001b[0;34m:\u001b[0m\u001b[0;34m\u001b[0m\u001b[0;34m\u001b[0m\u001b[0m\n\u001b[0;32m---> 51\u001b[0;31m                 \u001b[0mdata\u001b[0m \u001b[0;34m=\u001b[0m \u001b[0;34m[\u001b[0m\u001b[0mself\u001b[0m\u001b[0;34m.\u001b[0m\u001b[0mdataset\u001b[0m\u001b[0;34m[\u001b[0m\u001b[0midx\u001b[0m\u001b[0;34m]\u001b[0m \u001b[0;32mfor\u001b[0m \u001b[0midx\u001b[0m \u001b[0;32min\u001b[0m \u001b[0mpossibly_batched_index\u001b[0m\u001b[0;34m]\u001b[0m\u001b[0;34m\u001b[0m\u001b[0;34m\u001b[0m\u001b[0m\n\u001b[0m\u001b[1;32m     52\u001b[0m         \u001b[0;32melse\u001b[0m\u001b[0;34m:\u001b[0m\u001b[0;34m\u001b[0m\u001b[0;34m\u001b[0m\u001b[0m\n\u001b[1;32m     53\u001b[0m             \u001b[0mdata\u001b[0m \u001b[0;34m=\u001b[0m \u001b[0mself\u001b[0m\u001b[0;34m.\u001b[0m\u001b[0mdataset\u001b[0m\u001b[0;34m[\u001b[0m\u001b[0mpossibly_batched_index\u001b[0m\u001b[0;34m]\u001b[0m\u001b[0;34m\u001b[0m\u001b[0;34m\u001b[0m\u001b[0m\n",
            "\u001b[0;32m/usr/local/lib/python3.10/dist-packages/torch/utils/data/_utils/fetch.py\u001b[0m in \u001b[0;36m<listcomp>\u001b[0;34m(.0)\u001b[0m\n\u001b[1;32m     49\u001b[0m                 \u001b[0mdata\u001b[0m \u001b[0;34m=\u001b[0m \u001b[0mself\u001b[0m\u001b[0;34m.\u001b[0m\u001b[0mdataset\u001b[0m\u001b[0;34m.\u001b[0m\u001b[0m__getitems__\u001b[0m\u001b[0;34m(\u001b[0m\u001b[0mpossibly_batched_index\u001b[0m\u001b[0;34m)\u001b[0m\u001b[0;34m\u001b[0m\u001b[0;34m\u001b[0m\u001b[0m\n\u001b[1;32m     50\u001b[0m             \u001b[0;32melse\u001b[0m\u001b[0;34m:\u001b[0m\u001b[0;34m\u001b[0m\u001b[0;34m\u001b[0m\u001b[0m\n\u001b[0;32m---> 51\u001b[0;31m                 \u001b[0mdata\u001b[0m \u001b[0;34m=\u001b[0m \u001b[0;34m[\u001b[0m\u001b[0mself\u001b[0m\u001b[0;34m.\u001b[0m\u001b[0mdataset\u001b[0m\u001b[0;34m[\u001b[0m\u001b[0midx\u001b[0m\u001b[0;34m]\u001b[0m \u001b[0;32mfor\u001b[0m \u001b[0midx\u001b[0m \u001b[0;32min\u001b[0m \u001b[0mpossibly_batched_index\u001b[0m\u001b[0;34m]\u001b[0m\u001b[0;34m\u001b[0m\u001b[0;34m\u001b[0m\u001b[0m\n\u001b[0m\u001b[1;32m     52\u001b[0m         \u001b[0;32melse\u001b[0m\u001b[0;34m:\u001b[0m\u001b[0;34m\u001b[0m\u001b[0;34m\u001b[0m\u001b[0m\n\u001b[1;32m     53\u001b[0m             \u001b[0mdata\u001b[0m \u001b[0;34m=\u001b[0m \u001b[0mself\u001b[0m\u001b[0;34m.\u001b[0m\u001b[0mdataset\u001b[0m\u001b[0;34m[\u001b[0m\u001b[0mpossibly_batched_index\u001b[0m\u001b[0;34m]\u001b[0m\u001b[0;34m\u001b[0m\u001b[0;34m\u001b[0m\u001b[0m\n",
            "\u001b[0;32m/usr/local/lib/python3.10/dist-packages/torch/utils/data/dataset.py\u001b[0m in \u001b[0;36m__getitem__\u001b[0;34m(self, idx)\u001b[0m\n\u001b[1;32m    300\u001b[0m         \u001b[0;32melse\u001b[0m\u001b[0;34m:\u001b[0m\u001b[0;34m\u001b[0m\u001b[0;34m\u001b[0m\u001b[0m\n\u001b[1;32m    301\u001b[0m             \u001b[0msample_idx\u001b[0m \u001b[0;34m=\u001b[0m \u001b[0midx\u001b[0m \u001b[0;34m-\u001b[0m \u001b[0mself\u001b[0m\u001b[0;34m.\u001b[0m\u001b[0mcumulative_sizes\u001b[0m\u001b[0;34m[\u001b[0m\u001b[0mdataset_idx\u001b[0m \u001b[0;34m-\u001b[0m \u001b[0;36m1\u001b[0m\u001b[0;34m]\u001b[0m\u001b[0;34m\u001b[0m\u001b[0;34m\u001b[0m\u001b[0m\n\u001b[0;32m--> 302\u001b[0;31m         \u001b[0;32mreturn\u001b[0m \u001b[0mself\u001b[0m\u001b[0;34m.\u001b[0m\u001b[0mdatasets\u001b[0m\u001b[0;34m[\u001b[0m\u001b[0mdataset_idx\u001b[0m\u001b[0;34m]\u001b[0m\u001b[0;34m[\u001b[0m\u001b[0msample_idx\u001b[0m\u001b[0;34m]\u001b[0m\u001b[0;34m\u001b[0m\u001b[0;34m\u001b[0m\u001b[0m\n\u001b[0m\u001b[1;32m    303\u001b[0m \u001b[0;34m\u001b[0m\u001b[0m\n\u001b[1;32m    304\u001b[0m     \u001b[0;34m@\u001b[0m\u001b[0mproperty\u001b[0m\u001b[0;34m\u001b[0m\u001b[0;34m\u001b[0m\u001b[0m\n",
            "\u001b[0;32m/usr/local/lib/python3.10/dist-packages/torch/utils/data/dataset.py\u001b[0m in \u001b[0;36m__getitem__\u001b[0;34m(self, idx)\u001b[0m\n\u001b[1;32m    354\u001b[0m         \u001b[0;32mif\u001b[0m \u001b[0misinstance\u001b[0m\u001b[0;34m(\u001b[0m\u001b[0midx\u001b[0m\u001b[0;34m,\u001b[0m \u001b[0mlist\u001b[0m\u001b[0;34m)\u001b[0m\u001b[0;34m:\u001b[0m\u001b[0;34m\u001b[0m\u001b[0;34m\u001b[0m\u001b[0m\n\u001b[1;32m    355\u001b[0m             \u001b[0;32mreturn\u001b[0m \u001b[0mself\u001b[0m\u001b[0;34m.\u001b[0m\u001b[0mdataset\u001b[0m\u001b[0;34m[\u001b[0m\u001b[0;34m[\u001b[0m\u001b[0mself\u001b[0m\u001b[0;34m.\u001b[0m\u001b[0mindices\u001b[0m\u001b[0;34m[\u001b[0m\u001b[0mi\u001b[0m\u001b[0;34m]\u001b[0m \u001b[0;32mfor\u001b[0m \u001b[0mi\u001b[0m \u001b[0;32min\u001b[0m \u001b[0midx\u001b[0m\u001b[0;34m]\u001b[0m\u001b[0;34m]\u001b[0m\u001b[0;34m\u001b[0m\u001b[0;34m\u001b[0m\u001b[0m\n\u001b[0;32m--> 356\u001b[0;31m         \u001b[0;32mreturn\u001b[0m \u001b[0mself\u001b[0m\u001b[0;34m.\u001b[0m\u001b[0mdataset\u001b[0m\u001b[0;34m[\u001b[0m\u001b[0mself\u001b[0m\u001b[0;34m.\u001b[0m\u001b[0mindices\u001b[0m\u001b[0;34m[\u001b[0m\u001b[0midx\u001b[0m\u001b[0;34m]\u001b[0m\u001b[0;34m]\u001b[0m\u001b[0;34m\u001b[0m\u001b[0;34m\u001b[0m\u001b[0m\n\u001b[0m\u001b[1;32m    357\u001b[0m \u001b[0;34m\u001b[0m\u001b[0m\n\u001b[1;32m    358\u001b[0m     \u001b[0;32mdef\u001b[0m \u001b[0m__getitems__\u001b[0m\u001b[0;34m(\u001b[0m\u001b[0mself\u001b[0m\u001b[0;34m,\u001b[0m \u001b[0mindices\u001b[0m\u001b[0;34m:\u001b[0m \u001b[0mList\u001b[0m\u001b[0;34m[\u001b[0m\u001b[0mint\u001b[0m\u001b[0;34m]\u001b[0m\u001b[0;34m)\u001b[0m \u001b[0;34m->\u001b[0m \u001b[0mList\u001b[0m\u001b[0;34m[\u001b[0m\u001b[0mT_co\u001b[0m\u001b[0;34m]\u001b[0m\u001b[0;34m:\u001b[0m\u001b[0;34m\u001b[0m\u001b[0;34m\u001b[0m\u001b[0m\n",
            "\u001b[0;32m<ipython-input-6-0f4ff8a3b2ad>\u001b[0m in \u001b[0;36m__getitem__\u001b[0;34m(self, idx)\u001b[0m\n\u001b[1;32m     23\u001b[0m \u001b[0;34m\u001b[0m\u001b[0m\n\u001b[1;32m     24\u001b[0m   \u001b[0;32mdef\u001b[0m \u001b[0m__getitem__\u001b[0m\u001b[0;34m(\u001b[0m\u001b[0mself\u001b[0m\u001b[0;34m,\u001b[0m \u001b[0midx\u001b[0m\u001b[0;34m)\u001b[0m\u001b[0;34m:\u001b[0m\u001b[0;34m\u001b[0m\u001b[0;34m\u001b[0m\u001b[0m\n\u001b[0;32m---> 25\u001b[0;31m       \u001b[0mimage\u001b[0m \u001b[0;34m=\u001b[0m \u001b[0mImage\u001b[0m\u001b[0;34m.\u001b[0m\u001b[0mopen\u001b[0m\u001b[0;34m(\u001b[0m\u001b[0mself\u001b[0m\u001b[0;34m.\u001b[0m\u001b[0mimage_path\u001b[0m\u001b[0;34m[\u001b[0m\u001b[0midx\u001b[0m\u001b[0;34m]\u001b[0m\u001b[0;34m)\u001b[0m\u001b[0;34m\u001b[0m\u001b[0;34m\u001b[0m\u001b[0m\n\u001b[0m\u001b[1;32m     26\u001b[0m       \u001b[0;32mif\u001b[0m \u001b[0mself\u001b[0m\u001b[0;34m.\u001b[0m\u001b[0mtransform\u001b[0m\u001b[0;34m:\u001b[0m\u001b[0;34m\u001b[0m\u001b[0;34m\u001b[0m\u001b[0m\n\u001b[1;32m     27\u001b[0m         \u001b[0mimage\u001b[0m \u001b[0;34m=\u001b[0m \u001b[0mself\u001b[0m\u001b[0;34m.\u001b[0m\u001b[0mtransform\u001b[0m\u001b[0;34m(\u001b[0m\u001b[0mimage\u001b[0m\u001b[0;34m)\u001b[0m\u001b[0;34m\u001b[0m\u001b[0;34m\u001b[0m\u001b[0m\n",
            "\u001b[0;32m/usr/local/lib/python3.10/dist-packages/PIL/Image.py\u001b[0m in \u001b[0;36mopen\u001b[0;34m(fp, mode, formats)\u001b[0m\n\u001b[1;32m   3225\u001b[0m \u001b[0;34m\u001b[0m\u001b[0m\n\u001b[1;32m   3226\u001b[0m     \u001b[0;32mif\u001b[0m \u001b[0mfilename\u001b[0m\u001b[0;34m:\u001b[0m\u001b[0;34m\u001b[0m\u001b[0;34m\u001b[0m\u001b[0m\n\u001b[0;32m-> 3227\u001b[0;31m         \u001b[0mfp\u001b[0m \u001b[0;34m=\u001b[0m \u001b[0mbuiltins\u001b[0m\u001b[0;34m.\u001b[0m\u001b[0mopen\u001b[0m\u001b[0;34m(\u001b[0m\u001b[0mfilename\u001b[0m\u001b[0;34m,\u001b[0m \u001b[0;34m\"rb\"\u001b[0m\u001b[0;34m)\u001b[0m\u001b[0;34m\u001b[0m\u001b[0;34m\u001b[0m\u001b[0m\n\u001b[0m\u001b[1;32m   3228\u001b[0m         \u001b[0mexclusive_fp\u001b[0m \u001b[0;34m=\u001b[0m \u001b[0;32mTrue\u001b[0m\u001b[0;34m\u001b[0m\u001b[0;34m\u001b[0m\u001b[0m\n\u001b[1;32m   3229\u001b[0m \u001b[0;34m\u001b[0m\u001b[0m\n",
            "\u001b[0;31mKeyboardInterrupt\u001b[0m: "
          ]
        }
      ]
    },
    {
      "cell_type": "code",
      "source": [
        "with torch.no_grad():\n",
        "  n_samples = 0\n",
        "  n_correct = 0\n",
        "  n_classes = [0 for i in range(len(DogDataSet.label_dict))]\n",
        "  n_correct_classes = [0 for i in range(len(DogDataSet.label_dict))]\n",
        "  for images, labels in val_dl:\n",
        "    images = images.to(device)\n",
        "    labels = labels.to(device)\n",
        "    outputs = resnet(images) # output of size (batchsize, num of classes)\n",
        "    _, predicted = torch.max(outputs, dim=1) #max for each of the colums dim=1 columns and we want the indexes not the prob\n",
        "    n_samples += labels.size(0)\n",
        "    n_correct += (labels==predicted).sum().item()\n",
        "    for i in range(images.shape[0]):\n",
        "      label = labels[i]\n",
        "      pred = predicted[i]\n",
        "      if label == pred:\n",
        "        n_correct_classes[label] += 1\n",
        "      n_classes[label] += 1\n",
        "\n",
        "print(f'The accuracy of the network is {n_correct/n_samples * 100}')\n",
        "for i in range(len(n_classes)):\n",
        "  print(f'The accuracy for the class {DogDataSet.label_dict[i]} is {n_correct_classes[i]/n_classes[i] * 100}')"
      ],
      "metadata": {
        "colab": {
          "base_uri": "https://localhost:8080/"
        },
        "id": "NUCUHt2el7u1",
        "outputId": "ee4a5f31-19f7-43a9-d716-f80a6151c715"
      },
      "execution_count": null,
      "outputs": [
        {
          "output_type": "stream",
          "name": "stdout",
          "text": [
            "The accuracy of the network is 89.74358974358975\n",
            "The accuracy for the class n02099601-golden_retriever is 84.0\n",
            "The accuracy for the class n02110185-Siberian_husky is 90.2439024390244\n",
            "The accuracy for the class n02111277-Newfoundland is 100.0\n",
            "The accuracy for the class n02085936-Maltese_dog is 97.82608695652173\n",
            "The accuracy for the class n02086646-Blenheim_spaniel is 72.5\n"
          ]
        }
      ]
    },
    {
      "cell_type": "code",
      "source": [],
      "metadata": {
        "id": "6Ok0UG-Exb6h"
      },
      "execution_count": null,
      "outputs": []
    },
    {
      "cell_type": "code",
      "source": [
        "model = models.resnet18(pretrained=False)\n",
        "\n",
        "num_features = model.fc.in_features\n",
        "\n",
        "model.fc = nn.Linear(num_features, len(DogDataSet.label_dict))\n",
        "resnet = model"
      ],
      "metadata": {
        "colab": {
          "base_uri": "https://localhost:8080/"
        },
        "id": "Sc9-aaGVqf1K",
        "outputId": "5321f505-3879-4fd2-9287-1379f3c5bc7e"
      },
      "execution_count": null,
      "outputs": [
        {
          "output_type": "stream",
          "name": "stderr",
          "text": [
            "/usr/local/lib/python3.10/dist-packages/torchvision/models/_utils.py:208: UserWarning: The parameter 'pretrained' is deprecated since 0.13 and may be removed in the future, please use 'weights' instead.\n",
            "  warnings.warn(\n",
            "/usr/local/lib/python3.10/dist-packages/torchvision/models/_utils.py:223: UserWarning: Arguments other than a weight enum or `None` for 'weights' are deprecated since 0.13 and may be removed in the future. The current behavior is equivalent to passing `weights=None`.\n",
            "  warnings.warn(msg)\n"
          ]
        }
      ]
    },
    {
      "cell_type": "code",
      "source": [
        "\n",
        "for param in resnet.parameters():\n",
        "  param.requires_grad = True\n",
        "criterion = nn.CrossEntropyLoss()\n",
        "optimizer = torch.optim.SGD(resnet.parameters(), lr = 0.001)\n",
        "step_lr_scheduler = lr_scheduler.StepLR(optimizer,step_size=7, gamma=0.1)\n",
        "num_epochs = 100"
      ],
      "metadata": {
        "id": "dXhp-RrJmHVE"
      },
      "execution_count": null,
      "outputs": []
    },
    {
      "cell_type": "code",
      "source": [
        "best_loss = None\n",
        "n_total_steps = len(train_dl)\n",
        "for epochs in range(num_epochs):\n",
        "  for i, (image, labels) in enumerate(train_dl):\n",
        "    if image.shape[1] == 3:\n",
        "      image = image.to(device)\n",
        "      labels = labels.to(device)\n",
        "\n",
        "      outputs = resnet(image)\n",
        "      loss = criterion(outputs, labels)\n",
        "      optimizer.zero_grad()\n",
        "      loss.backward()\n",
        "      optimizer.step()\n",
        "      step_lr_scheduler.step()\n",
        "      if best_loss is None or loss.item() < best_loss:\n",
        "        best_loss = loss.item()\n",
        "        torch.save(model.state_dict(), f'/content/drive/MyDrive/dog_classification/best_weights.pth')\n",
        "\n",
        "\n",
        "      if (i + 1) % 10 ==0:\n",
        "        with torch.no_grad():\n",
        "          n_samples = 0\n",
        "          n_correct = 0\n",
        "          n_classes = [0 for i in range(len(DogDataSet.label_dict))]\n",
        "          n_correct_classes = [0 for i in range(len(DogDataSet.label_dict))]\n",
        "        for images, labels in val_dl:\n",
        "          images = images.to(device)\n",
        "          labels = labels.to(device)\n",
        "          outputs = resnet(images) # output of size (batchsize, num of classes)\n",
        "          _, predicted = torch.max(outputs, dim=1) #max for each of the colums dim=1 columns and we want the indexes not the prob\n",
        "          n_samples += labels.size(0)\n",
        "          n_correct += (labels==predicted).sum().item()\n",
        "          accuracy = n_correct/n_samples * 100\n",
        "        print(f'step {i + 1} out of {n_total_steps} in epoch {epochs+1} out of epochs {num_epochs}, Val acc= {accuracy}, Loss :{loss.item()}')\n",
        "\n",
        "  print('finished training')"
      ],
      "metadata": {
        "colab": {
          "base_uri": "https://localhost:8080/",
          "height": 1000
        },
        "id": "zcZGS4F_mkEE",
        "outputId": "c72a8ab4-c6bc-4e2f-e6d5-472ed8f2ddb7"
      },
      "execution_count": null,
      "outputs": [
        {
          "output_type": "stream",
          "name": "stdout",
          "text": [
            "step 10 out of 48 in epoch 1 out of epochs 100, Val acc= 93.84615384615384, Loss :0.387127548456192\n",
            "step 20 out of 48 in epoch 1 out of epochs 100, Val acc= 92.82051282051282, Loss :0.4532085955142975\n",
            "step 30 out of 48 in epoch 1 out of epochs 100, Val acc= 96.41025641025641, Loss :0.26204144954681396\n",
            "step 40 out of 48 in epoch 1 out of epochs 100, Val acc= 93.84615384615384, Loss :0.3069317936897278\n",
            "finished training\n",
            "step 10 out of 48 in epoch 2 out of epochs 100, Val acc= 94.87179487179486, Loss :0.32858550548553467\n",
            "step 20 out of 48 in epoch 2 out of epochs 100, Val acc= 94.87179487179486, Loss :0.39924052357673645\n",
            "step 30 out of 48 in epoch 2 out of epochs 100, Val acc= 94.87179487179486, Loss :0.3236323595046997\n",
            "step 40 out of 48 in epoch 2 out of epochs 100, Val acc= 96.92307692307692, Loss :0.35373473167419434\n",
            "finished training\n",
            "step 10 out of 48 in epoch 3 out of epochs 100, Val acc= 94.35897435897435, Loss :0.2633395493030548\n",
            "step 20 out of 48 in epoch 3 out of epochs 100, Val acc= 95.8974358974359, Loss :0.40890395641326904\n",
            "step 30 out of 48 in epoch 3 out of epochs 100, Val acc= 97.94871794871794, Loss :0.47579696774482727\n",
            "step 40 out of 48 in epoch 3 out of epochs 100, Val acc= 95.8974358974359, Loss :0.3774711489677429\n",
            "finished training\n",
            "step 10 out of 48 in epoch 4 out of epochs 100, Val acc= 96.41025641025641, Loss :0.4587723910808563\n",
            "step 20 out of 48 in epoch 4 out of epochs 100, Val acc= 92.3076923076923, Loss :0.2963051497936249\n",
            "step 30 out of 48 in epoch 4 out of epochs 100, Val acc= 95.38461538461539, Loss :0.3756049871444702\n",
            "step 40 out of 48 in epoch 4 out of epochs 100, Val acc= 94.35897435897435, Loss :0.4018588066101074\n",
            "finished training\n",
            "step 10 out of 48 in epoch 5 out of epochs 100, Val acc= 92.82051282051282, Loss :0.297029584646225\n",
            "step 20 out of 48 in epoch 5 out of epochs 100, Val acc= 95.38461538461539, Loss :0.385001003742218\n",
            "step 30 out of 48 in epoch 5 out of epochs 100, Val acc= 96.92307692307692, Loss :0.5431469678878784\n",
            "step 40 out of 48 in epoch 5 out of epochs 100, Val acc= 95.38461538461539, Loss :0.5521021485328674\n",
            "finished training\n",
            "step 10 out of 48 in epoch 6 out of epochs 100, Val acc= 96.41025641025641, Loss :0.42353174090385437\n",
            "step 20 out of 48 in epoch 6 out of epochs 100, Val acc= 95.38461538461539, Loss :0.3757303059101105\n",
            "step 30 out of 48 in epoch 6 out of epochs 100, Val acc= 96.41025641025641, Loss :0.4271863102912903\n",
            "step 40 out of 48 in epoch 6 out of epochs 100, Val acc= 94.87179487179486, Loss :0.35201388597488403\n",
            "finished training\n",
            "step 10 out of 48 in epoch 7 out of epochs 100, Val acc= 96.92307692307692, Loss :0.3731314539909363\n",
            "step 20 out of 48 in epoch 7 out of epochs 100, Val acc= 96.41025641025641, Loss :0.42742955684661865\n",
            "step 30 out of 48 in epoch 7 out of epochs 100, Val acc= 93.33333333333333, Loss :0.45792654156684875\n",
            "step 40 out of 48 in epoch 7 out of epochs 100, Val acc= 94.87179487179486, Loss :0.34680020809173584\n",
            "finished training\n",
            "step 10 out of 48 in epoch 8 out of epochs 100, Val acc= 92.3076923076923, Loss :0.4121108949184418\n",
            "step 20 out of 48 in epoch 8 out of epochs 100, Val acc= 94.35897435897435, Loss :0.36873793601989746\n",
            "step 30 out of 48 in epoch 8 out of epochs 100, Val acc= 93.33333333333333, Loss :0.3274824321269989\n",
            "step 40 out of 48 in epoch 8 out of epochs 100, Val acc= 92.3076923076923, Loss :0.2908235788345337\n",
            "finished training\n",
            "step 10 out of 48 in epoch 9 out of epochs 100, Val acc= 94.35897435897435, Loss :0.5174792408943176\n",
            "step 20 out of 48 in epoch 9 out of epochs 100, Val acc= 95.38461538461539, Loss :0.39802461862564087\n",
            "step 30 out of 48 in epoch 9 out of epochs 100, Val acc= 96.41025641025641, Loss :0.30217111110687256\n",
            "step 40 out of 48 in epoch 9 out of epochs 100, Val acc= 93.84615384615384, Loss :0.2640365958213806\n",
            "finished training\n",
            "step 10 out of 48 in epoch 10 out of epochs 100, Val acc= 93.84615384615384, Loss :0.45480063557624817\n",
            "step 20 out of 48 in epoch 10 out of epochs 100, Val acc= 95.38461538461539, Loss :0.33474332094192505\n",
            "step 30 out of 48 in epoch 10 out of epochs 100, Val acc= 94.35897435897435, Loss :0.3491688072681427\n",
            "step 40 out of 48 in epoch 10 out of epochs 100, Val acc= 96.92307692307692, Loss :0.4269307255744934\n",
            "finished training\n",
            "step 10 out of 48 in epoch 11 out of epochs 100, Val acc= 95.8974358974359, Loss :0.4646185338497162\n",
            "step 20 out of 48 in epoch 11 out of epochs 100, Val acc= 96.41025641025641, Loss :0.3644532859325409\n"
          ]
        },
        {
          "output_type": "error",
          "ename": "KeyboardInterrupt",
          "evalue": "",
          "traceback": [
            "\u001b[0;31m---------------------------------------------------------------------------\u001b[0m",
            "\u001b[0;31mKeyboardInterrupt\u001b[0m                         Traceback (most recent call last)",
            "\u001b[0;32m<ipython-input-63-62e0dc78e041>\u001b[0m in \u001b[0;36m<cell line: 3>\u001b[0;34m()\u001b[0m\n\u001b[1;32m      2\u001b[0m \u001b[0mn_total_steps\u001b[0m \u001b[0;34m=\u001b[0m \u001b[0mlen\u001b[0m\u001b[0;34m(\u001b[0m\u001b[0mtrain_dl\u001b[0m\u001b[0;34m)\u001b[0m\u001b[0;34m\u001b[0m\u001b[0;34m\u001b[0m\u001b[0m\n\u001b[1;32m      3\u001b[0m \u001b[0;32mfor\u001b[0m \u001b[0mepochs\u001b[0m \u001b[0;32min\u001b[0m \u001b[0mrange\u001b[0m\u001b[0;34m(\u001b[0m\u001b[0mnum_epochs\u001b[0m\u001b[0;34m)\u001b[0m\u001b[0;34m:\u001b[0m\u001b[0;34m\u001b[0m\u001b[0;34m\u001b[0m\u001b[0m\n\u001b[0;32m----> 4\u001b[0;31m   \u001b[0;32mfor\u001b[0m \u001b[0mi\u001b[0m\u001b[0;34m,\u001b[0m \u001b[0;34m(\u001b[0m\u001b[0mimage\u001b[0m\u001b[0;34m,\u001b[0m \u001b[0mlabels\u001b[0m\u001b[0;34m)\u001b[0m \u001b[0;32min\u001b[0m \u001b[0menumerate\u001b[0m\u001b[0;34m(\u001b[0m\u001b[0mtrain_dl\u001b[0m\u001b[0;34m)\u001b[0m\u001b[0;34m:\u001b[0m\u001b[0;34m\u001b[0m\u001b[0;34m\u001b[0m\u001b[0m\n\u001b[0m\u001b[1;32m      5\u001b[0m     \u001b[0;32mif\u001b[0m \u001b[0mimage\u001b[0m\u001b[0;34m.\u001b[0m\u001b[0mshape\u001b[0m\u001b[0;34m[\u001b[0m\u001b[0;36m1\u001b[0m\u001b[0;34m]\u001b[0m \u001b[0;34m==\u001b[0m \u001b[0;36m3\u001b[0m\u001b[0;34m:\u001b[0m\u001b[0;34m\u001b[0m\u001b[0;34m\u001b[0m\u001b[0m\n\u001b[1;32m      6\u001b[0m       \u001b[0mimage\u001b[0m \u001b[0;34m=\u001b[0m \u001b[0mimage\u001b[0m\u001b[0;34m.\u001b[0m\u001b[0mto\u001b[0m\u001b[0;34m(\u001b[0m\u001b[0mdevice\u001b[0m\u001b[0;34m)\u001b[0m\u001b[0;34m\u001b[0m\u001b[0;34m\u001b[0m\u001b[0m\n",
            "\u001b[0;32m/usr/local/lib/python3.10/dist-packages/torch/utils/data/dataloader.py\u001b[0m in \u001b[0;36m__next__\u001b[0;34m(self)\u001b[0m\n\u001b[1;32m    628\u001b[0m                 \u001b[0;31m# TODO(https://github.com/pytorch/pytorch/issues/76750)\u001b[0m\u001b[0;34m\u001b[0m\u001b[0;34m\u001b[0m\u001b[0m\n\u001b[1;32m    629\u001b[0m                 \u001b[0mself\u001b[0m\u001b[0;34m.\u001b[0m\u001b[0m_reset\u001b[0m\u001b[0;34m(\u001b[0m\u001b[0;34m)\u001b[0m  \u001b[0;31m# type: ignore[call-arg]\u001b[0m\u001b[0;34m\u001b[0m\u001b[0;34m\u001b[0m\u001b[0m\n\u001b[0;32m--> 630\u001b[0;31m             \u001b[0mdata\u001b[0m \u001b[0;34m=\u001b[0m \u001b[0mself\u001b[0m\u001b[0;34m.\u001b[0m\u001b[0m_next_data\u001b[0m\u001b[0;34m(\u001b[0m\u001b[0;34m)\u001b[0m\u001b[0;34m\u001b[0m\u001b[0;34m\u001b[0m\u001b[0m\n\u001b[0m\u001b[1;32m    631\u001b[0m             \u001b[0mself\u001b[0m\u001b[0;34m.\u001b[0m\u001b[0m_num_yielded\u001b[0m \u001b[0;34m+=\u001b[0m \u001b[0;36m1\u001b[0m\u001b[0;34m\u001b[0m\u001b[0;34m\u001b[0m\u001b[0m\n\u001b[1;32m    632\u001b[0m             \u001b[0;32mif\u001b[0m \u001b[0mself\u001b[0m\u001b[0;34m.\u001b[0m\u001b[0m_dataset_kind\u001b[0m \u001b[0;34m==\u001b[0m \u001b[0m_DatasetKind\u001b[0m\u001b[0;34m.\u001b[0m\u001b[0mIterable\u001b[0m \u001b[0;32mand\u001b[0m\u001b[0;31m \u001b[0m\u001b[0;31m\\\u001b[0m\u001b[0;34m\u001b[0m\u001b[0;34m\u001b[0m\u001b[0m\n",
            "\u001b[0;32m/usr/local/lib/python3.10/dist-packages/torch/utils/data/dataloader.py\u001b[0m in \u001b[0;36m_next_data\u001b[0;34m(self)\u001b[0m\n\u001b[1;32m    672\u001b[0m     \u001b[0;32mdef\u001b[0m \u001b[0m_next_data\u001b[0m\u001b[0;34m(\u001b[0m\u001b[0mself\u001b[0m\u001b[0;34m)\u001b[0m\u001b[0;34m:\u001b[0m\u001b[0;34m\u001b[0m\u001b[0;34m\u001b[0m\u001b[0m\n\u001b[1;32m    673\u001b[0m         \u001b[0mindex\u001b[0m \u001b[0;34m=\u001b[0m \u001b[0mself\u001b[0m\u001b[0;34m.\u001b[0m\u001b[0m_next_index\u001b[0m\u001b[0;34m(\u001b[0m\u001b[0;34m)\u001b[0m  \u001b[0;31m# may raise StopIteration\u001b[0m\u001b[0;34m\u001b[0m\u001b[0;34m\u001b[0m\u001b[0m\n\u001b[0;32m--> 674\u001b[0;31m         \u001b[0mdata\u001b[0m \u001b[0;34m=\u001b[0m \u001b[0mself\u001b[0m\u001b[0;34m.\u001b[0m\u001b[0m_dataset_fetcher\u001b[0m\u001b[0;34m.\u001b[0m\u001b[0mfetch\u001b[0m\u001b[0;34m(\u001b[0m\u001b[0mindex\u001b[0m\u001b[0;34m)\u001b[0m  \u001b[0;31m# may raise StopIteration\u001b[0m\u001b[0;34m\u001b[0m\u001b[0;34m\u001b[0m\u001b[0m\n\u001b[0m\u001b[1;32m    675\u001b[0m         \u001b[0;32mif\u001b[0m \u001b[0mself\u001b[0m\u001b[0;34m.\u001b[0m\u001b[0m_pin_memory\u001b[0m\u001b[0;34m:\u001b[0m\u001b[0;34m\u001b[0m\u001b[0;34m\u001b[0m\u001b[0m\n\u001b[1;32m    676\u001b[0m             \u001b[0mdata\u001b[0m \u001b[0;34m=\u001b[0m \u001b[0m_utils\u001b[0m\u001b[0;34m.\u001b[0m\u001b[0mpin_memory\u001b[0m\u001b[0;34m.\u001b[0m\u001b[0mpin_memory\u001b[0m\u001b[0;34m(\u001b[0m\u001b[0mdata\u001b[0m\u001b[0;34m,\u001b[0m \u001b[0mself\u001b[0m\u001b[0;34m.\u001b[0m\u001b[0m_pin_memory_device\u001b[0m\u001b[0;34m)\u001b[0m\u001b[0;34m\u001b[0m\u001b[0;34m\u001b[0m\u001b[0m\n",
            "\u001b[0;32m/usr/local/lib/python3.10/dist-packages/torch/utils/data/_utils/fetch.py\u001b[0m in \u001b[0;36mfetch\u001b[0;34m(self, possibly_batched_index)\u001b[0m\n\u001b[1;32m     49\u001b[0m                 \u001b[0mdata\u001b[0m \u001b[0;34m=\u001b[0m \u001b[0mself\u001b[0m\u001b[0;34m.\u001b[0m\u001b[0mdataset\u001b[0m\u001b[0;34m.\u001b[0m\u001b[0m__getitems__\u001b[0m\u001b[0;34m(\u001b[0m\u001b[0mpossibly_batched_index\u001b[0m\u001b[0;34m)\u001b[0m\u001b[0;34m\u001b[0m\u001b[0;34m\u001b[0m\u001b[0m\n\u001b[1;32m     50\u001b[0m             \u001b[0;32melse\u001b[0m\u001b[0;34m:\u001b[0m\u001b[0;34m\u001b[0m\u001b[0;34m\u001b[0m\u001b[0m\n\u001b[0;32m---> 51\u001b[0;31m                 \u001b[0mdata\u001b[0m \u001b[0;34m=\u001b[0m \u001b[0;34m[\u001b[0m\u001b[0mself\u001b[0m\u001b[0;34m.\u001b[0m\u001b[0mdataset\u001b[0m\u001b[0;34m[\u001b[0m\u001b[0midx\u001b[0m\u001b[0;34m]\u001b[0m \u001b[0;32mfor\u001b[0m \u001b[0midx\u001b[0m \u001b[0;32min\u001b[0m \u001b[0mpossibly_batched_index\u001b[0m\u001b[0;34m]\u001b[0m\u001b[0;34m\u001b[0m\u001b[0;34m\u001b[0m\u001b[0m\n\u001b[0m\u001b[1;32m     52\u001b[0m         \u001b[0;32melse\u001b[0m\u001b[0;34m:\u001b[0m\u001b[0;34m\u001b[0m\u001b[0;34m\u001b[0m\u001b[0m\n\u001b[1;32m     53\u001b[0m             \u001b[0mdata\u001b[0m \u001b[0;34m=\u001b[0m \u001b[0mself\u001b[0m\u001b[0;34m.\u001b[0m\u001b[0mdataset\u001b[0m\u001b[0;34m[\u001b[0m\u001b[0mpossibly_batched_index\u001b[0m\u001b[0;34m]\u001b[0m\u001b[0;34m\u001b[0m\u001b[0;34m\u001b[0m\u001b[0m\n",
            "\u001b[0;32m/usr/local/lib/python3.10/dist-packages/torch/utils/data/_utils/fetch.py\u001b[0m in \u001b[0;36m<listcomp>\u001b[0;34m(.0)\u001b[0m\n\u001b[1;32m     49\u001b[0m                 \u001b[0mdata\u001b[0m \u001b[0;34m=\u001b[0m \u001b[0mself\u001b[0m\u001b[0;34m.\u001b[0m\u001b[0mdataset\u001b[0m\u001b[0;34m.\u001b[0m\u001b[0m__getitems__\u001b[0m\u001b[0;34m(\u001b[0m\u001b[0mpossibly_batched_index\u001b[0m\u001b[0;34m)\u001b[0m\u001b[0;34m\u001b[0m\u001b[0;34m\u001b[0m\u001b[0m\n\u001b[1;32m     50\u001b[0m             \u001b[0;32melse\u001b[0m\u001b[0;34m:\u001b[0m\u001b[0;34m\u001b[0m\u001b[0;34m\u001b[0m\u001b[0m\n\u001b[0;32m---> 51\u001b[0;31m                 \u001b[0mdata\u001b[0m \u001b[0;34m=\u001b[0m \u001b[0;34m[\u001b[0m\u001b[0mself\u001b[0m\u001b[0;34m.\u001b[0m\u001b[0mdataset\u001b[0m\u001b[0;34m[\u001b[0m\u001b[0midx\u001b[0m\u001b[0;34m]\u001b[0m \u001b[0;32mfor\u001b[0m \u001b[0midx\u001b[0m \u001b[0;32min\u001b[0m \u001b[0mpossibly_batched_index\u001b[0m\u001b[0;34m]\u001b[0m\u001b[0;34m\u001b[0m\u001b[0;34m\u001b[0m\u001b[0m\n\u001b[0m\u001b[1;32m     52\u001b[0m         \u001b[0;32melse\u001b[0m\u001b[0;34m:\u001b[0m\u001b[0;34m\u001b[0m\u001b[0;34m\u001b[0m\u001b[0m\n\u001b[1;32m     53\u001b[0m             \u001b[0mdata\u001b[0m \u001b[0;34m=\u001b[0m \u001b[0mself\u001b[0m\u001b[0;34m.\u001b[0m\u001b[0mdataset\u001b[0m\u001b[0;34m[\u001b[0m\u001b[0mpossibly_batched_index\u001b[0m\u001b[0;34m]\u001b[0m\u001b[0;34m\u001b[0m\u001b[0;34m\u001b[0m\u001b[0m\n",
            "\u001b[0;32m/usr/local/lib/python3.10/dist-packages/torch/utils/data/dataset.py\u001b[0m in \u001b[0;36m__getitem__\u001b[0;34m(self, idx)\u001b[0m\n\u001b[1;32m    300\u001b[0m         \u001b[0;32melse\u001b[0m\u001b[0;34m:\u001b[0m\u001b[0;34m\u001b[0m\u001b[0;34m\u001b[0m\u001b[0m\n\u001b[1;32m    301\u001b[0m             \u001b[0msample_idx\u001b[0m \u001b[0;34m=\u001b[0m \u001b[0midx\u001b[0m \u001b[0;34m-\u001b[0m \u001b[0mself\u001b[0m\u001b[0;34m.\u001b[0m\u001b[0mcumulative_sizes\u001b[0m\u001b[0;34m[\u001b[0m\u001b[0mdataset_idx\u001b[0m \u001b[0;34m-\u001b[0m \u001b[0;36m1\u001b[0m\u001b[0;34m]\u001b[0m\u001b[0;34m\u001b[0m\u001b[0;34m\u001b[0m\u001b[0m\n\u001b[0;32m--> 302\u001b[0;31m         \u001b[0;32mreturn\u001b[0m \u001b[0mself\u001b[0m\u001b[0;34m.\u001b[0m\u001b[0mdatasets\u001b[0m\u001b[0;34m[\u001b[0m\u001b[0mdataset_idx\u001b[0m\u001b[0;34m]\u001b[0m\u001b[0;34m[\u001b[0m\u001b[0msample_idx\u001b[0m\u001b[0;34m]\u001b[0m\u001b[0;34m\u001b[0m\u001b[0;34m\u001b[0m\u001b[0m\n\u001b[0m\u001b[1;32m    303\u001b[0m \u001b[0;34m\u001b[0m\u001b[0m\n\u001b[1;32m    304\u001b[0m     \u001b[0;34m@\u001b[0m\u001b[0mproperty\u001b[0m\u001b[0;34m\u001b[0m\u001b[0;34m\u001b[0m\u001b[0m\n",
            "\u001b[0;32m<ipython-input-29-58ec79a3d32a>\u001b[0m in \u001b[0;36m__getitem__\u001b[0;34m(self, index)\u001b[0m\n\u001b[1;32m      5\u001b[0m \u001b[0;34m\u001b[0m\u001b[0m\n\u001b[1;32m      6\u001b[0m     \u001b[0;32mdef\u001b[0m \u001b[0m__getitem__\u001b[0m\u001b[0;34m(\u001b[0m\u001b[0mself\u001b[0m\u001b[0;34m,\u001b[0m \u001b[0mindex\u001b[0m\u001b[0;34m)\u001b[0m\u001b[0;34m:\u001b[0m\u001b[0;34m\u001b[0m\u001b[0;34m\u001b[0m\u001b[0m\n\u001b[0;32m----> 7\u001b[0;31m         \u001b[0mx\u001b[0m\u001b[0;34m,\u001b[0m \u001b[0my\u001b[0m \u001b[0;34m=\u001b[0m \u001b[0mself\u001b[0m\u001b[0;34m.\u001b[0m\u001b[0msubset\u001b[0m\u001b[0;34m[\u001b[0m\u001b[0mindex\u001b[0m\u001b[0;34m]\u001b[0m\u001b[0;34m\u001b[0m\u001b[0;34m\u001b[0m\u001b[0m\n\u001b[0m\u001b[1;32m      8\u001b[0m         \u001b[0;32mif\u001b[0m \u001b[0mself\u001b[0m\u001b[0;34m.\u001b[0m\u001b[0mtransform\u001b[0m\u001b[0;34m:\u001b[0m\u001b[0;34m\u001b[0m\u001b[0;34m\u001b[0m\u001b[0m\n\u001b[1;32m      9\u001b[0m             \u001b[0mx\u001b[0m \u001b[0;34m=\u001b[0m \u001b[0mself\u001b[0m\u001b[0;34m.\u001b[0m\u001b[0mtransform\u001b[0m\u001b[0;34m(\u001b[0m\u001b[0mx\u001b[0m\u001b[0;34m)\u001b[0m\u001b[0;34m\u001b[0m\u001b[0;34m\u001b[0m\u001b[0m\n",
            "\u001b[0;32m/usr/local/lib/python3.10/dist-packages/torch/utils/data/dataset.py\u001b[0m in \u001b[0;36m__getitem__\u001b[0;34m(self, idx)\u001b[0m\n\u001b[1;32m    354\u001b[0m         \u001b[0;32mif\u001b[0m \u001b[0misinstance\u001b[0m\u001b[0;34m(\u001b[0m\u001b[0midx\u001b[0m\u001b[0;34m,\u001b[0m \u001b[0mlist\u001b[0m\u001b[0;34m)\u001b[0m\u001b[0;34m:\u001b[0m\u001b[0;34m\u001b[0m\u001b[0;34m\u001b[0m\u001b[0m\n\u001b[1;32m    355\u001b[0m             \u001b[0;32mreturn\u001b[0m \u001b[0mself\u001b[0m\u001b[0;34m.\u001b[0m\u001b[0mdataset\u001b[0m\u001b[0;34m[\u001b[0m\u001b[0;34m[\u001b[0m\u001b[0mself\u001b[0m\u001b[0;34m.\u001b[0m\u001b[0mindices\u001b[0m\u001b[0;34m[\u001b[0m\u001b[0mi\u001b[0m\u001b[0;34m]\u001b[0m \u001b[0;32mfor\u001b[0m \u001b[0mi\u001b[0m \u001b[0;32min\u001b[0m \u001b[0midx\u001b[0m\u001b[0;34m]\u001b[0m\u001b[0;34m]\u001b[0m\u001b[0;34m\u001b[0m\u001b[0;34m\u001b[0m\u001b[0m\n\u001b[0;32m--> 356\u001b[0;31m         \u001b[0;32mreturn\u001b[0m \u001b[0mself\u001b[0m\u001b[0;34m.\u001b[0m\u001b[0mdataset\u001b[0m\u001b[0;34m[\u001b[0m\u001b[0mself\u001b[0m\u001b[0;34m.\u001b[0m\u001b[0mindices\u001b[0m\u001b[0;34m[\u001b[0m\u001b[0midx\u001b[0m\u001b[0;34m]\u001b[0m\u001b[0;34m]\u001b[0m\u001b[0;34m\u001b[0m\u001b[0;34m\u001b[0m\u001b[0m\n\u001b[0m\u001b[1;32m    357\u001b[0m \u001b[0;34m\u001b[0m\u001b[0m\n\u001b[1;32m    358\u001b[0m     \u001b[0;32mdef\u001b[0m \u001b[0m__getitems__\u001b[0m\u001b[0;34m(\u001b[0m\u001b[0mself\u001b[0m\u001b[0;34m,\u001b[0m \u001b[0mindices\u001b[0m\u001b[0;34m:\u001b[0m \u001b[0mList\u001b[0m\u001b[0;34m[\u001b[0m\u001b[0mint\u001b[0m\u001b[0;34m]\u001b[0m\u001b[0;34m)\u001b[0m \u001b[0;34m->\u001b[0m \u001b[0mList\u001b[0m\u001b[0;34m[\u001b[0m\u001b[0mT_co\u001b[0m\u001b[0;34m]\u001b[0m\u001b[0;34m:\u001b[0m\u001b[0;34m\u001b[0m\u001b[0;34m\u001b[0m\u001b[0m\n",
            "\u001b[0;32m<ipython-input-6-0f4ff8a3b2ad>\u001b[0m in \u001b[0;36m__getitem__\u001b[0;34m(self, idx)\u001b[0m\n\u001b[1;32m     23\u001b[0m \u001b[0;34m\u001b[0m\u001b[0m\n\u001b[1;32m     24\u001b[0m   \u001b[0;32mdef\u001b[0m \u001b[0m__getitem__\u001b[0m\u001b[0;34m(\u001b[0m\u001b[0mself\u001b[0m\u001b[0;34m,\u001b[0m \u001b[0midx\u001b[0m\u001b[0;34m)\u001b[0m\u001b[0;34m:\u001b[0m\u001b[0;34m\u001b[0m\u001b[0;34m\u001b[0m\u001b[0m\n\u001b[0;32m---> 25\u001b[0;31m       \u001b[0mimage\u001b[0m \u001b[0;34m=\u001b[0m \u001b[0mImage\u001b[0m\u001b[0;34m.\u001b[0m\u001b[0mopen\u001b[0m\u001b[0;34m(\u001b[0m\u001b[0mself\u001b[0m\u001b[0;34m.\u001b[0m\u001b[0mimage_path\u001b[0m\u001b[0;34m[\u001b[0m\u001b[0midx\u001b[0m\u001b[0;34m]\u001b[0m\u001b[0;34m)\u001b[0m\u001b[0;34m\u001b[0m\u001b[0;34m\u001b[0m\u001b[0m\n\u001b[0m\u001b[1;32m     26\u001b[0m       \u001b[0;32mif\u001b[0m \u001b[0mself\u001b[0m\u001b[0;34m.\u001b[0m\u001b[0mtransform\u001b[0m\u001b[0;34m:\u001b[0m\u001b[0;34m\u001b[0m\u001b[0;34m\u001b[0m\u001b[0m\n\u001b[1;32m     27\u001b[0m         \u001b[0mimage\u001b[0m \u001b[0;34m=\u001b[0m \u001b[0mself\u001b[0m\u001b[0;34m.\u001b[0m\u001b[0mtransform\u001b[0m\u001b[0;34m(\u001b[0m\u001b[0mimage\u001b[0m\u001b[0;34m)\u001b[0m\u001b[0;34m\u001b[0m\u001b[0;34m\u001b[0m\u001b[0m\n",
            "\u001b[0;32m/usr/local/lib/python3.10/dist-packages/PIL/Image.py\u001b[0m in \u001b[0;36mopen\u001b[0;34m(fp, mode, formats)\u001b[0m\n\u001b[1;32m   3225\u001b[0m \u001b[0;34m\u001b[0m\u001b[0m\n\u001b[1;32m   3226\u001b[0m     \u001b[0;32mif\u001b[0m \u001b[0mfilename\u001b[0m\u001b[0;34m:\u001b[0m\u001b[0;34m\u001b[0m\u001b[0;34m\u001b[0m\u001b[0m\n\u001b[0;32m-> 3227\u001b[0;31m         \u001b[0mfp\u001b[0m \u001b[0;34m=\u001b[0m \u001b[0mbuiltins\u001b[0m\u001b[0;34m.\u001b[0m\u001b[0mopen\u001b[0m\u001b[0;34m(\u001b[0m\u001b[0mfilename\u001b[0m\u001b[0;34m,\u001b[0m \u001b[0;34m\"rb\"\u001b[0m\u001b[0;34m)\u001b[0m\u001b[0;34m\u001b[0m\u001b[0;34m\u001b[0m\u001b[0m\n\u001b[0m\u001b[1;32m   3228\u001b[0m         \u001b[0mexclusive_fp\u001b[0m \u001b[0;34m=\u001b[0m \u001b[0;32mTrue\u001b[0m\u001b[0;34m\u001b[0m\u001b[0;34m\u001b[0m\u001b[0m\n\u001b[1;32m   3229\u001b[0m \u001b[0;34m\u001b[0m\u001b[0m\n",
            "\u001b[0;31mKeyboardInterrupt\u001b[0m: "
          ]
        }
      ]
    },
    {
      "cell_type": "code",
      "source": [
        "with torch.no_grad():\n",
        "  n_samples = 0\n",
        "  n_correct = 0\n",
        "  n_classes = [0 for i in range(len(DogDataSet.label_dict))]\n",
        "  n_correct_classes = [0 for i in range(len(DogDataSet.label_dict))]\n",
        "  for images, labels in val_dl:\n",
        "    images = images.to(device)\n",
        "    labels = labels.to(device)\n",
        "    outputs = resnet(images) # output of size (batchsize, num of classes)\n",
        "    _, predicted = torch.max(outputs, dim=1) #max for each of the colums dim=1 columns and we want the indexes not the prob\n",
        "    n_samples += labels.size(0)\n",
        "    n_correct += (labels==predicted).sum().item()\n",
        "    for i in range(images.shape[0]):\n",
        "      label = labels[i]\n",
        "      pred = predicted[i]\n",
        "      if label == pred:\n",
        "        n_correct_classes[label] += 1\n",
        "      n_classes[label] += 1\n",
        "\n",
        "print(f'The accuracy of the network is {n_correct/n_samples * 100}')\n",
        "for i in range(len(n_classes)):\n",
        "  print(f'The accuracy for the class {DogDataSet.label_dict[i]} is {n_correct_classes[i]/n_classes[i] * 100}')"
      ],
      "metadata": {
        "colab": {
          "base_uri": "https://localhost:8080/"
        },
        "id": "2clYM2QkxeZm",
        "outputId": "e8cdefbf-2c8e-487e-ae70-297e27655dc1"
      },
      "execution_count": null,
      "outputs": [
        {
          "output_type": "stream",
          "name": "stdout",
          "text": [
            "The accuracy of the network is 93.84615384615384\n",
            "The accuracy for the class n02099601-golden_retriever is 100.0\n",
            "The accuracy for the class n02110185-Siberian_husky is 97.5609756097561\n",
            "The accuracy for the class n02111277-Newfoundland is 88.37209302325581\n",
            "The accuracy for the class n02085936-Maltese_dog is 97.82608695652173\n",
            "The accuracy for the class n02086646-Blenheim_spaniel is 87.5\n"
          ]
        }
      ]
    },
    {
      "cell_type": "code",
      "source": [
        "model = models.resnet18(pretrained=True)\n",
        "\n",
        "num_features = model.fc.in_features\n",
        "\n",
        "model.fc = nn.Linear(num_features, len(DogDataSet.label_dict))\n",
        "resnet = model\n",
        "resnet.load_state_dict(torch.load('/content/drive/MyDrive/dog_classification/best_weights.pth'))\n",
        "resnet.to(device)"
      ],
      "metadata": {
        "colab": {
          "base_uri": "https://localhost:8080/"
        },
        "id": "enWq2PyKUAUH",
        "outputId": "8cce35f8-8b7f-4a60-f47b-2812857ac185"
      },
      "execution_count": null,
      "outputs": [
        {
          "output_type": "stream",
          "name": "stderr",
          "text": [
            "/usr/local/lib/python3.10/dist-packages/torchvision/models/_utils.py:208: UserWarning: The parameter 'pretrained' is deprecated since 0.13 and may be removed in the future, please use 'weights' instead.\n",
            "  warnings.warn(\n",
            "/usr/local/lib/python3.10/dist-packages/torchvision/models/_utils.py:223: UserWarning: Arguments other than a weight enum or `None` for 'weights' are deprecated since 0.13 and may be removed in the future. The current behavior is equivalent to passing `weights=ResNet18_Weights.IMAGENET1K_V1`. You can also use `weights=ResNet18_Weights.DEFAULT` to get the most up-to-date weights.\n",
            "  warnings.warn(msg)\n"
          ]
        },
        {
          "output_type": "execute_result",
          "data": {
            "text/plain": [
              "ResNet(\n",
              "  (conv1): Conv2d(3, 64, kernel_size=(7, 7), stride=(2, 2), padding=(3, 3), bias=False)\n",
              "  (bn1): BatchNorm2d(64, eps=1e-05, momentum=0.1, affine=True, track_running_stats=True)\n",
              "  (relu): ReLU(inplace=True)\n",
              "  (maxpool): MaxPool2d(kernel_size=3, stride=2, padding=1, dilation=1, ceil_mode=False)\n",
              "  (layer1): Sequential(\n",
              "    (0): BasicBlock(\n",
              "      (conv1): Conv2d(64, 64, kernel_size=(3, 3), stride=(1, 1), padding=(1, 1), bias=False)\n",
              "      (bn1): BatchNorm2d(64, eps=1e-05, momentum=0.1, affine=True, track_running_stats=True)\n",
              "      (relu): ReLU(inplace=True)\n",
              "      (conv2): Conv2d(64, 64, kernel_size=(3, 3), stride=(1, 1), padding=(1, 1), bias=False)\n",
              "      (bn2): BatchNorm2d(64, eps=1e-05, momentum=0.1, affine=True, track_running_stats=True)\n",
              "    )\n",
              "    (1): BasicBlock(\n",
              "      (conv1): Conv2d(64, 64, kernel_size=(3, 3), stride=(1, 1), padding=(1, 1), bias=False)\n",
              "      (bn1): BatchNorm2d(64, eps=1e-05, momentum=0.1, affine=True, track_running_stats=True)\n",
              "      (relu): ReLU(inplace=True)\n",
              "      (conv2): Conv2d(64, 64, kernel_size=(3, 3), stride=(1, 1), padding=(1, 1), bias=False)\n",
              "      (bn2): BatchNorm2d(64, eps=1e-05, momentum=0.1, affine=True, track_running_stats=True)\n",
              "    )\n",
              "  )\n",
              "  (layer2): Sequential(\n",
              "    (0): BasicBlock(\n",
              "      (conv1): Conv2d(64, 128, kernel_size=(3, 3), stride=(2, 2), padding=(1, 1), bias=False)\n",
              "      (bn1): BatchNorm2d(128, eps=1e-05, momentum=0.1, affine=True, track_running_stats=True)\n",
              "      (relu): ReLU(inplace=True)\n",
              "      (conv2): Conv2d(128, 128, kernel_size=(3, 3), stride=(1, 1), padding=(1, 1), bias=False)\n",
              "      (bn2): BatchNorm2d(128, eps=1e-05, momentum=0.1, affine=True, track_running_stats=True)\n",
              "      (downsample): Sequential(\n",
              "        (0): Conv2d(64, 128, kernel_size=(1, 1), stride=(2, 2), bias=False)\n",
              "        (1): BatchNorm2d(128, eps=1e-05, momentum=0.1, affine=True, track_running_stats=True)\n",
              "      )\n",
              "    )\n",
              "    (1): BasicBlock(\n",
              "      (conv1): Conv2d(128, 128, kernel_size=(3, 3), stride=(1, 1), padding=(1, 1), bias=False)\n",
              "      (bn1): BatchNorm2d(128, eps=1e-05, momentum=0.1, affine=True, track_running_stats=True)\n",
              "      (relu): ReLU(inplace=True)\n",
              "      (conv2): Conv2d(128, 128, kernel_size=(3, 3), stride=(1, 1), padding=(1, 1), bias=False)\n",
              "      (bn2): BatchNorm2d(128, eps=1e-05, momentum=0.1, affine=True, track_running_stats=True)\n",
              "    )\n",
              "  )\n",
              "  (layer3): Sequential(\n",
              "    (0): BasicBlock(\n",
              "      (conv1): Conv2d(128, 256, kernel_size=(3, 3), stride=(2, 2), padding=(1, 1), bias=False)\n",
              "      (bn1): BatchNorm2d(256, eps=1e-05, momentum=0.1, affine=True, track_running_stats=True)\n",
              "      (relu): ReLU(inplace=True)\n",
              "      (conv2): Conv2d(256, 256, kernel_size=(3, 3), stride=(1, 1), padding=(1, 1), bias=False)\n",
              "      (bn2): BatchNorm2d(256, eps=1e-05, momentum=0.1, affine=True, track_running_stats=True)\n",
              "      (downsample): Sequential(\n",
              "        (0): Conv2d(128, 256, kernel_size=(1, 1), stride=(2, 2), bias=False)\n",
              "        (1): BatchNorm2d(256, eps=1e-05, momentum=0.1, affine=True, track_running_stats=True)\n",
              "      )\n",
              "    )\n",
              "    (1): BasicBlock(\n",
              "      (conv1): Conv2d(256, 256, kernel_size=(3, 3), stride=(1, 1), padding=(1, 1), bias=False)\n",
              "      (bn1): BatchNorm2d(256, eps=1e-05, momentum=0.1, affine=True, track_running_stats=True)\n",
              "      (relu): ReLU(inplace=True)\n",
              "      (conv2): Conv2d(256, 256, kernel_size=(3, 3), stride=(1, 1), padding=(1, 1), bias=False)\n",
              "      (bn2): BatchNorm2d(256, eps=1e-05, momentum=0.1, affine=True, track_running_stats=True)\n",
              "    )\n",
              "  )\n",
              "  (layer4): Sequential(\n",
              "    (0): BasicBlock(\n",
              "      (conv1): Conv2d(256, 512, kernel_size=(3, 3), stride=(2, 2), padding=(1, 1), bias=False)\n",
              "      (bn1): BatchNorm2d(512, eps=1e-05, momentum=0.1, affine=True, track_running_stats=True)\n",
              "      (relu): ReLU(inplace=True)\n",
              "      (conv2): Conv2d(512, 512, kernel_size=(3, 3), stride=(1, 1), padding=(1, 1), bias=False)\n",
              "      (bn2): BatchNorm2d(512, eps=1e-05, momentum=0.1, affine=True, track_running_stats=True)\n",
              "      (downsample): Sequential(\n",
              "        (0): Conv2d(256, 512, kernel_size=(1, 1), stride=(2, 2), bias=False)\n",
              "        (1): BatchNorm2d(512, eps=1e-05, momentum=0.1, affine=True, track_running_stats=True)\n",
              "      )\n",
              "    )\n",
              "    (1): BasicBlock(\n",
              "      (conv1): Conv2d(512, 512, kernel_size=(3, 3), stride=(1, 1), padding=(1, 1), bias=False)\n",
              "      (bn1): BatchNorm2d(512, eps=1e-05, momentum=0.1, affine=True, track_running_stats=True)\n",
              "      (relu): ReLU(inplace=True)\n",
              "      (conv2): Conv2d(512, 512, kernel_size=(3, 3), stride=(1, 1), padding=(1, 1), bias=False)\n",
              "      (bn2): BatchNorm2d(512, eps=1e-05, momentum=0.1, affine=True, track_running_stats=True)\n",
              "    )\n",
              "  )\n",
              "  (avgpool): AdaptiveAvgPool2d(output_size=(1, 1))\n",
              "  (fc): Linear(in_features=512, out_features=5, bias=True)\n",
              ")"
            ]
          },
          "metadata": {},
          "execution_count": 14
        }
      ]
    },
    {
      "cell_type": "code",
      "source": [
        "with torch.no_grad():\n",
        "  n_samples = 0\n",
        "  n_correct = 0\n",
        "  n_classes = [0 for i in range(len(DogDataSet.label_dict))]\n",
        "  n_correct_classes = [0 for i in range(len(DogDataSet.label_dict))]\n",
        "  for images, labels in val_dl:\n",
        "    images = images.to(device)\n",
        "    labels = labels.to(device)\n",
        "    outputs = resnet(images) # output of size (batchsize, num of classes)\n",
        "    _, predicted = torch.max(outputs, dim=1) #max for each of the colums dim=1 columns and we want the indexes not the prob\n",
        "    n_samples += labels.size(0)\n",
        "    n_correct += (labels==predicted).sum().item()\n",
        "    for i in range(images.shape[0]):\n",
        "      label = labels[i]\n",
        "      pred = predicted[i]\n",
        "      if label == pred:\n",
        "        n_correct_classes[label] += 1\n",
        "      n_classes[label] += 1\n",
        "\n",
        "print(f'The accuracy of the network is {n_correct/n_samples * 100}')\n",
        "for i in range(len(n_classes)):\n",
        "  print(f'The accuracy for the class {DogDataSet.label_dict[i]} is {n_correct_classes[i]/n_classes[i] * 100}')"
      ],
      "metadata": {
        "colab": {
          "base_uri": "https://localhost:8080/"
        },
        "id": "s1GNUrZaUaq0",
        "outputId": "1f5911ee-ec69-4c3b-f721-b7027fdc481c"
      },
      "execution_count": null,
      "outputs": [
        {
          "output_type": "stream",
          "name": "stdout",
          "text": [
            "The accuracy of the network is 93.33333333333333\n",
            "The accuracy for the class n02099601-golden_retriever is 92.0\n",
            "The accuracy for the class n02110185-Siberian_husky is 95.1219512195122\n",
            "The accuracy for the class n02111277-Newfoundland is 88.37209302325581\n",
            "The accuracy for the class n02085936-Maltese_dog is 95.65217391304348\n",
            "The accuracy for the class n02086646-Blenheim_spaniel is 95.0\n"
          ]
        }
      ]
    },
    {
      "cell_type": "code",
      "source": [
        "resnet.eval()"
      ],
      "metadata": {
        "id": "oqqqIsVzUNMY",
        "outputId": "5176e077-df93-4bbb-9867-de60bd0ef09f",
        "colab": {
          "base_uri": "https://localhost:8080/"
        }
      },
      "execution_count": null,
      "outputs": [
        {
          "output_type": "execute_result",
          "data": {
            "text/plain": [
              "ResNet(\n",
              "  (conv1): Conv2d(3, 64, kernel_size=(7, 7), stride=(2, 2), padding=(3, 3), bias=False)\n",
              "  (bn1): BatchNorm2d(64, eps=1e-05, momentum=0.1, affine=True, track_running_stats=True)\n",
              "  (relu): ReLU(inplace=True)\n",
              "  (maxpool): MaxPool2d(kernel_size=3, stride=2, padding=1, dilation=1, ceil_mode=False)\n",
              "  (layer1): Sequential(\n",
              "    (0): BasicBlock(\n",
              "      (conv1): Conv2d(64, 64, kernel_size=(3, 3), stride=(1, 1), padding=(1, 1), bias=False)\n",
              "      (bn1): BatchNorm2d(64, eps=1e-05, momentum=0.1, affine=True, track_running_stats=True)\n",
              "      (relu): ReLU(inplace=True)\n",
              "      (conv2): Conv2d(64, 64, kernel_size=(3, 3), stride=(1, 1), padding=(1, 1), bias=False)\n",
              "      (bn2): BatchNorm2d(64, eps=1e-05, momentum=0.1, affine=True, track_running_stats=True)\n",
              "    )\n",
              "    (1): BasicBlock(\n",
              "      (conv1): Conv2d(64, 64, kernel_size=(3, 3), stride=(1, 1), padding=(1, 1), bias=False)\n",
              "      (bn1): BatchNorm2d(64, eps=1e-05, momentum=0.1, affine=True, track_running_stats=True)\n",
              "      (relu): ReLU(inplace=True)\n",
              "      (conv2): Conv2d(64, 64, kernel_size=(3, 3), stride=(1, 1), padding=(1, 1), bias=False)\n",
              "      (bn2): BatchNorm2d(64, eps=1e-05, momentum=0.1, affine=True, track_running_stats=True)\n",
              "    )\n",
              "  )\n",
              "  (layer2): Sequential(\n",
              "    (0): BasicBlock(\n",
              "      (conv1): Conv2d(64, 128, kernel_size=(3, 3), stride=(2, 2), padding=(1, 1), bias=False)\n",
              "      (bn1): BatchNorm2d(128, eps=1e-05, momentum=0.1, affine=True, track_running_stats=True)\n",
              "      (relu): ReLU(inplace=True)\n",
              "      (conv2): Conv2d(128, 128, kernel_size=(3, 3), stride=(1, 1), padding=(1, 1), bias=False)\n",
              "      (bn2): BatchNorm2d(128, eps=1e-05, momentum=0.1, affine=True, track_running_stats=True)\n",
              "      (downsample): Sequential(\n",
              "        (0): Conv2d(64, 128, kernel_size=(1, 1), stride=(2, 2), bias=False)\n",
              "        (1): BatchNorm2d(128, eps=1e-05, momentum=0.1, affine=True, track_running_stats=True)\n",
              "      )\n",
              "    )\n",
              "    (1): BasicBlock(\n",
              "      (conv1): Conv2d(128, 128, kernel_size=(3, 3), stride=(1, 1), padding=(1, 1), bias=False)\n",
              "      (bn1): BatchNorm2d(128, eps=1e-05, momentum=0.1, affine=True, track_running_stats=True)\n",
              "      (relu): ReLU(inplace=True)\n",
              "      (conv2): Conv2d(128, 128, kernel_size=(3, 3), stride=(1, 1), padding=(1, 1), bias=False)\n",
              "      (bn2): BatchNorm2d(128, eps=1e-05, momentum=0.1, affine=True, track_running_stats=True)\n",
              "    )\n",
              "  )\n",
              "  (layer3): Sequential(\n",
              "    (0): BasicBlock(\n",
              "      (conv1): Conv2d(128, 256, kernel_size=(3, 3), stride=(2, 2), padding=(1, 1), bias=False)\n",
              "      (bn1): BatchNorm2d(256, eps=1e-05, momentum=0.1, affine=True, track_running_stats=True)\n",
              "      (relu): ReLU(inplace=True)\n",
              "      (conv2): Conv2d(256, 256, kernel_size=(3, 3), stride=(1, 1), padding=(1, 1), bias=False)\n",
              "      (bn2): BatchNorm2d(256, eps=1e-05, momentum=0.1, affine=True, track_running_stats=True)\n",
              "      (downsample): Sequential(\n",
              "        (0): Conv2d(128, 256, kernel_size=(1, 1), stride=(2, 2), bias=False)\n",
              "        (1): BatchNorm2d(256, eps=1e-05, momentum=0.1, affine=True, track_running_stats=True)\n",
              "      )\n",
              "    )\n",
              "    (1): BasicBlock(\n",
              "      (conv1): Conv2d(256, 256, kernel_size=(3, 3), stride=(1, 1), padding=(1, 1), bias=False)\n",
              "      (bn1): BatchNorm2d(256, eps=1e-05, momentum=0.1, affine=True, track_running_stats=True)\n",
              "      (relu): ReLU(inplace=True)\n",
              "      (conv2): Conv2d(256, 256, kernel_size=(3, 3), stride=(1, 1), padding=(1, 1), bias=False)\n",
              "      (bn2): BatchNorm2d(256, eps=1e-05, momentum=0.1, affine=True, track_running_stats=True)\n",
              "    )\n",
              "  )\n",
              "  (layer4): Sequential(\n",
              "    (0): BasicBlock(\n",
              "      (conv1): Conv2d(256, 512, kernel_size=(3, 3), stride=(2, 2), padding=(1, 1), bias=False)\n",
              "      (bn1): BatchNorm2d(512, eps=1e-05, momentum=0.1, affine=True, track_running_stats=True)\n",
              "      (relu): ReLU(inplace=True)\n",
              "      (conv2): Conv2d(512, 512, kernel_size=(3, 3), stride=(1, 1), padding=(1, 1), bias=False)\n",
              "      (bn2): BatchNorm2d(512, eps=1e-05, momentum=0.1, affine=True, track_running_stats=True)\n",
              "      (downsample): Sequential(\n",
              "        (0): Conv2d(256, 512, kernel_size=(1, 1), stride=(2, 2), bias=False)\n",
              "        (1): BatchNorm2d(512, eps=1e-05, momentum=0.1, affine=True, track_running_stats=True)\n",
              "      )\n",
              "    )\n",
              "    (1): BasicBlock(\n",
              "      (conv1): Conv2d(512, 512, kernel_size=(3, 3), stride=(1, 1), padding=(1, 1), bias=False)\n",
              "      (bn1): BatchNorm2d(512, eps=1e-05, momentum=0.1, affine=True, track_running_stats=True)\n",
              "      (relu): ReLU(inplace=True)\n",
              "      (conv2): Conv2d(512, 512, kernel_size=(3, 3), stride=(1, 1), padding=(1, 1), bias=False)\n",
              "      (bn2): BatchNorm2d(512, eps=1e-05, momentum=0.1, affine=True, track_running_stats=True)\n",
              "    )\n",
              "  )\n",
              "  (avgpool): AdaptiveAvgPool2d(output_size=(1, 1))\n",
              "  (fc): Linear(in_features=512, out_features=5, bias=True)\n",
              ")"
            ]
          },
          "metadata": {},
          "execution_count": 71
        }
      ]
    },
    {
      "cell_type": "markdown",
      "source": [],
      "metadata": {
        "id": "3MK-hn-qt62v"
      }
    },
    {
      "cell_type": "code",
      "source": [
        "import json"
      ],
      "metadata": {
        "id": "cSgf1SxkGlrW"
      },
      "execution_count": null,
      "outputs": []
    },
    {
      "cell_type": "markdown",
      "source": [],
      "metadata": {
        "id": "uv_yiXqDGnfV"
      }
    },
    {
      "cell_type": "code",
      "source": [
        "with open('/content/drive/MyDrive/dog_classification/cat.json', 'w')  as outfile:\n",
        "  json.dump(DogDataSet.label_dict, outfile)"
      ],
      "metadata": {
        "id": "iWbIneQSGntD"
      },
      "execution_count": null,
      "outputs": []
    }
  ],
  "metadata": {
    "colab": {
      "provenance": [],
      "machine_shape": "hm",
      "gpuType": "V100",
      "include_colab_link": true
    },
    "kernelspec": {
      "display_name": "Python 3",
      "name": "python3"
    },
    "language_info": {
      "name": "python"
    },
    "accelerator": "GPU"
  },
  "nbformat": 4,
  "nbformat_minor": 0
}